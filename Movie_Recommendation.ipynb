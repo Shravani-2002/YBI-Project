{
  "nbformat": 4,
  "nbformat_minor": 0,
  "metadata": {
    "colab": {
      "provenance": [],
      "authorship_tag": "ABX9TyMGJjgnSc1UGQsXv6UvG0so",
      "include_colab_link": true
    },
    "kernelspec": {
      "name": "python3",
      "display_name": "Python 3"
    },
    "language_info": {
      "name": "python"
    }
  },
  "cells": [
    {
      "cell_type": "markdown",
      "metadata": {
        "id": "view-in-github",
        "colab_type": "text"
      },
      "source": [
        "<a href=\"https://colab.research.google.com/github/Shravani-2002/YBI-Project/blob/Project/Movie_Recommendation.ipynb\" target=\"_parent\"><img src=\"https://colab.research.google.com/assets/colab-badge.svg\" alt=\"Open In Colab\"/></a>"
      ]
    },
    {
      "cell_type": "code",
      "execution_count": null,
      "metadata": {
        "id": "yZnm1CSYULFy"
      },
      "outputs": [],
      "source": [
        "import pandas as pd"
      ]
    },
    {
      "cell_type": "code",
      "source": [
        "import numpy as np"
      ],
      "metadata": {
        "id": "-rQFIY7aWQUa"
      },
      "execution_count": null,
      "outputs": []
    },
    {
      "cell_type": "code",
      "source": [
        "df=pd.read_csv('https://raw.github.com/YBIFoundation/Dataset/main/Movies%20Recommendation.csv')"
      ],
      "metadata": {
        "id": "2zXQDKanWhRq"
      },
      "execution_count": null,
      "outputs": []
    },
    {
      "cell_type": "code",
      "source": [
        "df.head()"
      ],
      "metadata": {
        "colab": {
          "base_uri": "https://localhost:8080/",
          "height": 716
        },
        "id": "BGrL7VcEdlLD",
        "outputId": "94ec8ba4-5603-483e-8ba2-d1a29032aea7"
      },
      "execution_count": null,
      "outputs": [
        {
          "output_type": "execute_result",
          "data": {
            "text/plain": [
              "   Movie_ID      Movie_Title                       Movie_Genre Movie_Language  \\\n",
              "0         1       Four Rooms                      Crime Comedy             en   \n",
              "1         2        Star Wars  Adventure Action Science Fiction             en   \n",
              "2         3     Finding Nemo                  Animation Family             en   \n",
              "3         4     Forrest Gump              Comedy Drama Romance             en   \n",
              "4         5  American Beauty                             Drama             en   \n",
              "\n",
              "   Movie_Budget  Movie_Popularity Movie_Release_Date  Movie_Revenue  \\\n",
              "0       4000000         22.876230         09-12-1995        4300000   \n",
              "1      11000000        126.393695         25-05-1977      775398007   \n",
              "2      94000000         85.688789         30-05-2003      940335536   \n",
              "3      55000000        138.133331         06-07-1994      677945399   \n",
              "4      15000000         80.878605         15-09-1999      356296601   \n",
              "\n",
              "   Movie_Runtime  Movie_Vote  ...  \\\n",
              "0           98.0         6.5  ...   \n",
              "1          121.0         8.1  ...   \n",
              "2          100.0         7.6  ...   \n",
              "3          142.0         8.2  ...   \n",
              "4          122.0         7.9  ...   \n",
              "\n",
              "                                      Movie_Homepage  \\\n",
              "0                                                NaN   \n",
              "1  http://www.starwars.com/films/star-wars-episod...   \n",
              "2              http://movies.disney.com/finding-nemo   \n",
              "3                                                NaN   \n",
              "4                      http://www.dreamworks.com/ab/   \n",
              "\n",
              "                                      Movie_Keywords  \\\n",
              "0          hotel new year's eve witch bet hotel room   \n",
              "1        android galaxy hermit death star lightsaber   \n",
              "2  father son relationship harbor underwater fish...   \n",
              "3  vietnam veteran hippie mentally disabled runni...   \n",
              "4  male nudity female nudity adultery midlife cri...   \n",
              "\n",
              "                                      Movie_Overview  \\\n",
              "0  It's Ted the Bellhop's first night on the job....   \n",
              "1  Princess Leia is captured and held hostage by ...   \n",
              "2  Nemo, an adventurous young clownfish, is unexp...   \n",
              "3  A man with a low IQ has accomplished great thi...   \n",
              "4  Lester Burnham, a depressed suburban father in...   \n",
              "\n",
              "                              Movie_Production_House  \\\n",
              "0  [{\"name\": \"Miramax Films\", \"id\": 14}, {\"name\":...   \n",
              "1  [{\"name\": \"Lucasfilm\", \"id\": 1}, {\"name\": \"Twe...   \n",
              "2     [{\"name\": \"Pixar Animation Studios\", \"id\": 3}]   \n",
              "3          [{\"name\": \"Paramount Pictures\", \"id\": 4}]   \n",
              "4  [{\"name\": \"DreamWorks SKG\", \"id\": 27}, {\"name\"...   \n",
              "\n",
              "                            Movie_Production_Country  \\\n",
              "0  [{\"iso_3166_1\": \"US\", \"name\": \"United States o...   \n",
              "1  [{\"iso_3166_1\": \"US\", \"name\": \"United States o...   \n",
              "2  [{\"iso_3166_1\": \"US\", \"name\": \"United States o...   \n",
              "3  [{\"iso_3166_1\": \"US\", \"name\": \"United States o...   \n",
              "4  [{\"iso_3166_1\": \"US\", \"name\": \"United States o...   \n",
              "\n",
              "                      Movie_Spoken_Language  \\\n",
              "0  [{\"iso_639_1\": \"en\", \"name\": \"English\"}]   \n",
              "1  [{\"iso_639_1\": \"en\", \"name\": \"English\"}]   \n",
              "2  [{\"iso_639_1\": \"en\", \"name\": \"English\"}]   \n",
              "3  [{\"iso_639_1\": \"en\", \"name\": \"English\"}]   \n",
              "4  [{\"iso_639_1\": \"en\", \"name\": \"English\"}]   \n",
              "\n",
              "                                       Movie_Tagline  \\\n",
              "0  Twelve outrageous guests. Four scandalous requ...   \n",
              "1       A long time ago in a galaxy far, far away...   \n",
              "2  There are 3.7 trillion fish in the ocean, they...   \n",
              "3  The world will never be the same, once you've ...   \n",
              "4                                       Look closer.   \n",
              "\n",
              "                                          Movie_Cast  \\\n",
              "0  Tim Roth Antonio Banderas Jennifer Beals Madon...   \n",
              "1  Mark Hamill Harrison Ford Carrie Fisher Peter ...   \n",
              "2  Albert Brooks Ellen DeGeneres Alexander Gould ...   \n",
              "3  Tom Hanks Robin Wright Gary Sinise Mykelti Wil...   \n",
              "4  Kevin Spacey Annette Bening Thora Birch Wes Be...   \n",
              "\n",
              "                                          Movie_Crew   Movie_Director  \n",
              "0  [{'name': 'Allison Anders', 'gender': 1, 'depa...   Allison Anders  \n",
              "1  [{'name': 'George Lucas', 'gender': 2, 'depart...     George Lucas  \n",
              "2  [{'name': 'Andrew Stanton', 'gender': 2, 'depa...   Andrew Stanton  \n",
              "3  [{'name': 'Alan Silvestri', 'gender': 2, 'depa...  Robert Zemeckis  \n",
              "4  [{'name': 'Thomas Newman', 'gender': 2, 'depar...       Sam Mendes  \n",
              "\n",
              "[5 rows x 21 columns]"
            ],
            "text/html": [
              "\n",
              "  <div id=\"df-63e35951-6059-4555-affc-2239d5b4d39f\">\n",
              "    <div class=\"colab-df-container\">\n",
              "      <div>\n",
              "<style scoped>\n",
              "    .dataframe tbody tr th:only-of-type {\n",
              "        vertical-align: middle;\n",
              "    }\n",
              "\n",
              "    .dataframe tbody tr th {\n",
              "        vertical-align: top;\n",
              "    }\n",
              "\n",
              "    .dataframe thead th {\n",
              "        text-align: right;\n",
              "    }\n",
              "</style>\n",
              "<table border=\"1\" class=\"dataframe\">\n",
              "  <thead>\n",
              "    <tr style=\"text-align: right;\">\n",
              "      <th></th>\n",
              "      <th>Movie_ID</th>\n",
              "      <th>Movie_Title</th>\n",
              "      <th>Movie_Genre</th>\n",
              "      <th>Movie_Language</th>\n",
              "      <th>Movie_Budget</th>\n",
              "      <th>Movie_Popularity</th>\n",
              "      <th>Movie_Release_Date</th>\n",
              "      <th>Movie_Revenue</th>\n",
              "      <th>Movie_Runtime</th>\n",
              "      <th>Movie_Vote</th>\n",
              "      <th>...</th>\n",
              "      <th>Movie_Homepage</th>\n",
              "      <th>Movie_Keywords</th>\n",
              "      <th>Movie_Overview</th>\n",
              "      <th>Movie_Production_House</th>\n",
              "      <th>Movie_Production_Country</th>\n",
              "      <th>Movie_Spoken_Language</th>\n",
              "      <th>Movie_Tagline</th>\n",
              "      <th>Movie_Cast</th>\n",
              "      <th>Movie_Crew</th>\n",
              "      <th>Movie_Director</th>\n",
              "    </tr>\n",
              "  </thead>\n",
              "  <tbody>\n",
              "    <tr>\n",
              "      <th>0</th>\n",
              "      <td>1</td>\n",
              "      <td>Four Rooms</td>\n",
              "      <td>Crime Comedy</td>\n",
              "      <td>en</td>\n",
              "      <td>4000000</td>\n",
              "      <td>22.876230</td>\n",
              "      <td>09-12-1995</td>\n",
              "      <td>4300000</td>\n",
              "      <td>98.0</td>\n",
              "      <td>6.5</td>\n",
              "      <td>...</td>\n",
              "      <td>NaN</td>\n",
              "      <td>hotel new year's eve witch bet hotel room</td>\n",
              "      <td>It's Ted the Bellhop's first night on the job....</td>\n",
              "      <td>[{\"name\": \"Miramax Films\", \"id\": 14}, {\"name\":...</td>\n",
              "      <td>[{\"iso_3166_1\": \"US\", \"name\": \"United States o...</td>\n",
              "      <td>[{\"iso_639_1\": \"en\", \"name\": \"English\"}]</td>\n",
              "      <td>Twelve outrageous guests. Four scandalous requ...</td>\n",
              "      <td>Tim Roth Antonio Banderas Jennifer Beals Madon...</td>\n",
              "      <td>[{'name': 'Allison Anders', 'gender': 1, 'depa...</td>\n",
              "      <td>Allison Anders</td>\n",
              "    </tr>\n",
              "    <tr>\n",
              "      <th>1</th>\n",
              "      <td>2</td>\n",
              "      <td>Star Wars</td>\n",
              "      <td>Adventure Action Science Fiction</td>\n",
              "      <td>en</td>\n",
              "      <td>11000000</td>\n",
              "      <td>126.393695</td>\n",
              "      <td>25-05-1977</td>\n",
              "      <td>775398007</td>\n",
              "      <td>121.0</td>\n",
              "      <td>8.1</td>\n",
              "      <td>...</td>\n",
              "      <td>http://www.starwars.com/films/star-wars-episod...</td>\n",
              "      <td>android galaxy hermit death star lightsaber</td>\n",
              "      <td>Princess Leia is captured and held hostage by ...</td>\n",
              "      <td>[{\"name\": \"Lucasfilm\", \"id\": 1}, {\"name\": \"Twe...</td>\n",
              "      <td>[{\"iso_3166_1\": \"US\", \"name\": \"United States o...</td>\n",
              "      <td>[{\"iso_639_1\": \"en\", \"name\": \"English\"}]</td>\n",
              "      <td>A long time ago in a galaxy far, far away...</td>\n",
              "      <td>Mark Hamill Harrison Ford Carrie Fisher Peter ...</td>\n",
              "      <td>[{'name': 'George Lucas', 'gender': 2, 'depart...</td>\n",
              "      <td>George Lucas</td>\n",
              "    </tr>\n",
              "    <tr>\n",
              "      <th>2</th>\n",
              "      <td>3</td>\n",
              "      <td>Finding Nemo</td>\n",
              "      <td>Animation Family</td>\n",
              "      <td>en</td>\n",
              "      <td>94000000</td>\n",
              "      <td>85.688789</td>\n",
              "      <td>30-05-2003</td>\n",
              "      <td>940335536</td>\n",
              "      <td>100.0</td>\n",
              "      <td>7.6</td>\n",
              "      <td>...</td>\n",
              "      <td>http://movies.disney.com/finding-nemo</td>\n",
              "      <td>father son relationship harbor underwater fish...</td>\n",
              "      <td>Nemo, an adventurous young clownfish, is unexp...</td>\n",
              "      <td>[{\"name\": \"Pixar Animation Studios\", \"id\": 3}]</td>\n",
              "      <td>[{\"iso_3166_1\": \"US\", \"name\": \"United States o...</td>\n",
              "      <td>[{\"iso_639_1\": \"en\", \"name\": \"English\"}]</td>\n",
              "      <td>There are 3.7 trillion fish in the ocean, they...</td>\n",
              "      <td>Albert Brooks Ellen DeGeneres Alexander Gould ...</td>\n",
              "      <td>[{'name': 'Andrew Stanton', 'gender': 2, 'depa...</td>\n",
              "      <td>Andrew Stanton</td>\n",
              "    </tr>\n",
              "    <tr>\n",
              "      <th>3</th>\n",
              "      <td>4</td>\n",
              "      <td>Forrest Gump</td>\n",
              "      <td>Comedy Drama Romance</td>\n",
              "      <td>en</td>\n",
              "      <td>55000000</td>\n",
              "      <td>138.133331</td>\n",
              "      <td>06-07-1994</td>\n",
              "      <td>677945399</td>\n",
              "      <td>142.0</td>\n",
              "      <td>8.2</td>\n",
              "      <td>...</td>\n",
              "      <td>NaN</td>\n",
              "      <td>vietnam veteran hippie mentally disabled runni...</td>\n",
              "      <td>A man with a low IQ has accomplished great thi...</td>\n",
              "      <td>[{\"name\": \"Paramount Pictures\", \"id\": 4}]</td>\n",
              "      <td>[{\"iso_3166_1\": \"US\", \"name\": \"United States o...</td>\n",
              "      <td>[{\"iso_639_1\": \"en\", \"name\": \"English\"}]</td>\n",
              "      <td>The world will never be the same, once you've ...</td>\n",
              "      <td>Tom Hanks Robin Wright Gary Sinise Mykelti Wil...</td>\n",
              "      <td>[{'name': 'Alan Silvestri', 'gender': 2, 'depa...</td>\n",
              "      <td>Robert Zemeckis</td>\n",
              "    </tr>\n",
              "    <tr>\n",
              "      <th>4</th>\n",
              "      <td>5</td>\n",
              "      <td>American Beauty</td>\n",
              "      <td>Drama</td>\n",
              "      <td>en</td>\n",
              "      <td>15000000</td>\n",
              "      <td>80.878605</td>\n",
              "      <td>15-09-1999</td>\n",
              "      <td>356296601</td>\n",
              "      <td>122.0</td>\n",
              "      <td>7.9</td>\n",
              "      <td>...</td>\n",
              "      <td>http://www.dreamworks.com/ab/</td>\n",
              "      <td>male nudity female nudity adultery midlife cri...</td>\n",
              "      <td>Lester Burnham, a depressed suburban father in...</td>\n",
              "      <td>[{\"name\": \"DreamWorks SKG\", \"id\": 27}, {\"name\"...</td>\n",
              "      <td>[{\"iso_3166_1\": \"US\", \"name\": \"United States o...</td>\n",
              "      <td>[{\"iso_639_1\": \"en\", \"name\": \"English\"}]</td>\n",
              "      <td>Look closer.</td>\n",
              "      <td>Kevin Spacey Annette Bening Thora Birch Wes Be...</td>\n",
              "      <td>[{'name': 'Thomas Newman', 'gender': 2, 'depar...</td>\n",
              "      <td>Sam Mendes</td>\n",
              "    </tr>\n",
              "  </tbody>\n",
              "</table>\n",
              "<p>5 rows × 21 columns</p>\n",
              "</div>\n",
              "      <button class=\"colab-df-convert\" onclick=\"convertToInteractive('df-63e35951-6059-4555-affc-2239d5b4d39f')\"\n",
              "              title=\"Convert this dataframe to an interactive table.\"\n",
              "              style=\"display:none;\">\n",
              "        \n",
              "  <svg xmlns=\"http://www.w3.org/2000/svg\" height=\"24px\"viewBox=\"0 0 24 24\"\n",
              "       width=\"24px\">\n",
              "    <path d=\"M0 0h24v24H0V0z\" fill=\"none\"/>\n",
              "    <path d=\"M18.56 5.44l.94 2.06.94-2.06 2.06-.94-2.06-.94-.94-2.06-.94 2.06-2.06.94zm-11 1L8.5 8.5l.94-2.06 2.06-.94-2.06-.94L8.5 2.5l-.94 2.06-2.06.94zm10 10l.94 2.06.94-2.06 2.06-.94-2.06-.94-.94-2.06-.94 2.06-2.06.94z\"/><path d=\"M17.41 7.96l-1.37-1.37c-.4-.4-.92-.59-1.43-.59-.52 0-1.04.2-1.43.59L10.3 9.45l-7.72 7.72c-.78.78-.78 2.05 0 2.83L4 21.41c.39.39.9.59 1.41.59.51 0 1.02-.2 1.41-.59l7.78-7.78 2.81-2.81c.8-.78.8-2.07 0-2.86zM5.41 20L4 18.59l7.72-7.72 1.47 1.35L5.41 20z\"/>\n",
              "  </svg>\n",
              "      </button>\n",
              "      \n",
              "  <style>\n",
              "    .colab-df-container {\n",
              "      display:flex;\n",
              "      flex-wrap:wrap;\n",
              "      gap: 12px;\n",
              "    }\n",
              "\n",
              "    .colab-df-convert {\n",
              "      background-color: #E8F0FE;\n",
              "      border: none;\n",
              "      border-radius: 50%;\n",
              "      cursor: pointer;\n",
              "      display: none;\n",
              "      fill: #1967D2;\n",
              "      height: 32px;\n",
              "      padding: 0 0 0 0;\n",
              "      width: 32px;\n",
              "    }\n",
              "\n",
              "    .colab-df-convert:hover {\n",
              "      background-color: #E2EBFA;\n",
              "      box-shadow: 0px 1px 2px rgba(60, 64, 67, 0.3), 0px 1px 3px 1px rgba(60, 64, 67, 0.15);\n",
              "      fill: #174EA6;\n",
              "    }\n",
              "\n",
              "    [theme=dark] .colab-df-convert {\n",
              "      background-color: #3B4455;\n",
              "      fill: #D2E3FC;\n",
              "    }\n",
              "\n",
              "    [theme=dark] .colab-df-convert:hover {\n",
              "      background-color: #434B5C;\n",
              "      box-shadow: 0px 1px 3px 1px rgba(0, 0, 0, 0.15);\n",
              "      filter: drop-shadow(0px 1px 2px rgba(0, 0, 0, 0.3));\n",
              "      fill: #FFFFFF;\n",
              "    }\n",
              "  </style>\n",
              "\n",
              "      <script>\n",
              "        const buttonEl =\n",
              "          document.querySelector('#df-63e35951-6059-4555-affc-2239d5b4d39f button.colab-df-convert');\n",
              "        buttonEl.style.display =\n",
              "          google.colab.kernel.accessAllowed ? 'block' : 'none';\n",
              "\n",
              "        async function convertToInteractive(key) {\n",
              "          const element = document.querySelector('#df-63e35951-6059-4555-affc-2239d5b4d39f');\n",
              "          const dataTable =\n",
              "            await google.colab.kernel.invokeFunction('convertToInteractive',\n",
              "                                                     [key], {});\n",
              "          if (!dataTable) return;\n",
              "\n",
              "          const docLinkHtml = 'Like what you see? Visit the ' +\n",
              "            '<a target=\"_blank\" href=https://colab.research.google.com/notebooks/data_table.ipynb>data table notebook</a>'\n",
              "            + ' to learn more about interactive tables.';\n",
              "          element.innerHTML = '';\n",
              "          dataTable['output_type'] = 'display_data';\n",
              "          await google.colab.output.renderOutput(dataTable, element);\n",
              "          const docLink = document.createElement('div');\n",
              "          docLink.innerHTML = docLinkHtml;\n",
              "          element.appendChild(docLink);\n",
              "        }\n",
              "      </script>\n",
              "    </div>\n",
              "  </div>\n",
              "  "
            ]
          },
          "metadata": {},
          "execution_count": 4
        }
      ]
    },
    {
      "cell_type": "code",
      "source": [
        "df.info()\n"
      ],
      "metadata": {
        "colab": {
          "base_uri": "https://localhost:8080/"
        },
        "id": "mqiuTEoUdv0J",
        "outputId": "c933da8f-2a0e-41b3-cbba-9b87dcdae5d7"
      },
      "execution_count": null,
      "outputs": [
        {
          "output_type": "stream",
          "name": "stdout",
          "text": [
            "<class 'pandas.core.frame.DataFrame'>\n",
            "RangeIndex: 4760 entries, 0 to 4759\n",
            "Data columns (total 21 columns):\n",
            " #   Column                    Non-Null Count  Dtype  \n",
            "---  ------                    --------------  -----  \n",
            " 0   Movie_ID                  4760 non-null   int64  \n",
            " 1   Movie_Title               4760 non-null   object \n",
            " 2   Movie_Genre               4760 non-null   object \n",
            " 3   Movie_Language            4760 non-null   object \n",
            " 4   Movie_Budget              4760 non-null   int64  \n",
            " 5   Movie_Popularity          4760 non-null   float64\n",
            " 6   Movie_Release_Date        4760 non-null   object \n",
            " 7   Movie_Revenue             4760 non-null   int64  \n",
            " 8   Movie_Runtime             4758 non-null   float64\n",
            " 9   Movie_Vote                4760 non-null   float64\n",
            " 10  Movie_Vote_Count          4760 non-null   int64  \n",
            " 11  Movie_Homepage            1699 non-null   object \n",
            " 12  Movie_Keywords            4373 non-null   object \n",
            " 13  Movie_Overview            4757 non-null   object \n",
            " 14  Movie_Production_House    4760 non-null   object \n",
            " 15  Movie_Production_Country  4760 non-null   object \n",
            " 16  Movie_Spoken_Language     4760 non-null   object \n",
            " 17  Movie_Tagline             3942 non-null   object \n",
            " 18  Movie_Cast                4733 non-null   object \n",
            " 19  Movie_Crew                4760 non-null   object \n",
            " 20  Movie_Director            4738 non-null   object \n",
            "dtypes: float64(3), int64(4), object(14)\n",
            "memory usage: 781.1+ KB\n"
          ]
        }
      ]
    },
    {
      "cell_type": "code",
      "source": [
        "df.shape"
      ],
      "metadata": {
        "colab": {
          "base_uri": "https://localhost:8080/"
        },
        "id": "kb1wWrFQdv7t",
        "outputId": "bffde4e2-8c98-46ec-cb33-0ff1e9d3ea78"
      },
      "execution_count": null,
      "outputs": [
        {
          "output_type": "execute_result",
          "data": {
            "text/plain": [
              "(4760, 21)"
            ]
          },
          "metadata": {},
          "execution_count": 6
        }
      ]
    },
    {
      "cell_type": "code",
      "source": [
        "df.columns"
      ],
      "metadata": {
        "colab": {
          "base_uri": "https://localhost:8080/"
        },
        "id": "HBJazr1tdwDb",
        "outputId": "b76630b5-3e73-42d0-c85e-dff3de8ca950"
      },
      "execution_count": null,
      "outputs": [
        {
          "output_type": "execute_result",
          "data": {
            "text/plain": [
              "Index(['Movie_ID', 'Movie_Title', 'Movie_Genre', 'Movie_Language',\n",
              "       'Movie_Budget', 'Movie_Popularity', 'Movie_Release_Date',\n",
              "       'Movie_Revenue', 'Movie_Runtime', 'Movie_Vote', 'Movie_Vote_Count',\n",
              "       'Movie_Homepage', 'Movie_Keywords', 'Movie_Overview',\n",
              "       'Movie_Production_House', 'Movie_Production_Country',\n",
              "       'Movie_Spoken_Language', 'Movie_Tagline', 'Movie_Cast', 'Movie_Crew',\n",
              "       'Movie_Director'],\n",
              "      dtype='object')"
            ]
          },
          "metadata": {},
          "execution_count": 7
        }
      ]
    },
    {
      "cell_type": "code",
      "source": [
        "df_features = df[['Movie_Genre','Movie_Keywords','Movie_Tagline','Movie_Cast','Movie_Director']].fillna('')"
      ],
      "metadata": {
        "id": "7zCGShjSeP3Z"
      },
      "execution_count": null,
      "outputs": []
    },
    {
      "cell_type": "code",
      "source": [
        "df_features.shape"
      ],
      "metadata": {
        "colab": {
          "base_uri": "https://localhost:8080/"
        },
        "id": "Tp3bCt66fiSc",
        "outputId": "840ffa70-3282-4e85-85b0-810f9ea8df8b"
      },
      "execution_count": null,
      "outputs": [
        {
          "output_type": "execute_result",
          "data": {
            "text/plain": [
              "(4760, 5)"
            ]
          },
          "metadata": {},
          "execution_count": 9
        }
      ]
    },
    {
      "cell_type": "code",
      "source": [
        "df_features"
      ],
      "metadata": {
        "colab": {
          "base_uri": "https://localhost:8080/",
          "height": 424
        },
        "id": "CmTfkSBFfynB",
        "outputId": "001771cc-94b8-4eca-ea01-05d5ea484863"
      },
      "execution_count": null,
      "outputs": [
        {
          "output_type": "execute_result",
          "data": {
            "text/plain": [
              "                           Movie_Genre  \\\n",
              "0                         Crime Comedy   \n",
              "1     Adventure Action Science Fiction   \n",
              "2                     Animation Family   \n",
              "3                 Comedy Drama Romance   \n",
              "4                                Drama   \n",
              "...                                ...   \n",
              "4755                            Horror   \n",
              "4756               Comedy Family Drama   \n",
              "4757                    Thriller Drama   \n",
              "4758                            Family   \n",
              "4759                       Documentary   \n",
              "\n",
              "                                         Movie_Keywords  \\\n",
              "0             hotel new year's eve witch bet hotel room   \n",
              "1           android galaxy hermit death star lightsaber   \n",
              "2     father son relationship harbor underwater fish...   \n",
              "3     vietnam veteran hippie mentally disabled runni...   \n",
              "4     male nudity female nudity adultery midlife cri...   \n",
              "...                                                 ...   \n",
              "4755                                                      \n",
              "4756                                                      \n",
              "4757                     christian film sex trafficking   \n",
              "4758                                                      \n",
              "4759  music actors legendary perfomer classic hollyw...   \n",
              "\n",
              "                                          Movie_Tagline  \\\n",
              "0     Twelve outrageous guests. Four scandalous requ...   \n",
              "1          A long time ago in a galaxy far, far away...   \n",
              "2     There are 3.7 trillion fish in the ocean, they...   \n",
              "3     The world will never be the same, once you've ...   \n",
              "4                                          Look closer.   \n",
              "...                                                 ...   \n",
              "4755                The hot spot where Satan's waitin'.   \n",
              "4756           It’s better to stand out than to fit in.   \n",
              "4757           She never knew it could happen to her...   \n",
              "4758                                                      \n",
              "4759                                                      \n",
              "\n",
              "                                             Movie_Cast     Movie_Director  \n",
              "0     Tim Roth Antonio Banderas Jennifer Beals Madon...     Allison Anders  \n",
              "1     Mark Hamill Harrison Ford Carrie Fisher Peter ...       George Lucas  \n",
              "2     Albert Brooks Ellen DeGeneres Alexander Gould ...     Andrew Stanton  \n",
              "3     Tom Hanks Robin Wright Gary Sinise Mykelti Wil...    Robert Zemeckis  \n",
              "4     Kevin Spacey Annette Bening Thora Birch Wes Be...         Sam Mendes  \n",
              "...                                                 ...                ...  \n",
              "4755  Lisa Hart Carroll Michael Des Barres Paul Drak...         Pece Dingo  \n",
              "4756  Roni Akurati Brighton Sharbino Jason Lee Anjul...       Frank Lotito  \n",
              "4757  Nicole Smolen Kim Baldwin Ariana Stephens Brys...       Jaco Booyens  \n",
              "4758                                                                        \n",
              "4759                                    Tony Oppedisano  Simon Napier-Bell  \n",
              "\n",
              "[4760 rows x 5 columns]"
            ],
            "text/html": [
              "\n",
              "  <div id=\"df-7b4f043a-5bd8-4976-af98-8f68a3d6ad3c\">\n",
              "    <div class=\"colab-df-container\">\n",
              "      <div>\n",
              "<style scoped>\n",
              "    .dataframe tbody tr th:only-of-type {\n",
              "        vertical-align: middle;\n",
              "    }\n",
              "\n",
              "    .dataframe tbody tr th {\n",
              "        vertical-align: top;\n",
              "    }\n",
              "\n",
              "    .dataframe thead th {\n",
              "        text-align: right;\n",
              "    }\n",
              "</style>\n",
              "<table border=\"1\" class=\"dataframe\">\n",
              "  <thead>\n",
              "    <tr style=\"text-align: right;\">\n",
              "      <th></th>\n",
              "      <th>Movie_Genre</th>\n",
              "      <th>Movie_Keywords</th>\n",
              "      <th>Movie_Tagline</th>\n",
              "      <th>Movie_Cast</th>\n",
              "      <th>Movie_Director</th>\n",
              "    </tr>\n",
              "  </thead>\n",
              "  <tbody>\n",
              "    <tr>\n",
              "      <th>0</th>\n",
              "      <td>Crime Comedy</td>\n",
              "      <td>hotel new year's eve witch bet hotel room</td>\n",
              "      <td>Twelve outrageous guests. Four scandalous requ...</td>\n",
              "      <td>Tim Roth Antonio Banderas Jennifer Beals Madon...</td>\n",
              "      <td>Allison Anders</td>\n",
              "    </tr>\n",
              "    <tr>\n",
              "      <th>1</th>\n",
              "      <td>Adventure Action Science Fiction</td>\n",
              "      <td>android galaxy hermit death star lightsaber</td>\n",
              "      <td>A long time ago in a galaxy far, far away...</td>\n",
              "      <td>Mark Hamill Harrison Ford Carrie Fisher Peter ...</td>\n",
              "      <td>George Lucas</td>\n",
              "    </tr>\n",
              "    <tr>\n",
              "      <th>2</th>\n",
              "      <td>Animation Family</td>\n",
              "      <td>father son relationship harbor underwater fish...</td>\n",
              "      <td>There are 3.7 trillion fish in the ocean, they...</td>\n",
              "      <td>Albert Brooks Ellen DeGeneres Alexander Gould ...</td>\n",
              "      <td>Andrew Stanton</td>\n",
              "    </tr>\n",
              "    <tr>\n",
              "      <th>3</th>\n",
              "      <td>Comedy Drama Romance</td>\n",
              "      <td>vietnam veteran hippie mentally disabled runni...</td>\n",
              "      <td>The world will never be the same, once you've ...</td>\n",
              "      <td>Tom Hanks Robin Wright Gary Sinise Mykelti Wil...</td>\n",
              "      <td>Robert Zemeckis</td>\n",
              "    </tr>\n",
              "    <tr>\n",
              "      <th>4</th>\n",
              "      <td>Drama</td>\n",
              "      <td>male nudity female nudity adultery midlife cri...</td>\n",
              "      <td>Look closer.</td>\n",
              "      <td>Kevin Spacey Annette Bening Thora Birch Wes Be...</td>\n",
              "      <td>Sam Mendes</td>\n",
              "    </tr>\n",
              "    <tr>\n",
              "      <th>...</th>\n",
              "      <td>...</td>\n",
              "      <td>...</td>\n",
              "      <td>...</td>\n",
              "      <td>...</td>\n",
              "      <td>...</td>\n",
              "    </tr>\n",
              "    <tr>\n",
              "      <th>4755</th>\n",
              "      <td>Horror</td>\n",
              "      <td></td>\n",
              "      <td>The hot spot where Satan's waitin'.</td>\n",
              "      <td>Lisa Hart Carroll Michael Des Barres Paul Drak...</td>\n",
              "      <td>Pece Dingo</td>\n",
              "    </tr>\n",
              "    <tr>\n",
              "      <th>4756</th>\n",
              "      <td>Comedy Family Drama</td>\n",
              "      <td></td>\n",
              "      <td>It’s better to stand out than to fit in.</td>\n",
              "      <td>Roni Akurati Brighton Sharbino Jason Lee Anjul...</td>\n",
              "      <td>Frank Lotito</td>\n",
              "    </tr>\n",
              "    <tr>\n",
              "      <th>4757</th>\n",
              "      <td>Thriller Drama</td>\n",
              "      <td>christian film sex trafficking</td>\n",
              "      <td>She never knew it could happen to her...</td>\n",
              "      <td>Nicole Smolen Kim Baldwin Ariana Stephens Brys...</td>\n",
              "      <td>Jaco Booyens</td>\n",
              "    </tr>\n",
              "    <tr>\n",
              "      <th>4758</th>\n",
              "      <td>Family</td>\n",
              "      <td></td>\n",
              "      <td></td>\n",
              "      <td></td>\n",
              "      <td></td>\n",
              "    </tr>\n",
              "    <tr>\n",
              "      <th>4759</th>\n",
              "      <td>Documentary</td>\n",
              "      <td>music actors legendary perfomer classic hollyw...</td>\n",
              "      <td></td>\n",
              "      <td>Tony Oppedisano</td>\n",
              "      <td>Simon Napier-Bell</td>\n",
              "    </tr>\n",
              "  </tbody>\n",
              "</table>\n",
              "<p>4760 rows × 5 columns</p>\n",
              "</div>\n",
              "      <button class=\"colab-df-convert\" onclick=\"convertToInteractive('df-7b4f043a-5bd8-4976-af98-8f68a3d6ad3c')\"\n",
              "              title=\"Convert this dataframe to an interactive table.\"\n",
              "              style=\"display:none;\">\n",
              "        \n",
              "  <svg xmlns=\"http://www.w3.org/2000/svg\" height=\"24px\"viewBox=\"0 0 24 24\"\n",
              "       width=\"24px\">\n",
              "    <path d=\"M0 0h24v24H0V0z\" fill=\"none\"/>\n",
              "    <path d=\"M18.56 5.44l.94 2.06.94-2.06 2.06-.94-2.06-.94-.94-2.06-.94 2.06-2.06.94zm-11 1L8.5 8.5l.94-2.06 2.06-.94-2.06-.94L8.5 2.5l-.94 2.06-2.06.94zm10 10l.94 2.06.94-2.06 2.06-.94-2.06-.94-.94-2.06-.94 2.06-2.06.94z\"/><path d=\"M17.41 7.96l-1.37-1.37c-.4-.4-.92-.59-1.43-.59-.52 0-1.04.2-1.43.59L10.3 9.45l-7.72 7.72c-.78.78-.78 2.05 0 2.83L4 21.41c.39.39.9.59 1.41.59.51 0 1.02-.2 1.41-.59l7.78-7.78 2.81-2.81c.8-.78.8-2.07 0-2.86zM5.41 20L4 18.59l7.72-7.72 1.47 1.35L5.41 20z\"/>\n",
              "  </svg>\n",
              "      </button>\n",
              "      \n",
              "  <style>\n",
              "    .colab-df-container {\n",
              "      display:flex;\n",
              "      flex-wrap:wrap;\n",
              "      gap: 12px;\n",
              "    }\n",
              "\n",
              "    .colab-df-convert {\n",
              "      background-color: #E8F0FE;\n",
              "      border: none;\n",
              "      border-radius: 50%;\n",
              "      cursor: pointer;\n",
              "      display: none;\n",
              "      fill: #1967D2;\n",
              "      height: 32px;\n",
              "      padding: 0 0 0 0;\n",
              "      width: 32px;\n",
              "    }\n",
              "\n",
              "    .colab-df-convert:hover {\n",
              "      background-color: #E2EBFA;\n",
              "      box-shadow: 0px 1px 2px rgba(60, 64, 67, 0.3), 0px 1px 3px 1px rgba(60, 64, 67, 0.15);\n",
              "      fill: #174EA6;\n",
              "    }\n",
              "\n",
              "    [theme=dark] .colab-df-convert {\n",
              "      background-color: #3B4455;\n",
              "      fill: #D2E3FC;\n",
              "    }\n",
              "\n",
              "    [theme=dark] .colab-df-convert:hover {\n",
              "      background-color: #434B5C;\n",
              "      box-shadow: 0px 1px 3px 1px rgba(0, 0, 0, 0.15);\n",
              "      filter: drop-shadow(0px 1px 2px rgba(0, 0, 0, 0.3));\n",
              "      fill: #FFFFFF;\n",
              "    }\n",
              "  </style>\n",
              "\n",
              "      <script>\n",
              "        const buttonEl =\n",
              "          document.querySelector('#df-7b4f043a-5bd8-4976-af98-8f68a3d6ad3c button.colab-df-convert');\n",
              "        buttonEl.style.display =\n",
              "          google.colab.kernel.accessAllowed ? 'block' : 'none';\n",
              "\n",
              "        async function convertToInteractive(key) {\n",
              "          const element = document.querySelector('#df-7b4f043a-5bd8-4976-af98-8f68a3d6ad3c');\n",
              "          const dataTable =\n",
              "            await google.colab.kernel.invokeFunction('convertToInteractive',\n",
              "                                                     [key], {});\n",
              "          if (!dataTable) return;\n",
              "\n",
              "          const docLinkHtml = 'Like what you see? Visit the ' +\n",
              "            '<a target=\"_blank\" href=https://colab.research.google.com/notebooks/data_table.ipynb>data table notebook</a>'\n",
              "            + ' to learn more about interactive tables.';\n",
              "          element.innerHTML = '';\n",
              "          dataTable['output_type'] = 'display_data';\n",
              "          await google.colab.output.renderOutput(dataTable, element);\n",
              "          const docLink = document.createElement('div');\n",
              "          docLink.innerHTML = docLinkHtml;\n",
              "          element.appendChild(docLink);\n",
              "        }\n",
              "      </script>\n",
              "    </div>\n",
              "  </div>\n",
              "  "
            ]
          },
          "metadata": {},
          "execution_count": 10
        }
      ]
    },
    {
      "cell_type": "code",
      "source": [
        "x = df_features['Movie_Genre']+''+df_features['Movie_Tagline']+''+df_features['Movie_Cast']+''+df_features['Movie_Director']"
      ],
      "metadata": {
        "id": "j06Igj9yf2_W"
      },
      "execution_count": null,
      "outputs": []
    },
    {
      "cell_type": "code",
      "source": [
        "x"
      ],
      "metadata": {
        "colab": {
          "base_uri": "https://localhost:8080/"
        },
        "id": "jnTIMM_FhMsp",
        "outputId": "a3b33253-a9f5-48e9-d1a7-eebe18910bef"
      },
      "execution_count": null,
      "outputs": [
        {
          "output_type": "execute_result",
          "data": {
            "text/plain": [
              "0       Crime ComedyTwelve outrageous guests. Four sca...\n",
              "1       Adventure Action Science FictionA long time ag...\n",
              "2       Animation FamilyThere are 3.7 trillion fish in...\n",
              "3       Comedy Drama RomanceThe world will never be th...\n",
              "4       DramaLook closer.Kevin Spacey Annette Bening T...\n",
              "                              ...                        \n",
              "4755    HorrorThe hot spot where Satan's waitin'.Lisa ...\n",
              "4756    Comedy Family DramaIt’s better to stand out th...\n",
              "4757    Thriller DramaShe never knew it could happen t...\n",
              "4758                                               Family\n",
              "4759          DocumentaryTony OppedisanoSimon Napier-Bell\n",
              "Length: 4760, dtype: object"
            ]
          },
          "metadata": {},
          "execution_count": 12
        }
      ]
    },
    {
      "cell_type": "code",
      "source": [
        "x.shape"
      ],
      "metadata": {
        "colab": {
          "base_uri": "https://localhost:8080/"
        },
        "id": "dJMVAcwNhTHq",
        "outputId": "cac69b1a-24cc-4251-95e7-909658d082a1"
      },
      "execution_count": null,
      "outputs": [
        {
          "output_type": "execute_result",
          "data": {
            "text/plain": [
              "(4760,)"
            ]
          },
          "metadata": {},
          "execution_count": 13
        }
      ]
    },
    {
      "cell_type": "code",
      "source": [
        "#Get Feature Text Conversin to Tokens\n",
        "from sklearn.feature_extraction.text import TfidfVectorizer"
      ],
      "metadata": {
        "id": "ezoV0D3CiFUj"
      },
      "execution_count": null,
      "outputs": []
    },
    {
      "cell_type": "code",
      "source": [
        "tfidf = TfidfVectorizer()"
      ],
      "metadata": {
        "id": "8qN36cqkis8v"
      },
      "execution_count": null,
      "outputs": []
    },
    {
      "cell_type": "code",
      "source": [
        "x = tfidf.fit_transform(x)"
      ],
      "metadata": {
        "id": "Q1ii3Gtui4Zx"
      },
      "execution_count": null,
      "outputs": []
    },
    {
      "cell_type": "code",
      "source": [
        "x.shape"
      ],
      "metadata": {
        "colab": {
          "base_uri": "https://localhost:8080/"
        },
        "id": "-3TmBKNLi4cC",
        "outputId": "0e228068-07f0-4725-c4c2-26eb78652c8b"
      },
      "execution_count": null,
      "outputs": [
        {
          "output_type": "execute_result",
          "data": {
            "text/plain": [
              "(4760, 20773)"
            ]
          },
          "metadata": {},
          "execution_count": 17
        }
      ]
    },
    {
      "cell_type": "code",
      "source": [
        "print(x)"
      ],
      "metadata": {
        "colab": {
          "base_uri": "https://localhost:8080/"
        },
        "id": "qSXFV1jqi4fi",
        "outputId": "487f0211-05c9-4772-a5d9-8f15b9a95f27"
      },
      "execution_count": null,
      "outputs": [
        {
          "output_type": "stream",
          "name": "stdout",
          "text": [
            "  (0, 719)\t0.18263837447168998\n",
            "  (0, 18637)\t0.22041896694563817\n",
            "  (0, 12098)\t0.16018675795760728\n",
            "  (0, 11874)\t0.19282316419373013\n",
            "  (0, 1530)\t0.20300795391577028\n",
            "  (0, 9975)\t0.11180202074365972\n",
            "  (0, 1335)\t0.15907018381718277\n",
            "  (0, 860)\t0.15697573934650574\n",
            "  (0, 16039)\t0.16018675795760728\n",
            "  (0, 18572)\t0.12807477123156424\n",
            "  (0, 11371)\t0.11480220901023723\n",
            "  (0, 13828)\t0.08007408504922321\n",
            "  (0, 6280)\t0.18263837447168998\n",
            "  (0, 20536)\t0.15239604387923\n",
            "  (0, 13564)\t0.1300588639282499\n",
            "  (0, 20157)\t0.1974028596610059\n",
            "  (0, 7244)\t0.0988379748291519\n",
            "  (0, 20115)\t0.12594220059800715\n",
            "  (0, 10048)\t0.16818592785603456\n",
            "  (0, 18108)\t0.12453278004185604\n",
            "  (0, 13911)\t0.10838557103189954\n",
            "  (0, 4620)\t0.13671804775849378\n",
            "  (0, 7128)\t0.14111896110338787\n",
            "  (0, 9045)\t0.22704631670295972\n",
            "  (0, 9632)\t0.18253328031064325\n",
            "  :\t:\n",
            "  (4756, 3517)\t0.07371153418700764\n",
            "  (4756, 9632)\t0.11380075573308818\n",
            "  (4757, 2122)\t0.3070308854517143\n",
            "  (4757, 7500)\t0.3070308854517143\n",
            "  (4757, 2472)\t0.3070308854517143\n",
            "  (4757, 932)\t0.3070308854517143\n",
            "  (4757, 17158)\t0.3070308854517143\n",
            "  (4757, 17501)\t0.27497077784312024\n",
            "  (4757, 1303)\t0.20789954915328918\n",
            "  (4757, 4021)\t0.21227888389077768\n",
            "  (4757, 8512)\t0.23215208431960302\n",
            "  (4757, 5624)\t0.2585258151190865\n",
            "  (4757, 13615)\t0.20309901743695805\n",
            "  (4757, 10716)\t0.2507182426768063\n",
            "  (4757, 8883)\t0.18631922907444445\n",
            "  (4757, 10610)\t0.191070790856661\n",
            "  (4757, 18214)\t0.11752688232984108\n",
            "  (4757, 18604)\t0.10682551476325972\n",
            "  (4757, 9770)\t0.1335084076533487\n",
            "  (4757, 13560)\t0.1601749352427589\n",
            "  (4758, 6444)\t1.0\n",
            "  (4759, 13938)\t0.5540056858546029\n",
            "  (4759, 5141)\t0.5540056858546029\n",
            "  (4759, 13430)\t0.5102444780570257\n",
            "  (4759, 1650)\t0.3546913766838091\n"
          ]
        }
      ]
    },
    {
      "cell_type": "code",
      "source": [
        "from sklearn.metrics.pairwise import cosine_similarity"
      ],
      "metadata": {
        "id": "luFZhFTbjbhU"
      },
      "execution_count": null,
      "outputs": []
    },
    {
      "cell_type": "code",
      "source": [
        "Similarity_Score = cosine_similarity(x)"
      ],
      "metadata": {
        "id": "Rua2t9qDjbvE"
      },
      "execution_count": null,
      "outputs": []
    },
    {
      "cell_type": "code",
      "source": [
        "Similarity_Score.shape"
      ],
      "metadata": {
        "id": "qGfwU043jb8H",
        "colab": {
          "base_uri": "https://localhost:8080/"
        },
        "outputId": "84a9135a-dfbb-4ab9-bd14-18d97c2fec8f"
      },
      "execution_count": null,
      "outputs": [
        {
          "output_type": "execute_result",
          "data": {
            "text/plain": [
              "(4760, 4760)"
            ]
          },
          "metadata": {},
          "execution_count": 21
        }
      ]
    },
    {
      "cell_type": "code",
      "source": [
        "Similarity_Score\n"
      ],
      "metadata": {
        "id": "PcHr8ts5jb_T",
        "colab": {
          "base_uri": "https://localhost:8080/"
        },
        "outputId": "ea5f3bd7-0eae-4aaf-93fa-0ef8c54ba439"
      },
      "execution_count": null,
      "outputs": [
        {
          "output_type": "execute_result",
          "data": {
            "text/plain": [
              "array([[1.        , 0.0217708 , 0.05725531, ..., 0.        , 0.        ,\n",
              "        0.        ],\n",
              "       [0.0217708 , 1.        , 0.01398507, ..., 0.        , 0.        ,\n",
              "        0.        ],\n",
              "       [0.05725531, 0.01398507, 1.        , ..., 0.        , 0.        ,\n",
              "        0.        ],\n",
              "       ...,\n",
              "       [0.        , 0.        , 0.        , ..., 1.        , 0.        ,\n",
              "        0.        ],\n",
              "       [0.        , 0.        , 0.        , ..., 0.        , 1.        ,\n",
              "        0.        ],\n",
              "       [0.        , 0.        , 0.        , ..., 0.        , 0.        ,\n",
              "        1.        ]])"
            ]
          },
          "metadata": {},
          "execution_count": 22
        }
      ]
    },
    {
      "cell_type": "code",
      "source": [
        "Favourite_Movie_Name = input('Enter your Favourite movie name :')"
      ],
      "metadata": {
        "id": "VJJtXMc6be8r",
        "colab": {
          "base_uri": "https://localhost:8080/"
        },
        "outputId": "daf62e1b-34a8-4527-f469-9f8e7bde35e4"
      },
      "execution_count": null,
      "outputs": [
        {
          "name": "stdout",
          "output_type": "stream",
          "text": [
            "Enter your Favourite movie name :Avengers\n"
          ]
        }
      ]
    },
    {
      "cell_type": "code",
      "source": [
        "All_Movies_Title_List = df['Movie_Title'].tolist()"
      ],
      "metadata": {
        "id": "Y8A1a8qYqh7C"
      },
      "execution_count": null,
      "outputs": []
    },
    {
      "cell_type": "code",
      "source": [
        "import difflib"
      ],
      "metadata": {
        "id": "XNFa3p4eqh_k"
      },
      "execution_count": null,
      "outputs": []
    },
    {
      "cell_type": "code",
      "source": [
        "Movie_Recommendation = difflib.get_close_matches(Favourite_Movie_Name, All_Movies_Title_List)\n",
        "print(Movie_Recommendation)"
      ],
      "metadata": {
        "id": "5QnTgeZvYzkZ",
        "colab": {
          "base_uri": "https://localhost:8080/"
        },
        "outputId": "9fbb0ae5-c25c-4404-f990-b6e03c081784"
      },
      "execution_count": null,
      "outputs": [
        {
          "output_type": "stream",
          "name": "stdout",
          "text": [
            "['The Avengers', 'Swingers']\n"
          ]
        }
      ]
    },
    {
      "cell_type": "code",
      "source": [
        "Close_Match = Movie_Recommendation[0]\n",
        "print(Close_Match)"
      ],
      "metadata": {
        "colab": {
          "base_uri": "https://localhost:8080/"
        },
        "id": "EscAL3jJrYmO",
        "outputId": "4aaf0e17-3144-4424-abdb-ff39a272c680"
      },
      "execution_count": null,
      "outputs": [
        {
          "output_type": "stream",
          "name": "stdout",
          "text": [
            "The Avengers\n"
          ]
        }
      ]
    },
    {
      "cell_type": "code",
      "source": [
        "Index_of_Close_Match_Movie = df[df.Movie_Title == Close_Match]['Movie_ID'].values[0]\n",
        "print(Index_of_Close_Match_Movie)"
      ],
      "metadata": {
        "colab": {
          "base_uri": "https://localhost:8080/"
        },
        "id": "u7UAW7A4rYoz",
        "outputId": "507b6d4e-0f36-463d-f062-f91f53dc54b7"
      },
      "execution_count": null,
      "outputs": [
        {
          "output_type": "stream",
          "name": "stdout",
          "text": [
            "2851\n"
          ]
        }
      ]
    },
    {
      "cell_type": "code",
      "source": [
        "#getting a list for similar movies\n",
        "Recommendation_Score = list(enumerate(Similarity_Score[Index_of_Close_Match_Movie]))\n",
        "print(Recommendation_Score)"
      ],
      "metadata": {
        "colab": {
          "base_uri": "https://localhost:8080/"
        },
        "id": "6zxtNpYMrYsN",
        "outputId": "6f67dfc9-3bd9-4b28-b81f-4dfaaa8734d7"
      },
      "execution_count": null,
      "outputs": [
        {
          "output_type": "stream",
          "name": "stdout",
          "text": [
            "[(0, 0.0), (1, 0.0), (2, 0.024053394090071536), (3, 0.0), (4, 0.0), (5, 0.011893251873645693), (6, 0.0), (7, 0.0), (8, 0.0), (9, 0.012290992907489856), (10, 0.0), (11, 0.014250123228506361), (12, 0.0), (13, 0.0), (14, 0.027662935187728263), (15, 0.0), (16, 0.0), (17, 0.0), (18, 0.025991504555336182), (19, 0.06271187626453506), (20, 0.0), (21, 0.0), (22, 0.0), (23, 0.0), (24, 0.0), (25, 0.009914420291919362), (26, 0.0), (27, 0.0), (28, 0.0), (29, 0.0), (30, 0.026203231347382533), (31, 0.0), (32, 0.0), (33, 0.0), (34, 0.03666052283714334), (35, 0.0), (36, 0.0), (37, 0.0), (38, 0.0), (39, 0.0), (40, 0.0), (41, 0.0), (42, 0.0118722446288999), (43, 0.0), (44, 0.0), (45, 0.04178951502034185), (46, 0.0), (47, 0.0), (48, 0.0), (49, 0.012086093859397145), (50, 0.0), (51, 0.0), (52, 0.04034833233469349), (53, 0.0), (54, 0.012519565482275409), (55, 0.0), (56, 0.0), (57, 0.0), (58, 0.00978253938868047), (59, 0.0), (60, 0.0), (61, 0.0), (62, 0.0), (63, 0.0), (64, 0.03664750913138793), (65, 0.029678997688021083), (66, 0.013203075645790959), (67, 0.026261107201278062), (68, 0.0), (69, 0.02734604013575096), (70, 0.0), (71, 0.0), (72, 0.0), (73, 0.0), (74, 0.0), (75, 0.035564397538767535), (76, 0.009934264080290288), (77, 0.0), (78, 0.025024790299321645), (79, 0.0), (80, 0.029334519192787654), (81, 0.0), (82, 0.025255656642517887), (83, 0.0), (84, 0.0), (85, 0.0), (86, 0.0), (87, 0.0), (88, 0.0), (89, 0.0), (90, 0.046414319024200644), (91, 0.0), (92, 0.0), (93, 0.04157384469590789), (94, 0.04048077123779615), (95, 0.042852258143267055), (96, 0.0), (97, 0.0), (98, 0.0), (99, 0.0), (100, 0.0), (101, 0.0), (102, 0.0), (103, 0.0), (104, 0.0), (105, 0.03930012108473208), (106, 0.00938009058383061), (107, 0.0), (108, 0.017916854778122337), (109, 0.0), (110, 0.0), (111, 0.011113392825073176), (112, 0.0), (113, 0.02454567899463642), (114, 0.0), (115, 0.025350540871822137), (116, 0.12695489866572476), (117, 0.0), (118, 0.0), (119, 0.0), (120, 0.0), (121, 0.0), (122, 0.0), (123, 0.0), (124, 0.0), (125, 0.0), (126, 0.0), (127, 0.0), (128, 0.0), (129, 0.0), (130, 0.0), (131, 0.01247942441652094), (132, 0.0), (133, 0.0), (134, 0.0), (135, 0.0), (136, 0.0), (137, 0.0396657843281307), (138, 0.0), (139, 0.0), (140, 0.0), (141, 0.0), (142, 0.0), (143, 0.0), (144, 0.0), (145, 0.0), (146, 0.0), (147, 0.0), (148, 0.0), (149, 0.0), (150, 0.0), (151, 0.0), (152, 0.028069080245910427), (153, 0.0), (154, 0.025949640499940533), (155, 0.02576086110732806), (156, 0.027038278695082612), (157, 0.0), (158, 0.0), (159, 0.0), (160, 0.0), (161, 0.010654952009241646), (162, 0.0), (163, 0.0), (164, 0.0), (165, 0.0), (166, 0.0), (167, 0.0), (168, 0.0), (169, 0.0), (170, 0.0), (171, 0.0), (172, 0.0), (173, 0.029426603174714124), (174, 0.0), (175, 0.0), (176, 0.0), (177, 0.0), (178, 0.026962965906291377), (179, 0.026417321218982864), (180, 0.0), (181, 0.0), (182, 0.0), (183, 0.0), (184, 0.0), (185, 0.0), (186, 0.0), (187, 0.0), (188, 0.0), (189, 0.0), (190, 0.0), (191, 0.010606469357452825), (192, 0.02847388373422485), (193, 0.012287985743118512), (194, 0.0), (195, 0.020427317868965487), (196, 0.01966976121854322), (197, 0.0), (198, 0.05888791816158725), (199, 0.0), (200, 0.0), (201, 0.0), (202, 0.02591017559667786), (203, 0.0), (204, 0.012692511698892186), (205, 0.012312240605313685), (206, 0.0), (207, 0.0), (208, 0.0), (209, 0.0), (210, 0.0), (211, 0.0), (212, 0.0), (213, 0.027215080663620817), (214, 0.0), (215, 0.011605113241766666), (216, 0.0), (217, 0.029846512865761017), (218, 0.0), (219, 0.0), (220, 0.0), (221, 0.0), (222, 0.0), (223, 0.0), (224, 0.0), (225, 0.0), (226, 0.0), (227, 0.0), (228, 0.0), (229, 0.0), (230, 0.0), (231, 0.0), (232, 0.0), (233, 0.0), (234, 0.0), (235, 0.0), (236, 0.030913508155615096), (237, 0.03024065337761515), (238, 0.0), (239, 0.0), (240, 0.01121597495414979), (241, 0.0), (242, 0.010404812783405002), (243, 0.008665648775844526), (244, 0.0), (245, 0.0), (246, 0.030497509262425667), (247, 0.0), (248, 0.0), (249, 0.02972937195572291), (250, 0.0), (251, 0.0), (252, 0.0), (253, 0.0), (254, 0.0), (255, 0.0), (256, 0.0), (257, 0.0), (258, 0.0), (259, 0.012789395176665488), (260, 0.0), (261, 0.0), (262, 0.0), (263, 0.0), (264, 0.0), (265, 0.0), (266, 0.024451065727109568), (267, 0.0), (268, 0.0), (269, 0.023774599310807804), (270, 0.012481506939950832), (271, 0.0), (272, 0.0), (273, 0.0), (274, 0.0), (275, 0.0), (276, 0.0), (277, 0.009757050363022846), (278, 0.0), (279, 0.0), (280, 0.0), (281, 0.0), (282, 0.0), (283, 0.0), (284, 0.0), (285, 0.0), (286, 0.0), (287, 0.0), (288, 0.00951893407342753), (289, 0.0), (290, 0.0), (291, 0.0), (292, 0.0), (293, 0.0), (294, 0.009032339624975325), (295, 0.0), (296, 0.0), (297, 0.03808331826184979), (298, 0.03745830648944519), (299, 0.034883657044128005), (300, 0.03429056478174385), (301, 0.035976912554229155), (302, 0.051485570118563875), (303, 0.0), (304, 0.022992800895666913), (305, 0.05569234546628314), (306, 0.01103793011586699), (307, 0.0), (308, 0.0), (309, 0.00956509075885709), (310, 0.0), (311, 0.0), (312, 0.0), (313, 0.0), (314, 0.01098398747193917), (315, 0.01157315598804814), (316, 0.0), (317, 0.01125820299378478), (318, 0.0), (319, 0.0), (320, 0.0), (321, 0.011903136265048284), (322, 0.011754824905970818), (323, 0.0), (324, 0.011090360499149745), (325, 0.012060825058520002), (326, 0.0), (327, 0.0), (328, 0.0), (329, 0.0), (330, 0.007891256126516475), (331, 0.0), (332, 0.0), (333, 0.011442208550589734), (334, 0.010095810865310651), (335, 0.0), (336, 0.0), (337, 0.0), (338, 0.011461805748229135), (339, 0.0), (340, 0.0), (341, 0.0), (342, 0.0), (343, 0.0), (344, 0.03835531638075791), (345, 0.03231217172232162), (346, 0.0), (347, 0.0), (348, 0.0), (349, 0.0), (350, 0.0), (351, 0.0), (352, 0.0), (353, 0.0), (354, 0.0), (355, 0.0), (356, 0.0), (357, 0.02119401325329358), (358, 0.0), (359, 0.0), (360, 0.012193370632591771), (361, 0.0), (362, 0.0), (363, 0.0), (364, 0.0), (365, 0.0), (366, 0.009265619659917023), (367, 0.0), (368, 0.0), (369, 0.0), (370, 0.0), (371, 0.0), (372, 0.0), (373, 0.0), (374, 0.0267882147968472), (375, 0.0), (376, 0.0), (377, 0.0), (378, 0.02696208688323637), (379, 0.0), (380, 0.030906131037196045), (381, 0.0), (382, 0.0), (383, 0.0), (384, 0.040029876099054375), (385, 0.013314419291752198), (386, 0.03244043580277234), (387, 0.0), (388, 0.0), (389, 0.0), (390, 0.0), (391, 0.0), (392, 0.029604514561274973), (393, 0.0), (394, 0.010051149416530378), (395, 0.0), (396, 0.0), (397, 0.0), (398, 0.0), (399, 0.187556974837786), (400, 0.0), (401, 0.0), (402, 0.0), (403, 0.0), (404, 0.0), (405, 0.013087532687706998), (406, 0.0), (407, 0.0), (408, 0.03320701705556863), (409, 0.0), (410, 0.01197103489566098), (411, 0.0), (412, 0.0), (413, 0.0), (414, 0.023186424226905596), (415, 0.0), (416, 0.0), (417, 0.0), (418, 0.0), (419, 0.0), (420, 0.0), (421, 0.027754650588492462), (422, 0.0), (423, 0.0), (424, 0.03874006905818183), (425, 0.0), (426, 0.0), (427, 0.0), (428, 0.0), (429, 0.0), (430, 0.04345835043346245), (431, 0.0), (432, 0.0), (433, 0.009424694545095104), (434, 0.0), (435, 0.020882869313727518), (436, 0.0), (437, 0.0), (438, 0.0), (439, 0.011954437210597458), (440, 0.0), (441, 0.0), (442, 0.0), (443, 0.0), (444, 0.0), (445, 0.010422519034271214), (446, 0.0), (447, 0.011859933277362233), (448, 0.0), (449, 0.0), (450, 0.0), (451, 0.044053485345237994), (452, 0.0), (453, 0.0204006738942181), (454, 0.0), (455, 0.0), (456, 0.012255813517936691), (457, 0.0), (458, 0.0), (459, 0.0), (460, 0.0), (461, 0.0), (462, 0.0), (463, 0.03899003725438078), (464, 0.011615478306307254), (465, 0.0), (466, 0.011545131963143246), (467, 0.0), (468, 0.0), (469, 0.009653156112341242), (470, 0.0), (471, 0.0), (472, 0.012833448244760796), (473, 0.0), (474, 0.0), (475, 0.022698088319306108), (476, 0.0), (477, 0.0), (478, 0.0), (479, 0.0), (480, 0.0), (481, 0.0), (482, 0.0), (483, 0.0), (484, 0.0), (485, 0.012591682282597168), (486, 0.0), (487, 0.0), (488, 0.0), (489, 0.0), (490, 0.0), (491, 0.0), (492, 0.011530590385165605), (493, 0.0), (494, 0.027322661012897438), (495, 0.02232816318425095), (496, 0.0), (497, 0.0), (498, 0.025077724215698885), (499, 0.0), (500, 0.0), (501, 0.010211551895043023), (502, 0.0), (503, 0.0), (504, 0.0), (505, 0.0), (506, 0.009387336418868266), (507, 0.0), (508, 0.0), (509, 0.02993170947115157), (510, 0.008881301720351571), (511, 0.011013317900207799), (512, 0.0), (513, 0.0), (514, 0.0302089079105897), (515, 0.0), (516, 0.0), (517, 0.012346685790777483), (518, 0.0), (519, 0.0), (520, 0.032626259387232126), (521, 0.0), (522, 0.03957785015875905), (523, 0.0), (524, 0.027900325188203453), (525, 0.0), (526, 0.0), (527, 0.0), (528, 0.012925547924710498), (529, 0.0), (530, 0.0), (531, 0.0), (532, 0.0), (533, 0.0), (534, 0.0), (535, 0.0), (536, 0.0), (537, 0.0), (538, 0.0), (539, 0.0), (540, 0.0285052265581191), (541, 0.02529987414380298), (542, 0.008018592113664366), (543, 0.0), (544, 0.0), (545, 0.03712760943578394), (546, 0.050853819698407854), (547, 0.0), (548, 0.0), (549, 0.0), (550, 0.0), (551, 0.0), (552, 0.0), (553, 0.02618386972100712), (554, 0.0), (555, 0.0), (556, 0.011815583809371585), (557, 0.0), (558, 0.0237606102004006), (559, 0.02446148523033683), (560, 0.0), (561, 0.008067555308338007), (562, 0.04785453028048455), (563, 0.02067784708625054), (564, 0.0), (565, 0.02760614040836178), (566, 0.0), (567, 0.0), (568, 0.0), (569, 0.035637749378146136), (570, 0.0), (571, 0.0), (572, 0.0), (573, 0.0), (574, 0.0), (575, 0.0), (576, 0.0), (577, 0.010308520796065772), (578, 0.011686273136619584), (579, 0.0), (580, 0.0), (581, 0.0), (582, 0.0), (583, 0.010791668784014153), (584, 0.0), (585, 0.0), (586, 0.0), (587, 0.0), (588, 0.0), (589, 0.0), (590, 0.0), (591, 0.0), (592, 0.0), (593, 0.0), (594, 0.0), (595, 0.0), (596, 0.0), (597, 0.02440843403687665), (598, 0.0), (599, 0.0), (600, 0.0), (601, 0.0), (602, 0.0), (603, 0.0), (604, 0.0), (605, 0.0), (606, 0.0), (607, 0.0), (608, 0.0), (609, 0.009193119997104635), (610, 0.0332082032729158), (611, 0.025401139669602946), (612, 0.011946509712716467), (613, 0.0), (614, 0.0), (615, 0.0), (616, 0.0), (617, 0.0), (618, 0.0), (619, 0.0), (620, 0.0), (621, 0.029625369314984246), (622, 0.02451584308622584), (623, 0.0), (624, 0.0), (625, 0.024942340463306106), (626, 0.0), (627, 0.0), (628, 0.0), (629, 0.0), (630, 0.0), (631, 0.0), (632, 0.0), (633, 0.027550594461142226), (634, 0.0), (635, 0.0), (636, 0.0), (637, 0.011702238340174585), (638, 0.010771033333205343), (639, 0.06149494912675578), (640, 0.010214081425824178), (641, 0.0), (642, 0.0856193594938355), (643, 0.0), (644, 0.0), (645, 0.0100224301105998), (646, 0.0), (647, 0.0), (648, 0.0), (649, 0.0), (650, 0.0), (651, 0.025075074243063385), (652, 0.05981574752158102), (653, 0.0), (654, 0.0), (655, 0.010809005350783522), (656, 0.0413015649496471), (657, 0.02397693474396769), (658, 0.02387120313379517), (659, 0.01107247462976015), (660, 0.029070746041243933), (661, 0.036717734748170784), (662, 0.011948941156627837), (663, 0.0), (664, 0.0), (665, 0.04137678050189729), (666, 0.0), (667, 0.0), (668, 0.0), (669, 0.0), (670, 0.0), (671, 0.0), (672, 0.0), (673, 0.0), (674, 0.0), (675, 0.0), (676, 0.0), (677, 0.0), (678, 0.0), (679, 0.013277461634829419), (680, 0.03478934787045332), (681, 0.0), (682, 0.0), (683, 0.0), (684, 0.0), (685, 0.0), (686, 0.0316639956415444), (687, 0.032390399281575145), (688, 0.013851636228040327), (689, 0.041553828146033304), (690, 0.010130537858461365), (691, 0.0), (692, 0.0), (693, 0.0), (694, 0.0), (695, 0.0), (696, 0.01146240890480493), (697, 0.0), (698, 0.0), (699, 0.05495763720971828), (700, 0.0), (701, 0.0), (702, 0.010909605995429148), (703, 0.0), (704, 0.0), (705, 0.0), (706, 0.0), (707, 0.0), (708, 0.0), (709, 0.018727451992701975), (710, 0.0), (711, 0.0), (712, 0.012262564569876936), (713, 0.011558211144882136), (714, 0.0), (715, 0.0), (716, 0.0), (717, 0.0), (718, 0.0), (719, 0.00911518166521316), (720, 0.0), (721, 0.0), (722, 0.0), (723, 0.028800461806388546), (724, 0.028553159721720175), (725, 0.0), (726, 0.0), (727, 0.0), (728, 0.0), (729, 0.0), (730, 0.0), (731, 0.0), (732, 0.0), (733, 0.010261121910909216), (734, 0.0), (735, 0.0), (736, 0.0), (737, 0.0), (738, 0.018211431839418285), (739, 0.0), (740, 0.007925221139351301), (741, 0.028213966624023038), (742, 0.03219318081480824), (743, 0.012223527277099876), (744, 0.0), (745, 0.0), (746, 0.02921948342550135), (747, 0.02997691015902108), (748, 0.0), (749, 0.033959931412627), (750, 0.0), (751, 0.0), (752, 0.06090216796638328), (753, 0.013453928529548484), (754, 0.0), (755, 0.0), (756, 0.02684410339618149), (757, 0.022133924364264323), (758, 0.058161850193781436), (759, 0.0), (760, 0.0), (761, 0.05575341168289354), (762, 0.0), (763, 0.0), (764, 0.0), (765, 0.0), (766, 0.0), (767, 0.011131135111065215), (768, 0.0), (769, 0.0), (770, 0.0), (771, 0.0670491130156053), (772, 0.0), (773, 0.0), (774, 0.0), (775, 0.0), (776, 0.0), (777, 0.0), (778, 0.0), (779, 0.0), (780, 0.0), (781, 0.01301611715659043), (782, 0.0), (783, 0.0), (784, 0.0), (785, 0.0), (786, 0.009945245678760904), (787, 0.006897398964329925), (788, 0.03578506483724281), (789, 0.0), (790, 0.0), (791, 0.06221499559613988), (792, 0.03642010818402306), (793, 0.0), (794, 0.0), (795, 0.027998339668297657), (796, 0.0), (797, 0.011954117606771618), (798, 0.0), (799, 0.0), (800, 0.0), (801, 0.03706499545153479), (802, 0.012670067529025475), (803, 0.0), (804, 0.053206637274913926), (805, 0.0), (806, 0.0), (807, 0.11763147248869049), (808, 0.0), (809, 0.013111498040823552), (810, 0.010436011342889481), (811, 0.0), (812, 0.0), (813, 0.0), (814, 0.012373677066892295), (815, 0.0), (816, 0.025283366821249126), (817, 0.0), (818, 0.0), (819, 0.0), (820, 0.035230501414549864), (821, 0.0), (822, 0.012236580087898286), (823, 0.0), (824, 0.00827158694820881), (825, 0.0), (826, 0.0), (827, 0.03538533396564378), (828, 0.0), (829, 0.0), (830, 0.0), (831, 0.018006214025012176), (832, 0.0), (833, 0.0), (834, 0.0), (835, 0.0), (836, 0.0), (837, 0.0), (838, 0.0), (839, 0.0), (840, 0.0), (841, 0.0), (842, 0.0), (843, 0.0), (844, 0.0), (845, 0.012056470891710193), (846, 0.012276941371639667), (847, 0.0), (848, 0.03633484927467793), (849, 0.0), (850, 0.0), (851, 0.0), (852, 0.0), (853, 0.05696546424816546), (854, 0.0), (855, 0.0), (856, 0.0), (857, 0.0), (858, 0.0), (859, 0.03908154220399822), (860, 0.050295977638676874), (861, 0.0), (862, 0.0), (863, 0.0), (864, 0.0), (865, 0.01299171115243487), (866, 0.0), (867, 0.0), (868, 0.0), (869, 0.0), (870, 0.0), (871, 0.0), (872, 0.030388451383235947), (873, 0.0), (874, 0.0), (875, 0.0), (876, 0.0), (877, 0.027984478576571457), (878, 0.0), (879, 0.026625323043044984), (880, 0.0), (881, 0.0), (882, 0.0), (883, 0.0), (884, 0.0), (885, 0.0), (886, 0.0), (887, 0.0), (888, 0.0), (889, 0.0), (890, 0.0), (891, 0.011605091653712993), (892, 0.010239361520088043), (893, 0.0), (894, 0.03973774815709605), (895, 0.0), (896, 0.012780831194113846), (897, 0.0), (898, 0.0), (899, 0.0), (900, 0.0), (901, 0.0), (902, 0.0), (903, 0.0), (904, 0.0), (905, 0.0), (906, 0.0), (907, 0.0), (908, 0.012235436267817175), (909, 0.0), (910, 0.0), (911, 0.0), (912, 0.010300177860751047), (913, 0.0), (914, 0.0), (915, 0.0), (916, 0.0), (917, 0.0), (918, 0.011915174767610845), (919, 0.0), (920, 0.011994226161390507), (921, 0.028360229977034697), (922, 0.0), (923, 0.0), (924, 0.0), (925, 0.0), (926, 0.0), (927, 0.0), (928, 0.0), (929, 0.008880226228397127), (930, 0.0), (931, 0.029877062669727193), (932, 0.0), (933, 0.0), (934, 0.0), (935, 0.028708745643509677), (936, 0.0), (937, 0.0), (938, 0.06963749224673732), (939, 0.037508583010898), (940, 0.0), (941, 0.0), (942, 0.0), (943, 0.0), (944, 0.0), (945, 0.0), (946, 0.011008626365348006), (947, 0.0), (948, 0.0), (949, 0.0), (950, 0.0), (951, 0.0), (952, 0.0), (953, 0.07285173002515352), (954, 0.0), (955, 0.0), (956, 0.01384339504871006), (957, 0.0), (958, 0.0), (959, 0.0), (960, 0.0), (961, 0.0), (962, 0.0), (963, 0.0), (964, 0.0), (965, 0.02875699621894609), (966, 0.0), (967, 0.0), (968, 0.0), (969, 0.0), (970, 0.0), (971, 0.04387732405211998), (972, 0.0), (973, 0.0), (974, 0.030275539316310135), (975, 0.0), (976, 0.0), (977, 0.0450832280033677), (978, 0.0), (979, 0.0), (980, 0.029184612952568165), (981, 0.03458208403830217), (982, 0.0), (983, 0.0), (984, 0.03771630040109219), (985, 0.02973075231193974), (986, 0.0), (987, 0.013162232356215206), (988, 0.0), (989, 0.028539397983634984), (990, 0.0), (991, 0.0), (992, 0.0), (993, 0.0), (994, 0.0), (995, 0.0), (996, 0.0), (997, 0.0), (998, 0.0), (999, 0.0), (1000, 0.0), (1001, 0.0), (1002, 0.02921607737893863), (1003, 0.0), (1004, 0.031903035162788286), (1005, 0.0), (1006, 0.0), (1007, 0.028664201906436367), (1008, 0.0), (1009, 0.039447504651245774), (1010, 0.0), (1011, 0.0), (1012, 0.0), (1013, 0.0), (1014, 0.0), (1015, 0.028327828862488948), (1016, 0.0), (1017, 0.05837551797236396), (1018, 0.0), (1019, 0.0), (1020, 0.0), (1021, 0.0), (1022, 0.0), (1023, 0.0), (1024, 0.0), (1025, 0.026762208658980578), (1026, 0.01150185683804932), (1027, 0.0), (1028, 0.0), (1029, 0.0), (1030, 0.0), (1031, 0.0), (1032, 0.0), (1033, 0.0), (1034, 0.012797016476480379), (1035, 0.01157042636798024), (1036, 0.0), (1037, 0.0), (1038, 0.0), (1039, 0.0), (1040, 0.0), (1041, 0.011536799651658786), (1042, 0.011038273628598227), (1043, 0.0), (1044, 0.012439007109705991), (1045, 0.0), (1046, 0.0), (1047, 0.0), (1048, 0.0), (1049, 0.0), (1050, 0.0), (1051, 0.0), (1052, 0.0), (1053, 0.0), (1054, 0.0), (1055, 0.0), (1056, 0.0), (1057, 0.0), (1058, 0.0), (1059, 0.0), (1060, 0.0), (1061, 0.010747813060221973), (1062, 0.07976097682121112), (1063, 0.0), (1064, 0.0), (1065, 0.0), (1066, 0.0), (1067, 0.0), (1068, 0.0), (1069, 0.0), (1070, 0.0), (1071, 0.0), (1072, 0.0), (1073, 0.02827971912707171), (1074, 0.0), (1075, 0.0), (1076, 0.011355549902083852), (1077, 0.0), (1078, 0.0), (1079, 0.07279509464326145), (1080, 0.0), (1081, 0.0), (1082, 0.02555124739216482), (1083, 0.0), (1084, 0.011943046599603636), (1085, 0.0), (1086, 0.06986166950120146), (1087, 0.0), (1088, 0.0), (1089, 0.03512791024101555), (1090, 0.010167875389984956), (1091, 0.0), (1092, 0.0), (1093, 0.0), (1094, 0.0), (1095, 0.0), (1096, 0.0), (1097, 0.0), (1098, 0.025961466782599446), (1099, 0.0), (1100, 0.0), (1101, 0.0), (1102, 0.0), (1103, 0.034565771126668185), (1104, 0.0), (1105, 0.0), (1106, 0.0), (1107, 0.03197871417934375), (1108, 0.0), (1109, 0.0), (1110, 0.0334240523110914), (1111, 0.0), (1112, 0.0), (1113, 0.0), (1114, 0.0), (1115, 0.0), (1116, 0.013009511304981743), (1117, 0.0), (1118, 0.012163536823329433), (1119, 0.014019723560875856), (1120, 0.0), (1121, 0.0), (1122, 0.07121707851464186), (1123, 0.0), (1124, 0.0), (1125, 0.0), (1126, 0.0), (1127, 0.0), (1128, 0.0), (1129, 0.0), (1130, 0.04366429893418319), (1131, 0.0), (1132, 0.025821228677649105), (1133, 0.0), (1134, 0.0), (1135, 0.0), (1136, 0.05472680975660579), (1137, 0.009392666592555861), (1138, 0.03928220995084844), (1139, 0.0), (1140, 0.0), (1141, 0.0), (1142, 0.0), (1143, 0.0), (1144, 0.0), (1145, 0.0), (1146, 0.0), (1147, 0.0), (1148, 0.04050265016204963), (1149, 0.0), (1150, 0.0), (1151, 0.0), (1152, 0.025162766664654793), (1153, 0.0), (1154, 0.0), (1155, 0.0), (1156, 0.0), (1157, 0.06819627361058221), (1158, 0.0), (1159, 0.0), (1160, 0.0), (1161, 0.0), (1162, 0.0), (1163, 0.0), (1164, 0.0), (1165, 0.0), (1166, 0.0), (1167, 0.0), (1168, 0.0), (1169, 0.0), (1170, 0.0), (1171, 0.0), (1172, 0.0), (1173, 0.030419373721180348), (1174, 0.0), (1175, 0.04065630130120067), (1176, 0.0), (1177, 0.0), (1178, 0.0), (1179, 0.0), (1180, 0.010850591398988774), (1181, 0.0), (1182, 0.0), (1183, 0.0), (1184, 0.0), (1185, 0.0), (1186, 0.01105572965726196), (1187, 0.0), (1188, 0.0), (1189, 0.0), (1190, 0.0), (1191, 0.011860171446741674), (1192, 0.0), (1193, 0.0), (1194, 0.0), (1195, 0.0), (1196, 0.0), (1197, 0.01083024380861899), (1198, 0.034468525652808515), (1199, 0.0), (1200, 0.0), (1201, 0.0), (1202, 0.0), (1203, 0.03383321214499116), (1204, 0.0), (1205, 0.0), (1206, 0.0), (1207, 0.037403282402315274), (1208, 0.0), (1209, 0.0), (1210, 0.0), (1211, 0.0271676495577087), (1212, 0.0), (1213, 0.0), (1214, 0.0), (1215, 0.0), (1216, 0.0), (1217, 0.030766935872316235), (1218, 0.0), (1219, 0.010108732627276651), (1220, 0.0), (1221, 0.01914219110132628), (1222, 0.0), (1223, 0.012341738570860137), (1224, 0.0), (1225, 0.013095544875481393), (1226, 0.0), (1227, 0.028115024367477707), (1228, 0.0), (1229, 0.012324392108120783), (1230, 0.030520353380460226), (1231, 0.0), (1232, 0.036292507009214554), (1233, 0.012707308675959879), (1234, 0.0), (1235, 0.0), (1236, 0.0), (1237, 0.0), (1238, 0.027937562131973303), (1239, 0.0), (1240, 0.0), (1241, 0.0), (1242, 0.0), (1243, 0.07009544606870133), (1244, 0.0), (1245, 0.0), (1246, 0.0), (1247, 0.0), (1248, 0.0), (1249, 0.04985410896119542), (1250, 0.06059073377597854), (1251, 0.0), (1252, 0.0), (1253, 0.0), (1254, 0.0), (1255, 0.03974842765168768), (1256, 0.0382825923800086), (1257, 0.011002508253357135), (1258, 0.0), (1259, 0.0), (1260, 0.0), (1261, 0.0), (1262, 0.0), (1263, 0.0), (1264, 0.0), (1265, 0.0), (1266, 0.0), (1267, 0.0), (1268, 0.0), (1269, 0.0), (1270, 0.011073936052151886), (1271, 0.0), (1272, 0.035130728815101875), (1273, 0.03480674880580421), (1274, 0.0), (1275, 0.0), (1276, 0.0), (1277, 0.0), (1278, 0.0), (1279, 0.05081366621254624), (1280, 0.0), (1281, 0.0), (1282, 0.0), (1283, 0.0), (1284, 0.01133572635929709), (1285, 0.0), (1286, 0.0), (1287, 0.0), (1288, 0.0), (1289, 0.0), (1290, 0.07791429917184482), (1291, 0.03234727873751836), (1292, 0.028082448102350152), (1293, 0.0), (1294, 0.0315668011024198), (1295, 0.0), (1296, 0.009655618844643093), (1297, 0.030410374241869206), (1298, 0.0), (1299, 0.0), (1300, 0.023918675471417822), (1301, 0.0), (1302, 0.0), (1303, 0.0), (1304, 0.012409117324800576), (1305, 0.0), (1306, 0.03269345392828207), (1307, 0.0), (1308, 0.012110033274877747), (1309, 0.010690048450149797), (1310, 0.0), (1311, 0.0), (1312, 0.03691696015310838), (1313, 0.0), (1314, 0.0), (1315, 0.0), (1316, 0.0), (1317, 0.009155889145190374), (1318, 0.03738428119015812), (1319, 0.0), (1320, 0.0), (1321, 0.02918307038081968), (1322, 0.0), (1323, 0.0), (1324, 0.0), (1325, 0.0), (1326, 0.0), (1327, 0.0), (1328, 0.0), (1329, 0.0), (1330, 0.011760465567530538), (1331, 0.0), (1332, 0.0), (1333, 0.0), (1334, 0.0), (1335, 0.039952256490512504), (1336, 0.0), (1337, 0.0), (1338, 0.0), (1339, 0.027235330066728392), (1340, 0.0), (1341, 0.0), (1342, 0.024594924493963586), (1343, 0.0), (1344, 0.07583011150054979), (1345, 0.0), (1346, 0.0), (1347, 0.0), (1348, 0.0), (1349, 0.0), (1350, 0.0), (1351, 0.008184480625458247), (1352, 0.0), (1353, 0.041417526239143396), (1354, 0.02341154966474371), (1355, 0.0), (1356, 0.0), (1357, 0.010524440516034406), (1358, 0.0), (1359, 0.0), (1360, 0.0), (1361, 0.0), (1362, 0.04425107153962987), (1363, 0.0), (1364, 0.0), (1365, 0.0099458286766769), (1366, 0.0), (1367, 0.0), (1368, 0.0), (1369, 0.0), (1370, 0.0), (1371, 0.0), (1372, 0.0), (1373, 0.0), (1374, 0.0), (1375, 0.0), (1376, 0.0), (1377, 0.0), (1378, 0.0), (1379, 0.040252888858481925), (1380, 0.0), (1381, 0.0), (1382, 0.012940072572034734), (1383, 0.0), (1384, 0.010381864603176347), (1385, 0.0), (1386, 0.0), (1387, 0.01011471216992011), (1388, 0.0), (1389, 0.0), (1390, 0.03532181371267781), (1391, 0.0), (1392, 0.0), (1393, 0.0695924518101256), (1394, 0.0), (1395, 0.0), (1396, 0.0), (1397, 0.0), (1398, 0.0), (1399, 0.0), (1400, 0.0), (1401, 0.0), (1402, 0.013049493997432845), (1403, 0.0), (1404, 0.0), (1405, 0.010193556185319884), (1406, 0.0), (1407, 0.027595715922530434), (1408, 0.0), (1409, 0.0), (1410, 0.0), (1411, 0.012806150682729462), (1412, 0.010467780958441059), (1413, 0.0), (1414, 0.0), (1415, 0.0), (1416, 0.010980697586299847), (1417, 0.0), (1418, 0.0), (1419, 0.03207089976410997), (1420, 0.0), (1421, 0.012290696510518782), (1422, 0.039360300948873314), (1423, 0.0), (1424, 0.0), (1425, 0.012159334382268825), (1426, 0.0), (1427, 0.0), (1428, 0.022141517498061227), (1429, 0.0), (1430, 0.0), (1431, 0.01147148180149677), (1432, 0.0), (1433, 0.025528002474270232), (1434, 0.0), (1435, 0.06693776725002383), (1436, 0.029049120307243805), (1437, 0.0), (1438, 0.0), (1439, 0.0), (1440, 0.0), (1441, 0.0398466187288599), (1442, 0.0), (1443, 0.02779339325760931), (1444, 0.0), (1445, 0.0), (1446, 0.0), (1447, 0.0), (1448, 0.0), (1449, 0.0), (1450, 0.0), (1451, 0.0), (1452, 0.0), (1453, 0.0), (1454, 0.037079838230246985), (1455, 0.0), (1456, 0.010325700039645178), (1457, 0.0), (1458, 0.0), (1459, 0.011432377521805254), (1460, 0.0), (1461, 0.013672610877881651), (1462, 0.0), (1463, 0.012073548486746497), (1464, 0.02490791999307861), (1465, 0.0), (1466, 0.0), (1467, 0.0), (1468, 0.02580059645657049), (1469, 0.0), (1470, 0.0), (1471, 0.0), (1472, 0.011518850670101591), (1473, 0.0), (1474, 0.047809282347172945), (1475, 0.0), (1476, 0.04748461236016574), (1477, 0.0), (1478, 0.0), (1479, 0.032909515899378704), (1480, 0.010508309447881406), (1481, 0.029844672187549114), (1482, 0.0), (1483, 0.0), (1484, 0.0), (1485, 0.0), (1486, 0.0), (1487, 0.026192852462296412), (1488, 0.0), (1489, 0.04262297730507508), (1490, 0.11336740265738823), (1491, 0.0), (1492, 0.010935238516847478), (1493, 0.0), (1494, 0.030993996499991832), (1495, 0.0), (1496, 0.0), (1497, 0.0), (1498, 0.0), (1499, 0.04676861577799297), (1500, 0.03509667749852713), (1501, 0.0), (1502, 0.0), (1503, 0.0), (1504, 0.0), (1505, 0.0), (1506, 0.007786072946114029), (1507, 0.0), (1508, 0.0), (1509, 0.018123977080568142), (1510, 0.031694326851527004), (1511, 0.0), (1512, 0.0), (1513, 0.0), (1514, 0.0), (1515, 0.0), (1516, 0.03917224958956287), (1517, 0.10058350215512635), (1518, 0.012478727179210194), (1519, 0.0), (1520, 0.0), (1521, 0.0), (1522, 0.0), (1523, 0.010933171662111989), (1524, 0.02149332385174204), (1525, 0.0), (1526, 0.0), (1527, 0.0), (1528, 0.0553952469228115), (1529, 0.0), (1530, 0.0), (1531, 0.0), (1532, 0.0), (1533, 0.0), (1534, 0.011843855962923673), (1535, 0.0), (1536, 0.0), (1537, 0.013295426292994737), (1538, 0.0), (1539, 0.0), (1540, 0.0), (1541, 0.0), (1542, 0.033832817781096404), (1543, 0.010400439021909229), (1544, 0.0), (1545, 0.02860271675752921), (1546, 0.020232575277084015), (1547, 0.0), (1548, 0.0), (1549, 0.0), (1550, 0.026040555567817605), (1551, 0.0), (1552, 0.0), (1553, 0.0), (1554, 0.0), (1555, 0.051159330526937136), (1556, 0.0), (1557, 0.013631751047265845), (1558, 0.0), (1559, 0.03250319288857266), (1560, 0.0), (1561, 0.012623372477671617), (1562, 0.0), (1563, 0.0), (1564, 0.0), (1565, 0.0), (1566, 0.0), (1567, 0.0), (1568, 0.02985763247303814), (1569, 0.0), (1570, 0.0), (1571, 0.03541676659041523), (1572, 0.0), (1573, 0.0), (1574, 0.0), (1575, 0.0), (1576, 0.0), (1577, 0.0), (1578, 0.0), (1579, 0.0), (1580, 0.0), (1581, 0.0294117697529064), (1582, 0.0), (1583, 0.0), (1584, 0.023277220157569747), (1585, 0.0), (1586, 0.0), (1587, 0.04441608228229414), (1588, 0.0), (1589, 0.012276505871096546), (1590, 0.0), (1591, 0.0), (1592, 0.023579382709873056), (1593, 0.0), (1594, 0.0), (1595, 0.0), (1596, 0.0), (1597, 0.01134432928115694), (1598, 0.0), (1599, 0.0), (1600, 0.0), (1601, 0.0), (1602, 0.0), (1603, 0.0), (1604, 0.0), (1605, 0.03355591842951734), (1606, 0.0), (1607, 0.0), (1608, 0.0), (1609, 0.0), (1610, 0.012301581825557194), (1611, 0.0), (1612, 0.0), (1613, 0.0), (1614, 0.02872275276842177), (1615, 0.0), (1616, 0.0), (1617, 0.0), (1618, 0.036093965803308446), (1619, 0.0), (1620, 0.0), (1621, 0.0), (1622, 0.0), (1623, 0.0), (1624, 0.0), (1625, 0.0), (1626, 0.025274669772096185), (1627, 0.0), (1628, 0.0), (1629, 0.0), (1630, 0.0), (1631, 0.0), (1632, 0.0), (1633, 0.0), (1634, 0.03719862799601002), (1635, 0.0), (1636, 0.0), (1637, 0.0), (1638, 0.0), (1639, 0.010166979591237543), (1640, 0.0), (1641, 0.0), (1642, 0.0), (1643, 0.0), (1644, 0.0), (1645, 0.026941080331838507), (1646, 0.12193565757199736), (1647, 0.0), (1648, 0.02214042080619441), (1649, 0.011423080684360352), (1650, 0.0), (1651, 0.0), (1652, 0.0), (1653, 0.0), (1654, 0.043618975847610895), (1655, 0.0), (1656, 0.0), (1657, 0.06780448647956318), (1658, 0.0), (1659, 0.0), (1660, 0.0), (1661, 0.0), (1662, 0.0), (1663, 0.0), (1664, 0.0), (1665, 0.0), (1666, 0.0), (1667, 0.0), (1668, 0.0), (1669, 0.0), (1670, 0.0), (1671, 0.0), (1672, 0.0), (1673, 0.03727674344514547), (1674, 0.0), (1675, 0.0), (1676, 0.0), (1677, 0.009724460241947027), (1678, 0.012389130797940302), (1679, 0.0), (1680, 0.0), (1681, 0.0), (1682, 0.04135695697271702), (1683, 0.0), (1684, 0.0), (1685, 0.0), (1686, 0.0), (1687, 0.0), (1688, 0.0), (1689, 0.0), (1690, 0.0278176081344355), (1691, 0.02712968015793329), (1692, 0.0), (1693, 0.0), (1694, 0.0), (1695, 0.011160770922332423), (1696, 0.0), (1697, 0.0), (1698, 0.040250284618232254), (1699, 0.0), (1700, 0.0), (1701, 0.0), (1702, 0.0), (1703, 0.0), (1704, 0.0), (1705, 0.0), (1706, 0.012213532448767998), (1707, 0.0), (1708, 0.0), (1709, 0.0), (1710, 0.0), (1711, 0.0), (1712, 0.0), (1713, 0.0), (1714, 0.0), (1715, 0.0), (1716, 0.0), (1717, 0.0), (1718, 0.0), (1719, 0.0), (1720, 0.0), (1721, 0.0), (1722, 0.0), (1723, 0.0), (1724, 0.0), (1725, 0.0), (1726, 0.0), (1727, 0.0), (1728, 0.0), (1729, 0.0), (1730, 0.0), (1731, 0.0), (1732, 0.0), (1733, 0.0), (1734, 0.0), (1735, 0.0), (1736, 0.0), (1737, 0.013342538696377557), (1738, 0.0), (1739, 0.010850876046862076), (1740, 0.0), (1741, 0.0), (1742, 0.0), (1743, 0.0), (1744, 0.012187532628401594), (1745, 0.010350377583244554), (1746, 0.0), (1747, 0.0), (1748, 0.0), (1749, 0.0), (1750, 0.0), (1751, 0.0), (1752, 0.0), (1753, 0.0), (1754, 0.0), (1755, 0.0), (1756, 0.0), (1757, 0.03964215994513738), (1758, 0.0), (1759, 0.035358105760857975), (1760, 0.0), (1761, 0.0), (1762, 0.0), (1763, 0.0), (1764, 0.010254140933472919), (1765, 0.030067535998190786), (1766, 0.0), (1767, 0.023363707445768846), (1768, 0.011895160623084452), (1769, 0.0), (1770, 0.0), (1771, 0.03472632284893147), (1772, 0.0), (1773, 0.0), (1774, 0.0), (1775, 0.0), (1776, 0.0), (1777, 0.02487877479894745), (1778, 0.0), (1779, 0.0), (1780, 0.021688287111385107), (1781, 0.05497336575857019), (1782, 0.025469608381705852), (1783, 0.01154469044412768), (1784, 0.0), (1785, 0.0), (1786, 0.0), (1787, 0.04135077853306138), (1788, 0.0), (1789, 0.031585263063740446), (1790, 0.0), (1791, 0.0), (1792, 0.0), (1793, 0.025115677224031727), (1794, 0.0), (1795, 0.028158053156229282), (1796, 0.0), (1797, 0.0), (1798, 0.0), (1799, 0.0), (1800, 0.0), (1801, 0.0), (1802, 0.0), (1803, 0.0), (1804, 0.0), (1805, 0.0), (1806, 0.0), (1807, 0.0), (1808, 0.0), (1809, 0.0), (1810, 0.0), (1811, 0.0), (1812, 0.0), (1813, 0.0), (1814, 0.025101899819884834), (1815, 0.0), (1816, 0.0), (1817, 0.046416809280530935), (1818, 0.010933508641044485), (1819, 0.0), (1820, 0.0), (1821, 0.0), (1822, 0.0), (1823, 0.030085635745573887), (1824, 0.011318351702256051), (1825, 0.0), (1826, 0.0), (1827, 0.010860725284337253), (1828, 0.0), (1829, 0.030601623634497255), (1830, 0.0), (1831, 0.0), (1832, 0.0), (1833, 0.03456808382793103), (1834, 0.0), (1835, 0.0), (1836, 0.0), (1837, 0.0), (1838, 0.0), (1839, 0.0), (1840, 0.011409473615786364), (1841, 0.0), (1842, 0.23501401462414995), (1843, 0.0), (1844, 0.0), (1845, 0.010191779315037631), (1846, 0.011586103585715652), (1847, 0.0), (1848, 0.0), (1849, 0.0), (1850, 0.01054788848294267), (1851, 0.0), (1852, 0.0), (1853, 0.0), (1854, 0.0), (1855, 0.0), (1856, 0.0), (1857, 0.011341560905604422), (1858, 0.0), (1859, 0.0), (1860, 0.0), (1861, 0.02158993166293185), (1862, 0.0), (1863, 0.0), (1864, 0.0), (1865, 0.0), (1866, 0.0), (1867, 0.04268436230914449), (1868, 0.0), (1869, 0.0), (1870, 0.0), (1871, 0.0), (1872, 0.0), (1873, 0.025615664395688246), (1874, 0.0), (1875, 0.0), (1876, 0.0), (1877, 0.0), (1878, 0.011254220863406555), (1879, 0.0), (1880, 0.0), (1881, 0.0), (1882, 0.0), (1883, 0.0), (1884, 0.0), (1885, 0.0), (1886, 0.0), (1887, 0.0), (1888, 0.0), (1889, 0.0), (1890, 0.03319796086691059), (1891, 0.0), (1892, 0.0), (1893, 0.031262275200321696), (1894, 0.0), (1895, 0.04363763407639799), (1896, 0.0), (1897, 0.0), (1898, 0.0), (1899, 0.011094900160548454), (1900, 0.0), (1901, 0.0), (1902, 0.0), (1903, 0.0), (1904, 0.0), (1905, 0.03652410897936953), (1906, 0.0), (1907, 0.0), (1908, 0.0), (1909, 0.0), (1910, 0.0), (1911, 0.0), (1912, 0.0), (1913, 0.011734321408747632), (1914, 0.0), (1915, 0.046776636299144726), (1916, 0.0), (1917, 0.0), (1918, 0.012371624978465426), (1919, 0.007323953684371701), (1920, 0.0), (1921, 0.0), (1922, 0.0), (1923, 0.0), (1924, 0.0), (1925, 0.019436327115948296), (1926, 0.0), (1927, 0.0), (1928, 0.0), (1929, 0.0), (1930, 0.012456705784043672), (1931, 0.0), (1932, 0.0), (1933, 0.0), (1934, 0.0), (1935, 0.027910359336253708), (1936, 0.0), (1937, 0.028306110245350402), (1938, 0.0), (1939, 0.0), (1940, 0.013164637619702341), (1941, 0.0), (1942, 0.0), (1943, 0.0), (1944, 0.0), (1945, 0.0), (1946, 0.0), (1947, 0.0), (1948, 0.0), (1949, 0.0), (1950, 0.010004920263373247), (1951, 0.17446231101900897), (1952, 0.03898843739292049), (1953, 0.0), (1954, 0.010849322752849264), (1955, 0.0), (1956, 0.0), (1957, 0.0), (1958, 0.012901042734605135), (1959, 0.0), (1960, 0.0), (1961, 0.0), (1962, 0.0), (1963, 0.01008701062551101), (1964, 0.06306039964674165), (1965, 0.0), (1966, 0.0), (1967, 0.0), (1968, 0.012784422477592422), (1969, 0.0), (1970, 0.0), (1971, 0.010269356716144753), (1972, 0.0), (1973, 0.03539478842544048), (1974, 0.0), (1975, 0.0), (1976, 0.0), (1977, 0.0), (1978, 0.011432057278914429), (1979, 0.011211127381200187), (1980, 0.0), (1981, 0.01934860173276252), (1982, 0.0), (1983, 0.0), (1984, 0.0), (1985, 0.0), (1986, 0.0), (1987, 0.01029114805753264), (1988, 0.0), (1989, 0.0), (1990, 0.0), (1991, 0.0), (1992, 0.011158014204516791), (1993, 0.0), (1994, 0.0), (1995, 0.0), (1996, 0.0), (1997, 0.0), (1998, 0.026505308826484393), (1999, 0.0), (2000, 0.0), (2001, 0.0), (2002, 0.0), (2003, 0.0), (2004, 0.0), (2005, 0.0), (2006, 0.0), (2007, 0.010764249029710325), (2008, 0.0), (2009, 0.07271674468057451), (2010, 0.0), (2011, 0.0), (2012, 0.0), (2013, 0.010195216797225416), (2014, 0.024896615207431808), (2015, 0.0), (2016, 0.0), (2017, 0.0), (2018, 0.0), (2019, 0.03110819492251315), (2020, 0.0), (2021, 0.0), (2022, 0.06295571658978083), (2023, 0.0), (2024, 0.0), (2025, 0.010155682865969016), (2026, 0.0), (2027, 0.0), (2028, 0.0), (2029, 0.0), (2030, 0.0), (2031, 0.0), (2032, 0.0), (2033, 0.024719378100438373), (2034, 0.03157082027238174), (2035, 0.019879019189707497), (2036, 0.0), (2037, 0.0), (2038, 0.0), (2039, 0.02087447926093075), (2040, 0.0), (2041, 0.0), (2042, 0.0), (2043, 0.011234181079506182), (2044, 0.0), (2045, 0.0), (2046, 0.0), (2047, 0.010633172161012986), (2048, 0.0), (2049, 0.0), (2050, 0.0), (2051, 0.0), (2052, 0.0), (2053, 0.0), (2054, 0.013030082230335513), (2055, 0.0), (2056, 0.0), (2057, 0.0), (2058, 0.0), (2059, 0.0), (2060, 0.0), (2061, 0.0), (2062, 0.0), (2063, 0.0), (2064, 0.0), (2065, 0.0), (2066, 0.0), (2067, 0.0), (2068, 0.0), (2069, 0.0), (2070, 0.040082541247214415), (2071, 0.0), (2072, 0.0), (2073, 0.02601536481001759), (2074, 0.03381389038229531), (2075, 0.0), (2076, 0.0), (2077, 0.0), (2078, 0.008975342206677075), (2079, 0.013090032356989021), (2080, 0.0), (2081, 0.0), (2082, 0.0), (2083, 0.0), (2084, 0.0), (2085, 0.027234447557557124), (2086, 0.029488698517704266), (2087, 0.0), (2088, 0.0), (2089, 0.0), (2090, 0.03671735512638538), (2091, 0.0), (2092, 0.0), (2093, 0.0), (2094, 0.0), (2095, 0.0), (2096, 0.0), (2097, 0.02985152689795677), (2098, 0.0), (2099, 0.0), (2100, 0.011443753479956244), (2101, 0.0), (2102, 0.0), (2103, 0.0), (2104, 0.0), (2105, 0.0), (2106, 0.0), (2107, 0.0), (2108, 0.0), (2109, 0.0), (2110, 0.0), (2111, 0.02974763734495129), (2112, 0.012946657555155042), (2113, 0.0), (2114, 0.010348598135000308), (2115, 0.0), (2116, 0.0), (2117, 0.0), (2118, 0.006820589465049765), (2119, 0.0), (2120, 0.011083433581435901), (2121, 0.0), (2122, 0.0), (2123, 0.053640164519080186), (2124, 0.0), (2125, 0.0), (2126, 0.0), (2127, 0.0), (2128, 0.0), (2129, 0.011537870792791923), (2130, 0.011828511565993606), (2131, 0.011611227771122607), (2132, 0.009799846912299492), (2133, 0.0), (2134, 0.0), (2135, 0.01069604975884491), (2136, 0.0), (2137, 0.0), (2138, 0.0), (2139, 0.0), (2140, 0.1154770631540892), (2141, 0.0), (2142, 0.0), (2143, 0.012416123399103312), (2144, 0.0), (2145, 0.0), (2146, 0.0), (2147, 0.01286215505606301), (2148, 0.0), (2149, 0.0), (2150, 0.0), (2151, 0.032542745386952183), (2152, 0.0), (2153, 0.0), (2154, 0.0), (2155, 0.0), (2156, 0.0), (2157, 0.036704463636100054), (2158, 0.0), (2159, 0.0), (2160, 0.0), (2161, 0.028071953242050085), (2162, 0.03312660968255129), (2163, 0.01093598826138223), (2164, 0.0), (2165, 0.0), (2166, 0.0), (2167, 0.0), (2168, 0.0), (2169, 0.0), (2170, 0.0), (2171, 0.0), (2172, 0.0), (2173, 0.0), (2174, 0.0), (2175, 0.0), (2176, 0.0), (2177, 0.0), (2178, 0.011161762466654459), (2179, 0.0), (2180, 0.0), (2181, 0.0), (2182, 0.0), (2183, 0.0), (2184, 0.0), (2185, 0.046510620163076), (2186, 0.0), (2187, 0.058697659356048607), (2188, 0.13912917654087387), (2189, 0.0), (2190, 0.0286468373144472), (2191, 0.0), (2192, 0.0), (2193, 0.0), (2194, 0.0), (2195, 0.02588287727231184), (2196, 0.07205851339808078), (2197, 0.0), (2198, 0.0), (2199, 0.0), (2200, 0.0), (2201, 0.0), (2202, 0.0), (2203, 0.010164943362531518), (2204, 0.03172163091006311), (2205, 0.01128104871799731), (2206, 0.0), (2207, 0.025241502283016637), (2208, 0.011692474352758851), (2209, 0.0), (2210, 0.0), (2211, 0.0), (2212, 0.0), (2213, 0.0), (2214, 0.0), (2215, 0.0), (2216, 0.012029939161329748), (2217, 0.0), (2218, 0.0), (2219, 0.0), (2220, 0.0), (2221, 0.0), (2222, 0.0), (2223, 0.0503128751033204), (2224, 0.0), (2225, 0.0), (2226, 0.0), (2227, 0.0), (2228, 0.0), (2229, 0.0), (2230, 0.0), (2231, 0.0), (2232, 0.0), (2233, 0.0), (2234, 0.0), (2235, 0.0), (2236, 0.0), (2237, 0.0), (2238, 0.0), (2239, 0.011546095429890546), (2240, 0.0), (2241, 0.0), (2242, 0.0), (2243, 0.0), (2244, 0.0), (2245, 0.011869378997469099), (2246, 0.0), (2247, 0.0), (2248, 0.0), (2249, 0.0), (2250, 0.010576118393246764), (2251, 0.0), (2252, 0.0), (2253, 0.0), (2254, 0.0), (2255, 0.0), (2256, 0.0), (2257, 0.0), (2258, 0.0), (2259, 0.0), (2260, 0.0), (2261, 0.0), (2262, 0.0), (2263, 0.0), (2264, 0.010931710347749625), (2265, 0.0), (2266, 0.027699930263064276), (2267, 0.0), (2268, 0.0), (2269, 0.03941297229953322), (2270, 0.0318456915534541), (2271, 0.010297608099886998), (2272, 0.0), (2273, 0.012026648262732054), (2274, 0.03355640613986994), (2275, 0.013957129839855425), (2276, 0.0), (2277, 0.0), (2278, 0.0), (2279, 0.0), (2280, 0.0), (2281, 0.013570509727712338), (2282, 0.0), (2283, 0.0), (2284, 0.0), (2285, 0.0), (2286, 0.0), (2287, 0.02255087464442413), (2288, 0.0), (2289, 0.0), (2290, 0.02862858766248818), (2291, 0.0), (2292, 0.0), (2293, 0.0), (2294, 0.0), (2295, 0.0), (2296, 0.0), (2297, 0.0), (2298, 0.0), (2299, 0.0), (2300, 0.0), (2301, 0.0), (2302, 0.0), (2303, 0.028554839987498585), (2304, 0.0), (2305, 0.0), (2306, 0.0), (2307, 0.0), (2308, 0.0), (2309, 0.0), (2310, 0.0), (2311, 0.0), (2312, 0.0), (2313, 0.0), (2314, 0.0), (2315, 0.012217150485996317), (2316, 0.0), (2317, 0.01021036479396372), (2318, 0.0), (2319, 0.0), (2320, 0.0), (2321, 0.0), (2322, 0.01061381565232861), (2323, 0.01089988804837923), (2324, 0.0), (2325, 0.05350110908523289), (2326, 0.009493868438470476), (2327, 0.012137807777848557), (2328, 0.0), (2329, 0.0), (2330, 0.012174453249904649), (2331, 0.0), (2332, 0.0), (2333, 0.0), (2334, 0.01279968340551289), (2335, 0.0), (2336, 0.0), (2337, 0.0), (2338, 0.0), (2339, 0.0), (2340, 0.0), (2341, 0.0), (2342, 0.03583690571584845), (2343, 0.0), (2344, 0.0), (2345, 0.0), (2346, 0.0), (2347, 0.0), (2348, 0.0), (2349, 0.04242367468628658), (2350, 0.0), (2351, 0.0), (2352, 0.010503264402931112), (2353, 0.0), (2354, 0.0), (2355, 0.0), (2356, 0.0), (2357, 0.04028171720113488), (2358, 0.0), (2359, 0.02124545834220745), (2360, 0.0), (2361, 0.0), (2362, 0.0), (2363, 0.0), (2364, 0.0), (2365, 0.0), (2366, 0.0), (2367, 0.0), (2368, 0.0), (2369, 0.0), (2370, 0.0), (2371, 0.0), (2372, 0.0681196570786482), (2373, 0.0), (2374, 0.03587380031401048), (2375, 0.043202960472414925), (2376, 0.0), (2377, 0.05917642580347349), (2378, 0.0), (2379, 0.0), (2380, 0.0), (2381, 0.0), (2382, 0.0), (2383, 0.0), (2384, 0.0), (2385, 0.0330561101577309), (2386, 0.0), (2387, 0.0), (2388, 0.0), (2389, 0.0), (2390, 0.0), (2391, 0.011521256859464908), (2392, 0.0), (2393, 0.012741294509075659), (2394, 0.0), (2395, 0.0), (2396, 0.012314677677098346), (2397, 0.046589825753973274), (2398, 0.0), (2399, 0.0), (2400, 0.011572188467796155), (2401, 0.0), (2402, 0.011287356961154672), (2403, 0.0), (2404, 0.0), (2405, 0.0), (2406, 0.012505883922425019), (2407, 0.0), (2408, 0.0), (2409, 0.0), (2410, 0.011609819486752038), (2411, 0.0), (2412, 0.0), (2413, 0.0), (2414, 0.0), (2415, 0.0), (2416, 0.0), (2417, 0.0), (2418, 0.0), (2419, 0.0), (2420, 0.0), (2421, 0.040037168452670045), (2422, 0.0), (2423, 0.0), (2424, 0.0), (2425, 0.0), (2426, 0.0), (2427, 0.035253517697383864), (2428, 0.0), (2429, 0.0), (2430, 0.0), (2431, 0.04854748650009031), (2432, 0.0), (2433, 0.026438377604573078), (2434, 0.0), (2435, 0.0), (2436, 0.0), (2437, 0.0), (2438, 0.0), (2439, 0.0), (2440, 0.0), (2441, 0.0), (2442, 0.0), (2443, 0.016402186907796098), (2444, 0.0), (2445, 0.09495760973329263), (2446, 0.028219404052129707), (2447, 0.01958480959105409), (2448, 0.0), (2449, 0.010473260384233438), (2450, 0.0), (2451, 0.0), (2452, 0.0), (2453, 0.0), (2454, 0.0), (2455, 0.0), (2456, 0.0), (2457, 0.03576993421686345), (2458, 0.0), (2459, 0.035679726804306165), (2460, 0.03840620024644597), (2461, 0.012064915190059426), (2462, 0.0), (2463, 0.0), (2464, 0.12006012324197864), (2465, 0.0), (2466, 0.0), (2467, 0.0), (2468, 0.04880035957805711), (2469, 0.0), (2470, 0.0), (2471, 0.0), (2472, 0.0), (2473, 0.025000283928176183), (2474, 0.0), (2475, 0.0), (2476, 0.0), (2477, 0.0), (2478, 0.0), (2479, 0.0), (2480, 0.032224652145618475), (2481, 0.02901435935338926), (2482, 0.0), (2483, 0.0), (2484, 0.0), (2485, 0.0), (2486, 0.0), (2487, 0.013570026905154693), (2488, 0.01231880078065668), (2489, 0.0), (2490, 0.0), (2491, 0.0), (2492, 0.0), (2493, 0.05026738472150225), (2494, 0.03932165953022968), (2495, 0.0), (2496, 0.0), (2497, 0.0), (2498, 0.0), (2499, 0.0), (2500, 0.0), (2501, 0.0), (2502, 0.010116193996774804), (2503, 0.0), (2504, 0.0), (2505, 0.0), (2506, 0.0), (2507, 0.0), (2508, 0.0), (2509, 0.022363104771707613), (2510, 0.0), (2511, 0.011502709423064833), (2512, 0.02247629876432287), (2513, 0.0), (2514, 0.0), (2515, 0.0), (2516, 0.0), (2517, 0.0), (2518, 0.0), (2519, 0.029628226792034886), (2520, 0.0), (2521, 0.0), (2522, 0.0), (2523, 0.038586600355749345), (2524, 0.0), (2525, 0.0), (2526, 0.0), (2527, 0.0), (2528, 0.0), (2529, 0.0), (2530, 0.0), (2531, 0.010877185092379452), (2532, 0.0), (2533, 0.0), (2534, 0.011395946296898172), (2535, 0.0), (2536, 0.0), (2537, 0.0), (2538, 0.0), (2539, 0.039292237533023855), (2540, 0.0), (2541, 0.00961043586171985), (2542, 0.0), (2543, 0.0), (2544, 0.0), (2545, 0.0), (2546, 0.0), (2547, 0.0), (2548, 0.0), (2549, 0.0), (2550, 0.0), (2551, 0.0), (2552, 0.031277292571339495), (2553, 0.0), (2554, 0.026115042342775962), (2555, 0.0), (2556, 0.0), (2557, 0.0), (2558, 0.0), (2559, 0.0), (2560, 0.0), (2561, 0.0), (2562, 0.0), (2563, 0.0), (2564, 0.0), (2565, 0.0), (2566, 0.0), (2567, 0.0), (2568, 0.0), (2569, 0.0), (2570, 0.02748763629874265), (2571, 0.0117841125841151), (2572, 0.033167097911783495), (2573, 0.0), (2574, 0.03461943383077818), (2575, 0.0), (2576, 0.0), (2577, 0.0), (2578, 0.025061615020821028), (2579, 0.0), (2580, 0.009861600934021199), (2581, 0.0), (2582, 0.0), (2583, 0.0), (2584, 0.0), (2585, 0.0), (2586, 0.0), (2587, 0.02814737495240074), (2588, 0.026882965684328717), (2589, 0.0), (2590, 0.0), (2591, 0.0), (2592, 0.0), (2593, 0.0), (2594, 0.0), (2595, 0.0), (2596, 0.0), (2597, 0.0), (2598, 0.0), (2599, 0.0), (2600, 0.0), (2601, 0.0), (2602, 0.0), (2603, 0.010031345016935058), (2604, 0.0), (2605, 0.0), (2606, 0.029248601136750867), (2607, 0.0), (2608, 0.0), (2609, 0.04630037610407089), (2610, 0.0), (2611, 0.0), (2612, 0.01182708805851424), (2613, 0.0), (2614, 0.0), (2615, 0.0), (2616, 0.0), (2617, 0.0364143204987632), (2618, 0.0), (2619, 0.033001492980406257), (2620, 0.0), (2621, 0.029991471492093233), (2622, 0.020505135228881425), (2623, 0.0), (2624, 0.0), (2625, 0.0), (2626, 0.0), (2627, 0.0), (2628, 0.0), (2629, 0.0), (2630, 0.0), (2631, 0.0), (2632, 0.0), (2633, 0.0), (2634, 0.0), (2635, 0.03169226183461357), (2636, 0.024738458883800375), (2637, 0.0), (2638, 0.0), (2639, 0.0), (2640, 0.0), (2641, 0.0), (2642, 0.030347570397958316), (2643, 0.0), (2644, 0.0), (2645, 0.03880437282978941), (2646, 0.019426003110811753), (2647, 0.0), (2648, 0.0), (2649, 0.056203710636052215), (2650, 0.012326830166821186), (2651, 0.0), (2652, 0.0), (2653, 0.0), (2654, 0.0), (2655, 0.0), (2656, 0.0), (2657, 0.0), (2658, 0.0), (2659, 0.06991152819244166), (2660, 0.04010665403757202), (2661, 0.0), (2662, 0.0), (2663, 0.027411730992736083), (2664, 0.0), (2665, 0.0), (2666, 0.0), (2667, 0.04082342673331996), (2668, 0.0), (2669, 0.0), (2670, 0.0), (2671, 0.008304186838267039), (2672, 0.03580093310807991), (2673, 0.032282627169916166), (2674, 0.0), (2675, 0.010792620885612048), (2676, 0.0), (2677, 0.025179068976331667), (2678, 0.0), (2679, 0.029993404420452636), (2680, 0.0), (2681, 0.036066176614682144), (2682, 0.0), (2683, 0.0), (2684, 0.0), (2685, 0.0), (2686, 0.0), (2687, 0.0), (2688, 0.030089556778427052), (2689, 0.0), (2690, 0.0), (2691, 0.0), (2692, 0.0), (2693, 0.0), (2694, 0.0), (2695, 0.0), (2696, 0.0), (2697, 0.02856947463269885), (2698, 0.0), (2699, 0.06909452537988178), (2700, 0.0), (2701, 0.0), (2702, 0.0), (2703, 0.0), (2704, 0.0), (2705, 0.0), (2706, 0.01068608673131058), (2707, 0.0), (2708, 0.0), (2709, 0.0), (2710, 0.041304656605115904), (2711, 0.02187015705660494), (2712, 0.0), (2713, 0.0), (2714, 0.0), (2715, 0.0), (2716, 0.0), (2717, 0.0), (2718, 0.02733132366667537), (2719, 0.0), (2720, 0.012523604124725566), (2721, 0.0), (2722, 0.0), (2723, 0.0), (2724, 0.0), (2725, 0.0), (2726, 0.0), (2727, 0.0), (2728, 0.01124388492237601), (2729, 0.0), (2730, 0.0), (2731, 0.0), (2732, 0.0), (2733, 0.0), (2734, 0.008604826043226528), (2735, 0.0), (2736, 0.05468626584581632), (2737, 0.0), (2738, 0.0), (2739, 0.03279407383761126), (2740, 0.0336120432336868), (2741, 0.0), (2742, 0.02594627518499785), (2743, 0.0), (2744, 0.0), (2745, 0.0), (2746, 0.0), (2747, 0.0), (2748, 0.0), (2749, 0.010246979235065392), (2750, 0.0), (2751, 0.0), (2752, 0.0), (2753, 0.0), (2754, 0.0), (2755, 0.0), (2756, 0.04341232913331087), (2757, 0.0), (2758, 0.0), (2759, 0.0), (2760, 0.016648690343728442), (2761, 0.028811398988590965), (2762, 0.024148899680954357), (2763, 0.0), (2764, 0.0), (2765, 0.0), (2766, 0.0), (2767, 0.0), (2768, 0.0), (2769, 0.0), (2770, 0.022871900786649888), (2771, 0.0), (2772, 0.028294168276138603), (2773, 0.0), (2774, 0.0), (2775, 0.04951174716239413), (2776, 0.0), (2777, 0.042986003791579845), (2778, 0.0), (2779, 0.0), (2780, 0.0), (2781, 0.050048211742139886), (2782, 0.0), (2783, 0.0), (2784, 0.0), (2785, 0.0), (2786, 0.0), (2787, 0.0), (2788, 0.026150976742629024), (2789, 0.021197649927479866), (2790, 0.01246549308250979), (2791, 0.0), (2792, 0.0), (2793, 0.04080832094508191), (2794, 0.0), (2795, 0.0), (2796, 0.0), (2797, 0.0), (2798, 0.012893740194235363), (2799, 0.0), (2800, 0.0), (2801, 0.0), (2802, 0.0), (2803, 0.0), (2804, 0.0), (2805, 0.0), (2806, 0.0), (2807, 0.0), (2808, 0.045582519461301256), (2809, 0.0), (2810, 0.0), (2811, 0.0), (2812, 0.0), (2813, 0.025816917670661542), (2814, 0.0), (2815, 0.0), (2816, 0.0), (2817, 0.04035766439620532), (2818, 0.0), (2819, 0.0), (2820, 0.0), (2821, 0.0), (2822, 0.01050133495850035), (2823, 0.0), (2824, 0.03272500164251706), (2825, 0.027164361180620777), (2826, 0.0), (2827, 0.0), (2828, 0.0), (2829, 0.0), (2830, 0.04592021409777776), (2831, 0.024686937902885054), (2832, 0.0), (2833, 0.05068301290235261), (2834, 0.0), (2835, 0.0), (2836, 0.0), (2837, 0.0), (2838, 0.0), (2839, 0.0), (2840, 0.02559510263696239), (2841, 0.044577020679796894), (2842, 0.011346786195368401), (2843, 0.0), (2844, 0.0), (2845, 0.010048089801980124), (2846, 0.0), (2847, 0.0), (2848, 0.0), (2849, 0.0), (2850, 0.0), (2851, 1.0000000000000002), (2852, 0.0), (2853, 0.029916232056536395), (2854, 0.011480696549564507), (2855, 0.0), (2856, 0.0), (2857, 0.01262809645546601), (2858, 0.0), (2859, 0.0), (2860, 0.0), (2861, 0.0), (2862, 0.0), (2863, 0.0), (2864, 0.0), (2865, 0.0), (2866, 0.0), (2867, 0.0), (2868, 0.0), (2869, 0.03314476083461864), (2870, 0.0), (2871, 0.0), (2872, 0.0), (2873, 0.07708972613068842), (2874, 0.0), (2875, 0.0), (2876, 0.024569308480796408), (2877, 0.018852285489062252), (2878, 0.0), (2879, 0.0), (2880, 0.0), (2881, 0.0), (2882, 0.0), (2883, 0.0), (2884, 0.04004381709405096), (2885, 0.0), (2886, 0.0), (2887, 0.027896246798223896), (2888, 0.0), (2889, 0.06438796586248141), (2890, 0.0), (2891, 0.0), (2892, 0.009795463884031392), (2893, 0.0), (2894, 0.0), (2895, 0.0), (2896, 0.0), (2897, 0.024289587089483082), (2898, 0.0), (2899, 0.023729141612140268), (2900, 0.0), (2901, 0.0), (2902, 0.0), (2903, 0.0), (2904, 0.0), (2905, 0.0), (2906, 0.0), (2907, 0.04655092444524331), (2908, 0.019091723769024127), (2909, 0.0), (2910, 0.0), (2911, 0.0), (2912, 0.0), (2913, 0.0), (2914, 0.0), (2915, 0.0), (2916, 0.0), (2917, 0.0), (2918, 0.0), (2919, 0.0), (2920, 0.0), (2921, 0.013466852690648817), (2922, 0.0), (2923, 0.0), (2924, 0.0), (2925, 0.059517466303043935), (2926, 0.0), (2927, 0.0), (2928, 0.0), (2929, 0.03294382726187731), (2930, 0.0), (2931, 0.021071483112723097), (2932, 0.0), (2933, 0.010222849920155298), (2934, 0.0), (2935, 0.0), (2936, 0.0), (2937, 0.0), (2938, 0.0), (2939, 0.0), (2940, 0.0), (2941, 0.0), (2942, 0.0), (2943, 0.0), (2944, 0.0), (2945, 0.0), (2946, 0.0), (2947, 0.0), (2948, 0.0), (2949, 0.0), (2950, 0.0), (2951, 0.0), (2952, 0.03922597013793417), (2953, 0.0), (2954, 0.0), (2955, 0.0), (2956, 0.0), (2957, 0.0), (2958, 0.07104889861025479), (2959, 0.03567478995479892), (2960, 0.0), (2961, 0.0), (2962, 0.02722849784019282), (2963, 0.012418173324564186), (2964, 0.0), (2965, 0.08041683040594963), (2966, 0.0), (2967, 0.0), (2968, 0.0), (2969, 0.0), (2970, 0.0), (2971, 0.0), (2972, 0.0), (2973, 0.0), (2974, 0.0), (2975, 0.010321739027382383), (2976, 0.0), (2977, 0.0), (2978, 0.0), (2979, 0.0), (2980, 0.0), (2981, 0.021276687429781154), (2982, 0.012306707949868921), (2983, 0.0), (2984, 0.0), (2985, 0.009674998709869617), (2986, 0.0), (2987, 0.0), (2988, 0.02599108147547206), (2989, 0.0), (2990, 0.0), (2991, 0.0), (2992, 0.0), (2993, 0.0), (2994, 0.0), (2995, 0.0), (2996, 0.0), (2997, 0.0), (2998, 0.0), (2999, 0.0), (3000, 0.05460737944584542), (3001, 0.011514068031920198), (3002, 0.0), (3003, 0.0), (3004, 0.0), (3005, 0.0), (3006, 0.03732174456947364), (3007, 0.0), (3008, 0.0), (3009, 0.0), (3010, 0.0), (3011, 0.011180847757240235), (3012, 0.0), (3013, 0.0), (3014, 0.0), (3015, 0.0), (3016, 0.0), (3017, 0.06053231345211504), (3018, 0.010354954626613512), (3019, 0.0), (3020, 0.0), (3021, 0.025435204390705183), (3022, 0.0), (3023, 0.026716480451419857), (3024, 0.0), (3025, 0.0), (3026, 0.0), (3027, 0.09757615536995799), (3028, 0.03246551894309469), (3029, 0.0), (3030, 0.0), (3031, 0.051747060070183336), (3032, 0.0), (3033, 0.09720442041771601), (3034, 0.0), (3035, 0.0), (3036, 0.0), (3037, 0.0), (3038, 0.0), (3039, 0.0), (3040, 0.0), (3041, 0.0), (3042, 0.0), (3043, 0.0), (3044, 0.0), (3045, 0.0), (3046, 0.11264577271920947), (3047, 0.0), (3048, 0.0), (3049, 0.0), (3050, 0.0), (3051, 0.0), (3052, 0.0), (3053, 0.0), (3054, 0.0), (3055, 0.0), (3056, 0.04233272886689669), (3057, 0.0), (3058, 0.0), (3059, 0.0), (3060, 0.048238616878152916), (3061, 0.0), (3062, 0.0), (3063, 0.0208833722122533), (3064, 0.0), (3065, 0.0), (3066, 0.0), (3067, 0.03094050028952403), (3068, 0.0), (3069, 0.0), (3070, 0.0), (3071, 0.13199092474107296), (3072, 0.0), (3073, 0.030225944931109368), (3074, 0.0), (3075, 0.0), (3076, 0.0), (3077, 0.030424430415681943), (3078, 0.0), (3079, 0.0), (3080, 0.033830755538150674), (3081, 0.0), (3082, 0.0097089906360873), (3083, 0.037988442041895165), (3084, 0.0), (3085, 0.0), (3086, 0.011640931361792135), (3087, 0.0), (3088, 0.0), (3089, 0.0), (3090, 0.011002395874931204), (3091, 0.0), (3092, 0.0), (3093, 0.0), (3094, 0.04490969182554151), (3095, 0.0), (3096, 0.0), (3097, 0.0), (3098, 0.027669242159086522), (3099, 0.0), (3100, 0.0), (3101, 0.0), (3102, 0.0), (3103, 0.0), (3104, 0.0), (3105, 0.0), (3106, 0.0), (3107, 0.0), (3108, 0.0), (3109, 0.011494432547553918), (3110, 0.025237406774576216), (3111, 0.02506489782355872), (3112, 0.0), (3113, 0.0), (3114, 0.0), (3115, 0.0), (3116, 0.0), (3117, 0.044620288025033025), (3118, 0.0), (3119, 0.0), (3120, 0.0), (3121, 0.01186823622630974), (3122, 0.0), (3123, 0.0), (3124, 0.034198513857138034), (3125, 0.0), (3126, 0.0), (3127, 0.0), (3128, 0.0), (3129, 0.0), (3130, 0.0), (3131, 0.0), (3132, 0.0481379242702102), (3133, 0.07628723959077327), (3134, 0.04732887718964336), (3135, 0.0), (3136, 0.0), (3137, 0.0), (3138, 0.0), (3139, 0.0), (3140, 0.0), (3141, 0.0), (3142, 0.0142029372150383), (3143, 0.0), (3144, 0.008678768490236279), (3145, 0.0), (3146, 0.0), (3147, 0.011275473472225555), (3148, 0.0), (3149, 0.040375802382804644), (3150, 0.0), (3151, 0.0), (3152, 0.0), (3153, 0.01257423775022681), (3154, 0.0), (3155, 0.024792393259862974), (3156, 0.0), (3157, 0.0), (3158, 0.0), (3159, 0.0), (3160, 0.0), (3161, 0.0), (3162, 0.0), (3163, 0.03729677176830764), (3164, 0.0), (3165, 0.0), (3166, 0.0), (3167, 0.04037236295477101), (3168, 0.0), (3169, 0.0), (3170, 0.0), (3171, 0.0), (3172, 0.0), (3173, 0.0), (3174, 0.0), (3175, 0.0), (3176, 0.0), (3177, 0.0), (3178, 0.0), (3179, 0.0), (3180, 0.0), (3181, 0.0), (3182, 0.030763763596909376), (3183, 0.0), (3184, 0.0), (3185, 0.0), (3186, 0.0), (3187, 0.0), (3188, 0.011409303511870765), (3189, 0.05441610368225348), (3190, 0.0), (3191, 0.04650973283056972), (3192, 0.0), (3193, 0.0), (3194, 0.0), (3195, 0.0), (3196, 0.0), (3197, 0.0), (3198, 0.0), (3199, 0.008520813482134385), (3200, 0.0), (3201, 0.0), (3202, 0.0), (3203, 0.0), (3204, 0.0), (3205, 0.0), (3206, 0.0), (3207, 0.0), (3208, 0.012608998299890614), (3209, 0.012740995785910062), (3210, 0.0), (3211, 0.0), (3212, 0.0), (3213, 0.02040333577319683), (3214, 0.023636540407945043), (3215, 0.019314451747233678), (3216, 0.0), (3217, 0.0), (3218, 0.0), (3219, 0.013731660790627369), (3220, 0.0), (3221, 0.0), (3222, 0.0), (3223, 0.0), (3224, 0.0), (3225, 0.03197999212427983), (3226, 0.0), (3227, 0.0), (3228, 0.0), (3229, 0.0), (3230, 0.0), (3231, 0.0), (3232, 0.0), (3233, 0.0), (3234, 0.0), (3235, 0.0), (3236, 0.0), (3237, 0.011859201361064714), (3238, 0.0), (3239, 0.0), (3240, 0.05077010180399502), (3241, 0.02548453295958666), (3242, 0.011084923528202109), (3243, 0.0), (3244, 0.010634704486515515), (3245, 0.0), (3246, 0.01141250587050608), (3247, 0.012750391161075042), (3248, 0.0), (3249, 0.0), (3250, 0.0), (3251, 0.0), (3252, 0.0), (3253, 0.0), (3254, 0.010276106711391083), (3255, 0.0), (3256, 0.0), (3257, 0.0), (3258, 0.0), (3259, 0.012711200102630797), (3260, 0.011719802119908997), (3261, 0.0), (3262, 0.0), (3263, 0.0), (3264, 0.0), (3265, 0.0), (3266, 0.0), (3267, 0.0), (3268, 0.0), (3269, 0.036386681315392674), (3270, 0.030931248531550364), (3271, 0.0), (3272, 0.010951556753449034), (3273, 0.0), (3274, 0.0), (3275, 0.0), (3276, 0.0), (3277, 0.0), (3278, 0.0), (3279, 0.0), (3280, 0.0), (3281, 0.0), (3282, 0.0), (3283, 0.0), (3284, 0.0), (3285, 0.0), (3286, 0.0), (3287, 0.0), (3288, 0.0), (3289, 0.043788051733268774), (3290, 0.0), (3291, 0.0), (3292, 0.0), (3293, 0.0), (3294, 0.0), (3295, 0.0), (3296, 0.0), (3297, 0.0), (3298, 0.0), (3299, 0.0), (3300, 0.012747977657366983), (3301, 0.0), (3302, 0.0), (3303, 0.022236629062672875), (3304, 0.02897231158400883), (3305, 0.0), (3306, 0.0), (3307, 0.0), (3308, 0.0), (3309, 0.0), (3310, 0.0), (3311, 0.0), (3312, 0.025982398993822462), (3313, 0.0), (3314, 0.0), (3315, 0.01138685372811857), (3316, 0.0), (3317, 0.0), (3318, 0.011107746441456462), (3319, 0.0), (3320, 0.0), (3321, 0.0113301093802446), (3322, 0.0), (3323, 0.0), (3324, 0.0), (3325, 0.0), (3326, 0.0), (3327, 0.0), (3328, 0.0), (3329, 0.0), (3330, 0.011802309921693153), (3331, 0.0), (3332, 0.0), (3333, 0.0), (3334, 0.03525848467074623), (3335, 0.0), (3336, 0.0), (3337, 0.0), (3338, 0.0), (3339, 0.0), (3340, 0.0), (3341, 0.0), (3342, 0.010966425489415765), (3343, 0.0), (3344, 0.02054635822769321), (3345, 0.0), (3346, 0.0), (3347, 0.0), (3348, 0.01166156000299884), (3349, 0.0), (3350, 0.0), (3351, 0.0), (3352, 0.0), (3353, 0.0), (3354, 0.0), (3355, 0.0), (3356, 0.028518125199307617), (3357, 0.0), (3358, 0.0), (3359, 0.0), (3360, 0.0), (3361, 0.0), (3362, 0.0), (3363, 0.0), (3364, 0.0), (3365, 0.0), (3366, 0.0), (3367, 0.0), (3368, 0.0), (3369, 0.0), (3370, 0.010744999307425807), (3371, 0.0), (3372, 0.0), (3373, 0.0), (3374, 0.0), (3375, 0.0), (3376, 0.0), (3377, 0.0), (3378, 0.0), (3379, 0.0), (3380, 0.0), (3381, 0.0), (3382, 0.0), (3383, 0.0), (3384, 0.0), (3385, 0.0), (3386, 0.0), (3387, 0.02741735900232124), (3388, 0.012654559471366766), (3389, 0.0), (3390, 0.011483201512779729), (3391, 0.0), (3392, 0.022843476264193797), (3393, 0.0), (3394, 0.0), (3395, 0.0), (3396, 0.0), (3397, 0.0), (3398, 0.0), (3399, 0.0), (3400, 0.0), (3401, 0.0), (3402, 0.0), (3403, 0.0), (3404, 0.0), (3405, 0.0), (3406, 0.0), (3407, 0.0), (3408, 0.0), (3409, 0.0), (3410, 0.0), (3411, 0.0), (3412, 0.0), (3413, 0.0), (3414, 0.0), (3415, 0.0), (3416, 0.03127638571209333), (3417, 0.0), (3418, 0.026382941097365234), (3419, 0.0), (3420, 0.0), (3421, 0.008388802170767515), (3422, 0.02652189137495076), (3423, 0.0), (3424, 0.0), (3425, 0.0), (3426, 0.0), (3427, 0.011199332035897645), (3428, 0.0), (3429, 0.0), (3430, 0.0), (3431, 0.0), (3432, 0.0), (3433, 0.0), (3434, 0.0), (3435, 0.0), (3436, 0.0), (3437, 0.0), (3438, 0.03466677450468562), (3439, 0.0), (3440, 0.0), (3441, 0.0), (3442, 0.0), (3443, 0.0), (3444, 0.0), (3445, 0.0), (3446, 0.0), (3447, 0.0), (3448, 0.0), (3449, 0.0), (3450, 0.0), (3451, 0.0), (3452, 0.0), (3453, 0.0), (3454, 0.0), (3455, 0.0), (3456, 0.02611722821870165), (3457, 0.0), (3458, 0.02918808087391623), (3459, 0.0), (3460, 0.0), (3461, 0.0), (3462, 0.0), (3463, 0.0), (3464, 0.0), (3465, 0.0), (3466, 0.0), (3467, 0.0), (3468, 0.0), (3469, 0.0), (3470, 0.0), (3471, 0.0), (3472, 0.0), (3473, 0.0), (3474, 0.027181091469622016), (3475, 0.0), (3476, 0.0), (3477, 0.03843685040353367), (3478, 0.0), (3479, 0.0), (3480, 0.0), (3481, 0.0), (3482, 0.0), (3483, 0.029073006943799176), (3484, 0.01113709992914634), (3485, 0.0), (3486, 0.0), (3487, 0.0), (3488, 0.0), (3489, 0.0), (3490, 0.0), (3491, 0.0), (3492, 0.04215336829431851), (3493, 0.0), (3494, 0.0), (3495, 0.0), (3496, 0.0), (3497, 0.0125885422197233), (3498, 0.03154309933157289), (3499, 0.0), (3500, 0.0), (3501, 0.0), (3502, 0.0), (3503, 0.028989770084700557), (3504, 0.0), (3505, 0.0), (3506, 0.011904298212349031), (3507, 0.0), (3508, 0.0), (3509, 0.022274156075427955), (3510, 0.029542771837113905), (3511, 0.0), (3512, 0.0), (3513, 0.0), (3514, 0.0), (3515, 0.0), (3516, 0.011910315035872896), (3517, 0.0), (3518, 0.0), (3519, 0.0), (3520, 0.0), (3521, 0.0), (3522, 0.0), (3523, 0.0), (3524, 0.03194726240086718), (3525, 0.0), (3526, 0.0), (3527, 0.0), (3528, 0.0), (3529, 0.0), (3530, 0.0), (3531, 0.03368369553106784), (3532, 0.0), (3533, 0.0), (3534, 0.0), (3535, 0.0), (3536, 0.0), (3537, 0.0), (3538, 0.0), (3539, 0.0320035185227127), (3540, 0.0), (3541, 0.0), (3542, 0.0), (3543, 0.0), (3544, 0.0), (3545, 0.0), (3546, 0.021778301526723116), (3547, 0.0), (3548, 0.0), (3549, 0.0), (3550, 0.0), (3551, 0.0), (3552, 0.0), (3553, 0.02287868546103476), (3554, 0.0), (3555, 0.0), (3556, 0.0), (3557, 0.0), (3558, 0.0), (3559, 0.0), (3560, 0.0), (3561, 0.0), (3562, 0.0), (3563, 0.05172765555412995), (3564, 0.012531990035242625), (3565, 0.0), (3566, 0.0), (3567, 0.0), (3568, 0.02792428842231914), (3569, 0.0), (3570, 0.03542466163510847), (3571, 0.0), (3572, 0.0), (3573, 0.0), (3574, 0.022770735172538886), (3575, 0.03026308929963214), (3576, 0.0), (3577, 0.0), (3578, 0.0), (3579, 0.009334990195397542), (3580, 0.0), (3581, 0.0), (3582, 0.03555218037071572), (3583, 0.0), (3584, 0.0), (3585, 0.0), (3586, 0.0), (3587, 0.04666497599042912), (3588, 0.0), (3589, 0.0), (3590, 0.0), (3591, 0.0), (3592, 0.0), (3593, 0.0), (3594, 0.03298169074155171), (3595, 0.0), (3596, 0.012244574617942951), (3597, 0.0), (3598, 0.0), (3599, 0.0), (3600, 0.0), (3601, 0.0), (3602, 0.0), (3603, 0.0), (3604, 0.0), (3605, 0.0), (3606, 0.0), (3607, 0.04350803121031913), (3608, 0.0), (3609, 0.0), (3610, 0.013421119283636509), (3611, 0.02985606979541536), (3612, 0.0), (3613, 0.0), (3614, 0.0), (3615, 0.0), (3616, 0.0), (3617, 0.0), (3618, 0.0), (3619, 0.0), (3620, 0.0), (3621, 0.0), (3622, 0.0), (3623, 0.0), (3624, 0.0), (3625, 0.0), (3626, 0.04564694171505164), (3627, 0.0), (3628, 0.0), (3629, 0.0), (3630, 0.0), (3631, 0.0), (3632, 0.0), (3633, 0.0), (3634, 0.0), (3635, 0.0), (3636, 0.0), (3637, 0.0), (3638, 0.0), (3639, 0.0), (3640, 0.0), (3641, 0.0), (3642, 0.0), (3643, 0.0), (3644, 0.0), (3645, 0.0), (3646, 0.011814597536414), (3647, 0.0), (3648, 0.0), (3649, 0.0), (3650, 0.0), (3651, 0.0), (3652, 0.0), (3653, 0.0), (3654, 0.0), (3655, 0.010378593001128037), (3656, 0.053162287867099665), (3657, 0.0), (3658, 0.0107088276708383), (3659, 0.0), (3660, 0.025635299458849844), (3661, 0.0), (3662, 0.03894747242521276), (3663, 0.0), (3664, 0.0), (3665, 0.0), (3666, 0.03377768580744221), (3667, 0.009277756684689198), (3668, 0.0), (3669, 0.0), (3670, 0.03294740687370707), (3671, 0.0), (3672, 0.0), (3673, 0.0), (3674, 0.025917930760175355), (3675, 0.0), (3676, 0.0), (3677, 0.0), (3678, 0.0), (3679, 0.0), (3680, 0.0), (3681, 0.0), (3682, 0.0), (3683, 0.024195019169112337), (3684, 0.05874225126931562), (3685, 0.06385509789869509), (3686, 0.0), (3687, 0.0), (3688, 0.0), (3689, 0.0), (3690, 0.0), (3691, 0.0), (3692, 0.0), (3693, 0.0), (3694, 0.0), (3695, 0.0), (3696, 0.0), (3697, 0.0), (3698, 0.0), (3699, 0.0), (3700, 0.03606387216284935), (3701, 0.0), (3702, 0.0), (3703, 0.0), (3704, 0.0), (3705, 0.0310671554189761), (3706, 0.0), (3707, 0.0), (3708, 0.0), (3709, 0.0), (3710, 0.0), (3711, 0.0), (3712, 0.024576154804052945), (3713, 0.0), (3714, 0.0), (3715, 0.04050050589513968), (3716, 0.0), (3717, 0.0), (3718, 0.010776782121184682), (3719, 0.0), (3720, 0.0), (3721, 0.0), (3722, 0.028945191169810758), (3723, 0.0), (3724, 0.0), (3725, 0.04588484597748505), (3726, 0.0), (3727, 0.08673919687652501), (3728, 0.0), (3729, 0.0), (3730, 0.0), (3731, 0.0), (3732, 0.0), (3733, 0.0), (3734, 0.0), (3735, 0.0), (3736, 0.02707156292236272), (3737, 0.0), (3738, 0.0), (3739, 0.011209526474867573), (3740, 0.0), (3741, 0.0), (3742, 0.0), (3743, 0.0), (3744, 0.0), (3745, 0.0), (3746, 0.0), (3747, 0.03005506256939046), (3748, 0.0), (3749, 0.0), (3750, 0.008278701416057653), (3751, 0.04562682632758654), (3752, 0.0), (3753, 0.0), (3754, 0.0), (3755, 0.0), (3756, 0.0), (3757, 0.0), (3758, 0.0), (3759, 0.0), (3760, 0.0), (3761, 0.0), (3762, 0.0), (3763, 0.0), (3764, 0.0), (3765, 0.0), (3766, 0.0), (3767, 0.0), (3768, 0.0), (3769, 0.026763605812927766), (3770, 0.0), (3771, 0.0), (3772, 0.0), (3773, 0.0), (3774, 0.012506913645028454), (3775, 0.0), (3776, 0.0), (3777, 0.0), (3778, 0.0), (3779, 0.0), (3780, 0.01258191981919028), (3781, 0.0), (3782, 0.0), (3783, 0.0), (3784, 0.0), (3785, 0.047567960291411714), (3786, 0.0), (3787, 0.0), (3788, 0.0), (3789, 0.0), (3790, 0.04469341645951444), (3791, 0.0), (3792, 0.012826682616650367), (3793, 0.0), (3794, 0.0), (3795, 0.0), (3796, 0.0), (3797, 0.02933865198529858), (3798, 0.0), (3799, 0.0), (3800, 0.0), (3801, 0.0), (3802, 0.0), (3803, 0.0), (3804, 0.0), (3805, 0.0), (3806, 0.0), (3807, 0.012388109501592557), (3808, 0.0), (3809, 0.0), (3810, 0.0), (3811, 0.0), (3812, 0.044523073484122766), (3813, 0.01121251726765918), (3814, 0.0), (3815, 0.0), (3816, 0.0), (3817, 0.0), (3818, 0.0), (3819, 0.012339893586800408), (3820, 0.14341036467953988), (3821, 0.0), (3822, 0.0), (3823, 0.0), (3824, 0.0), (3825, 0.0), (3826, 0.0), (3827, 0.0), (3828, 0.029632997006325063), (3829, 0.0), (3830, 0.010149887655554695), (3831, 0.0), (3832, 0.0), (3833, 0.0), (3834, 0.0), (3835, 0.0), (3836, 0.0), (3837, 0.0), (3838, 0.0), (3839, 0.0), (3840, 0.0), (3841, 0.0), (3842, 0.0), (3843, 0.0), (3844, 0.0), (3845, 0.0), (3846, 0.0), (3847, 0.0), (3848, 0.0), (3849, 0.0119056971219074), (3850, 0.0), (3851, 0.0), (3852, 0.0), (3853, 0.0), (3854, 0.0), (3855, 0.010646834455720894), (3856, 0.0), (3857, 0.0), (3858, 0.0), (3859, 0.0), (3860, 0.0), (3861, 0.0), (3862, 0.0), (3863, 0.0), (3864, 0.0), (3865, 0.0), (3866, 0.0), (3867, 0.0), (3868, 0.022476952725544164), (3869, 0.0), (3870, 0.0), (3871, 0.0), (3872, 0.0), (3873, 0.0), (3874, 0.0), (3875, 0.0), (3876, 0.01290580000648595), (3877, 0.046007891441927774), (3878, 0.0), (3879, 0.0), (3880, 0.0), (3881, 0.0), (3882, 0.0), (3883, 0.0), (3884, 0.0), (3885, 0.0), (3886, 0.0), (3887, 0.0), (3888, 0.0), (3889, 0.0), (3890, 0.028522944783060247), (3891, 0.0), (3892, 0.0), (3893, 0.028823254078588618), (3894, 0.0), (3895, 0.0), (3896, 0.0), (3897, 0.0), (3898, 0.0), (3899, 0.04891146216154436), (3900, 0.0), (3901, 0.0), (3902, 0.0), (3903, 0.0), (3904, 0.030174256650821928), (3905, 0.0), (3906, 0.0), (3907, 0.0), (3908, 0.0), (3909, 0.0), (3910, 0.0), (3911, 0.0), (3912, 0.011270095829396939), (3913, 0.0), (3914, 0.0), (3915, 0.0), (3916, 0.0), (3917, 0.0), (3918, 0.0), (3919, 0.0), (3920, 0.0), (3921, 0.0), (3922, 0.0), (3923, 0.0), (3924, 0.0), (3925, 0.0), (3926, 0.011380730761677126), (3927, 0.0), (3928, 0.0), (3929, 0.0), (3930, 0.0), (3931, 0.0), (3932, 0.0), (3933, 0.0), (3934, 0.0), (3935, 0.0), (3936, 0.0), (3937, 0.0), (3938, 0.0), (3939, 0.0), (3940, 0.0), (3941, 0.0), (3942, 0.0), (3943, 0.0), (3944, 0.0), (3945, 0.0), (3946, 0.0), (3947, 0.0), (3948, 0.0), (3949, 0.0), (3950, 0.0), (3951, 0.0), (3952, 0.0), (3953, 0.03479074229276996), (3954, 0.0), (3955, 0.0), (3956, 0.0), (3957, 0.0), (3958, 0.0), (3959, 0.0), (3960, 0.0), (3961, 0.0), (3962, 0.0), (3963, 0.0), (3964, 0.0), (3965, 0.02503207498623284), (3966, 0.012608281423773147), (3967, 0.0), (3968, 0.0), (3969, 0.027384715260677213), (3970, 0.0), (3971, 0.0), (3972, 0.0), (3973, 0.0), (3974, 0.010985250046221763), (3975, 0.0), (3976, 0.0), (3977, 0.0), (3978, 0.0), (3979, 0.0), (3980, 0.0), (3981, 0.0), (3982, 0.03270774927197566), (3983, 0.009117254968284139), (3984, 0.0), (3985, 0.010968708726927538), (3986, 0.0), (3987, 0.0), (3988, 0.0), (3989, 0.026907691342106254), (3990, 0.040582635121959025), (3991, 0.0), (3992, 0.0), (3993, 0.011250103196422742), (3994, 0.02655443978086189), (3995, 0.0), (3996, 0.0), (3997, 0.0), (3998, 0.0), (3999, 0.0), (4000, 0.0), (4001, 0.0), (4002, 0.0), (4003, 0.0), (4004, 0.0), (4005, 0.0), (4006, 0.0), (4007, 0.040009671209271756), (4008, 0.0), (4009, 0.0), (4010, 0.0), (4011, 0.011869236641384822), (4012, 0.0), (4013, 0.0), (4014, 0.0), (4015, 0.021001515763251214), (4016, 0.0), (4017, 0.0), (4018, 0.0), (4019, 0.0), (4020, 0.0), (4021, 0.0), (4022, 0.0), (4023, 0.0), (4024, 0.0), (4025, 0.02872006643924971), (4026, 0.0), (4027, 0.0), (4028, 0.0), (4029, 0.0), (4030, 0.0), (4031, 0.0), (4032, 0.0), (4033, 0.011537367369075931), (4034, 0.0), (4035, 0.0), (4036, 0.0), (4037, 0.0), (4038, 0.0), (4039, 0.0), (4040, 0.04561716477313435), (4041, 0.0), (4042, 0.0), (4043, 0.0), (4044, 0.0), (4045, 0.04363598704645892), (4046, 0.0), (4047, 0.0), (4048, 0.0), (4049, 0.0), (4050, 0.0), (4051, 0.0), (4052, 0.0), (4053, 0.0), (4054, 0.0), (4055, 0.0), (4056, 0.0), (4057, 0.0), (4058, 0.0), (4059, 0.011845641424536158), (4060, 0.0), (4061, 0.0), (4062, 0.0), (4063, 0.0), (4064, 0.0), (4065, 0.0), (4066, 0.0), (4067, 0.0), (4068, 0.0), (4069, 0.0), (4070, 0.0), (4071, 0.0), (4072, 0.0), (4073, 0.011862780276045166), (4074, 0.07984426982230561), (4075, 0.0), (4076, 0.0), (4077, 0.0), (4078, 0.03301271101888397), (4079, 0.0), (4080, 0.0), (4081, 0.0), (4082, 0.0), (4083, 0.0), (4084, 0.0), (4085, 0.0), (4086, 0.012834965362103387), (4087, 0.0), (4088, 0.0), (4089, 0.04500886285426857), (4090, 0.04230253985890745), (4091, 0.0), (4092, 0.0), (4093, 0.0), (4094, 0.0), (4095, 0.0), (4096, 0.0), (4097, 0.014424944604876947), (4098, 0.0), (4099, 0.0), (4100, 0.0), (4101, 0.027697687120225127), (4102, 0.0), (4103, 0.0), (4104, 0.0), (4105, 0.0), (4106, 0.0), (4107, 0.0), (4108, 0.0), (4109, 0.01029356437166208), (4110, 0.011298108053146757), (4111, 0.0), (4112, 0.0), (4113, 0.0), (4114, 0.010131521096614464), (4115, 0.0), (4116, 0.0), (4117, 0.0), (4118, 0.0), (4119, 0.0), (4120, 0.0), (4121, 0.0), (4122, 0.07338469283665308), (4123, 0.0), (4124, 0.0), (4125, 0.0), (4126, 0.0), (4127, 0.0), (4128, 0.01252964360793303), (4129, 0.0), (4130, 0.0), (4131, 0.0), (4132, 0.0), (4133, 0.0), (4134, 0.0), (4135, 0.0), (4136, 0.0), (4137, 0.011510593894677247), (4138, 0.0), (4139, 0.0), (4140, 0.0), (4141, 0.0), (4142, 0.0), (4143, 0.0), (4144, 0.0), (4145, 0.0), (4146, 0.0), (4147, 0.0), (4148, 0.0), (4149, 0.0), (4150, 0.0), (4151, 0.0), (4152, 0.01147288241696354), (4153, 0.0), (4154, 0.0), (4155, 0.011822467715086944), (4156, 0.0), (4157, 0.0), (4158, 0.0), (4159, 0.011684802406786859), (4160, 0.0), (4161, 0.0), (4162, 0.03970667013163333), (4163, 0.0), (4164, 0.022850181669075143), (4165, 0.0), (4166, 0.0), (4167, 0.0), (4168, 0.0), (4169, 0.022113707862080827), (4170, 0.0), (4171, 0.007512403384444905), (4172, 0.0), (4173, 0.012518347919023416), (4174, 0.011383080813902142), (4175, 0.0), (4176, 0.03204857483433648), (4177, 0.0), (4178, 0.0), (4179, 0.0), (4180, 0.0), (4181, 0.0), (4182, 0.0), (4183, 0.0), (4184, 0.0), (4185, 0.0), (4186, 0.012077492956094492), (4187, 0.013834452797541655), (4188, 0.0), (4189, 0.025894182434447927), (4190, 0.0), (4191, 0.0), (4192, 0.0), (4193, 0.0), (4194, 0.029598050712986462), (4195, 0.0), (4196, 0.0), (4197, 0.040845644547307845), (4198, 0.0), (4199, 0.05071012446476764), (4200, 0.0), (4201, 0.0), (4202, 0.0), (4203, 0.0), (4204, 0.0), (4205, 0.0), (4206, 0.0), (4207, 0.01302689261944161), (4208, 0.0), (4209, 0.0), (4210, 0.03371984829399745), (4211, 0.0), (4212, 0.0), (4213, 0.0), (4214, 0.0), (4215, 0.0), (4216, 0.0), (4217, 0.0), (4218, 0.0126335006545831), (4219, 0.0), (4220, 0.0), (4221, 0.0), (4222, 0.0), (4223, 0.0), (4224, 0.0), (4225, 0.0), (4226, 0.0), (4227, 0.0), (4228, 0.0), (4229, 0.0), (4230, 0.0), (4231, 0.0), (4232, 0.0), (4233, 0.0), (4234, 0.0), (4235, 0.0), (4236, 0.0), (4237, 0.0), (4238, 0.0), (4239, 0.0), (4240, 0.04338220022924104), (4241, 0.0), (4242, 0.0), (4243, 0.0), (4244, 0.0), (4245, 0.0), (4246, 0.0), (4247, 0.010352308185139906), (4248, 0.0), (4249, 0.0), (4250, 0.0), (4251, 0.0), (4252, 0.09953872171316366), (4253, 0.0), (4254, 0.0), (4255, 0.0), (4256, 0.0), (4257, 0.0), (4258, 0.0), (4259, 0.0), (4260, 0.0), (4261, 0.0), (4262, 0.023070167905181398), (4263, 0.0), (4264, 0.0), (4265, 0.0), (4266, 0.0), (4267, 0.0), (4268, 0.026382635126039968), (4269, 0.02904149798955846), (4270, 0.0), (4271, 0.014997407134739557), (4272, 0.0), (4273, 0.0), (4274, 0.01188495668442005), (4275, 0.0), (4276, 0.0), (4277, 0.0322988968696362), (4278, 0.0), (4279, 0.0), (4280, 0.0), (4281, 0.0), (4282, 0.0), (4283, 0.0), (4284, 0.0), (4285, 0.0), (4286, 0.04054397378859832), (4287, 0.03645724116366766), (4288, 0.0), (4289, 0.0), (4290, 0.023619456962886837), (4291, 0.0), (4292, 0.0), (4293, 0.0), (4294, 0.0), (4295, 0.0), (4296, 0.0), (4297, 0.0), (4298, 0.0), (4299, 0.0), (4300, 0.0), (4301, 0.0), (4302, 0.0), (4303, 0.034095663653764686), (4304, 0.030208003530952023), (4305, 0.0), (4306, 0.0), (4307, 0.0), (4308, 0.0), (4309, 0.0), (4310, 0.011832176242451035), (4311, 0.0), (4312, 0.0), (4313, 0.0), (4314, 0.0), (4315, 0.0), (4316, 0.0), (4317, 0.036775243604917005), (4318, 0.04384717670864274), (4319, 0.08118260685330886), (4320, 0.0), (4321, 0.011100475236073807), (4322, 0.0), (4323, 0.0), (4324, 0.0), (4325, 0.023810373767800246), (4326, 0.0), (4327, 0.0), (4328, 0.0), (4329, 0.03914647479311214), (4330, 0.0), (4331, 0.0), (4332, 0.0), (4333, 0.01266320134241699), (4334, 0.0), (4335, 0.0), (4336, 0.0), (4337, 0.0), (4338, 0.0), (4339, 0.0), (4340, 0.0), (4341, 0.034286683000665646), (4342, 0.0), (4343, 0.0), (4344, 0.03257549079960775), (4345, 0.03588327112296171), (4346, 0.0), (4347, 0.0), (4348, 0.0), (4349, 0.0), (4350, 0.0), (4351, 0.0), (4352, 0.0), (4353, 0.04112030861783928), (4354, 0.0), (4355, 0.0), (4356, 0.011385022806986422), (4357, 0.0), (4358, 0.0), (4359, 0.027310907959792262), (4360, 0.0), (4361, 0.0), (4362, 0.0), (4363, 0.03768086600632975), (4364, 0.0), (4365, 0.0), (4366, 0.010678852185528163), (4367, 0.0), (4368, 0.0), (4369, 0.0), (4370, 0.0), (4371, 0.034737206647628006), (4372, 0.0), (4373, 0.0), (4374, 0.03981298902340914), (4375, 0.0), (4376, 0.0), (4377, 0.0), (4378, 0.0), (4379, 0.0), (4380, 0.0), (4381, 0.0), (4382, 0.0), (4383, 0.0), (4384, 0.0), (4385, 0.0), (4386, 0.0), (4387, 0.0), (4388, 0.06706831740240476), (4389, 0.0), (4390, 0.0), (4391, 0.0), (4392, 0.0), (4393, 0.0), (4394, 0.0), (4395, 0.0), (4396, 0.0), (4397, 0.0), (4398, 0.0), (4399, 0.02290998583585535), (4400, 0.0), (4401, 0.0), (4402, 0.0), (4403, 0.0), (4404, 0.0), (4405, 0.0), (4406, 0.0), (4407, 0.013352796842316174), (4408, 0.0), (4409, 0.0), (4410, 0.0), (4411, 0.025210002814854277), (4412, 0.038580493701166105), (4413, 0.0), (4414, 0.0), (4415, 0.0), (4416, 0.031907337569611866), (4417, 0.0), (4418, 0.0), (4419, 0.0), (4420, 0.0), (4421, 0.03853870483018853), (4422, 0.0), (4423, 0.0), (4424, 0.0), (4425, 0.0), (4426, 0.0), (4427, 0.011950168586237915), (4428, 0.0), (4429, 0.0), (4430, 0.0), (4431, 0.03243840431804323), (4432, 0.0), (4433, 0.0), (4434, 0.06031823305180002), (4435, 0.0), (4436, 0.0), (4437, 0.011409969449751872), (4438, 0.01188760310460937), (4439, 0.0), (4440, 0.0), (4441, 0.0), (4442, 0.0), (4443, 0.0), (4444, 0.0), (4445, 0.017668477866215778), (4446, 0.0), (4447, 0.0), (4448, 0.0), (4449, 0.0), (4450, 0.0), (4451, 0.0), (4452, 0.0), (4453, 0.0), (4454, 0.02798567143604823), (4455, 0.0), (4456, 0.0), (4457, 0.0), (4458, 0.0), (4459, 0.0), (4460, 0.013213067451041281), (4461, 0.0), (4462, 0.0), (4463, 0.0), (4464, 0.0), (4465, 0.0), (4466, 0.0), (4467, 0.0), (4468, 0.01002578593115897), (4469, 0.0), (4470, 0.029747189500287253), (4471, 0.0), (4472, 0.011317183605232348), (4473, 0.012455869661944084), (4474, 0.0), (4475, 0.0), (4476, 0.0), (4477, 0.0), (4478, 0.0), (4479, 0.0), (4480, 0.0), (4481, 0.0), (4482, 0.0), (4483, 0.0), (4484, 0.0), (4485, 0.0), (4486, 0.0), (4487, 0.0), (4488, 0.02800055503941878), (4489, 0.0), (4490, 0.0), (4491, 0.0), (4492, 0.0), (4493, 0.0), (4494, 0.0), (4495, 0.0), (4496, 0.0), (4497, 0.023437012492409225), (4498, 0.022249315104360328), (4499, 0.0), (4500, 0.0), (4501, 0.0), (4502, 0.0), (4503, 0.04525641997944241), (4504, 0.0), (4505, 0.0), (4506, 0.0), (4507, 0.0), (4508, 0.0), (4509, 0.0), (4510, 0.0), (4511, 0.0), (4512, 0.0), (4513, 0.022418165649234382), (4514, 0.0), (4515, 0.01133056025096402), (4516, 0.0), (4517, 0.0), (4518, 0.0), (4519, 0.021344516123919844), (4520, 0.0), (4521, 0.0), (4522, 0.0), (4523, 0.0), (4524, 0.0), (4525, 0.029387872101231102), (4526, 0.0), (4527, 0.0), (4528, 0.0), (4529, 0.0526792076073977), (4530, 0.0), (4531, 0.0), (4532, 0.0), (4533, 0.0), (4534, 0.0), (4535, 0.0), (4536, 0.03132784292964361), (4537, 0.0), (4538, 0.036104679697778724), (4539, 0.0), (4540, 0.0), (4541, 0.03873206209126351), (4542, 0.011903278287953229), (4543, 0.0), (4544, 0.0), (4545, 0.02842625764525763), (4546, 0.0), (4547, 0.0), (4548, 0.0), (4549, 0.0), (4550, 0.0), (4551, 0.0), (4552, 0.0), (4553, 0.0), (4554, 0.0), (4555, 0.0), (4556, 0.0), (4557, 0.0), (4558, 0.027678755651957664), (4559, 0.0), (4560, 0.0), (4561, 0.0), (4562, 0.0), (4563, 0.0), (4564, 0.0), (4565, 0.0), (4566, 0.0), (4567, 0.0), (4568, 0.0), (4569, 0.034943728327733375), (4570, 0.0), (4571, 0.0), (4572, 0.0), (4573, 0.0), (4574, 0.012684667133330055), (4575, 0.0), (4576, 0.0), (4577, 0.0), (4578, 0.0), (4579, 0.0), (4580, 0.0), (4581, 0.0), (4582, 0.0), (4583, 0.0), (4584, 0.0), (4585, 0.0), (4586, 0.0), (4587, 0.02191709023395378), (4588, 0.0), (4589, 0.0), (4590, 0.010419113641858239), (4591, 0.0), (4592, 0.0), (4593, 0.0), (4594, 0.0), (4595, 0.0), (4596, 0.0), (4597, 0.0), (4598, 0.008730374559336099), (4599, 0.0), (4600, 0.0), (4601, 0.0), (4602, 0.0), (4603, 0.0), (4604, 0.0), (4605, 0.0), (4606, 0.0), (4607, 0.0), (4608, 0.0), (4609, 0.0), (4610, 0.0), (4611, 0.0), (4612, 0.0), (4613, 0.0), (4614, 0.0), (4615, 0.0), (4616, 0.0), (4617, 0.0), (4618, 0.0), (4619, 0.0), (4620, 0.0), (4621, 0.0), (4622, 0.0), (4623, 0.0), (4624, 0.0), (4625, 0.0), (4626, 0.0), (4627, 0.0), (4628, 0.0), (4629, 0.0), (4630, 0.0), (4631, 0.0), (4632, 0.0), (4633, 0.0), (4634, 0.0), (4635, 0.0), (4636, 0.0), (4637, 0.0), (4638, 0.02611546348778649), (4639, 0.012282565393778118), (4640, 0.0), (4641, 0.0), (4642, 0.0), (4643, 0.0258133593553503), (4644, 0.0), (4645, 0.0), (4646, 0.0), (4647, 0.027583362945104276), (4648, 0.0), (4649, 0.0), (4650, 0.02885919421524479), (4651, 0.0), (4652, 0.0), (4653, 0.0), (4654, 0.0), (4655, 0.0), (4656, 0.0), (4657, 0.0), (4658, 0.031647709559074755), (4659, 0.06832381717679611), (4660, 0.0), (4661, 0.0), (4662, 0.0), (4663, 0.0), (4664, 0.0), (4665, 0.0), (4666, 0.0), (4667, 0.0), (4668, 0.0), (4669, 0.0), (4670, 0.0), (4671, 0.0), (4672, 0.0), (4673, 0.0), (4674, 0.0), (4675, 0.0), (4676, 0.0), (4677, 0.0), (4678, 0.0), (4679, 0.011061536335931613), (4680, 0.0), (4681, 0.0), (4682, 0.0), (4683, 0.0), (4684, 0.011804515459073704), (4685, 0.0), (4686, 0.0), (4687, 0.0), (4688, 0.07753307392348988), (4689, 0.0), (4690, 0.0), (4691, 0.0), (4692, 0.0), (4693, 0.0), (4694, 0.0), (4695, 0.0), (4696, 0.0), (4697, 0.0), (4698, 0.0), (4699, 0.030706398085133653), (4700, 0.0), (4701, 0.0), (4702, 0.0), (4703, 0.0), (4704, 0.0), (4705, 0.0373247185754004), (4706, 0.0), (4707, 0.0), (4708, 0.011563271057903083), (4709, 0.0), (4710, 0.0), (4711, 0.0), (4712, 0.0), (4713, 0.0), (4714, 0.0), (4715, 0.0), (4716, 0.0), (4717, 0.0), (4718, 0.0), (4719, 0.04731858717220301), (4720, 0.0), (4721, 0.0), (4722, 0.0), (4723, 0.0), (4724, 0.0), (4725, 0.014148412333836919), (4726, 0.0), (4727, 0.0), (4728, 0.0), (4729, 0.0), (4730, 0.0), (4731, 0.0), (4732, 0.0), (4733, 0.0), (4734, 0.0), (4735, 0.0), (4736, 0.0), (4737, 0.0), (4738, 0.0), (4739, 0.02145551442276967), (4740, 0.0), (4741, 0.0), (4742, 0.028878346995636375), (4743, 0.0), (4744, 0.0), (4745, 0.0), (4746, 0.0), (4747, 0.0), (4748, 0.0), (4749, 0.0), (4750, 0.0), (4751, 0.0), (4752, 0.009058720648922393), (4753, 0.028576240733236193), (4754, 0.0), (4755, 0.0), (4756, 0.02144100168126391), (4757, 0.01197609119631358), (4758, 0.0), (4759, 0.0)]\n"
          ]
        }
      ]
    },
    {
      "cell_type": "code",
      "source": [
        "len(Recommendation_Score)"
      ],
      "metadata": {
        "colab": {
          "base_uri": "https://localhost:8080/"
        },
        "id": "duN7wqj0rYwr",
        "outputId": "348372a0-6a43-4e85-e54f-fc2a19a4e6f8"
      },
      "execution_count": null,
      "outputs": [
        {
          "output_type": "execute_result",
          "data": {
            "text/plain": [
              "4760"
            ]
          },
          "metadata": {},
          "execution_count": 34
        }
      ]
    },
    {
      "cell_type": "code",
      "source": [
        "# sorting the movies based on their similarity score\n",
        "Sorted_Similar_Movies = sorted(Recommendation_Score, key = lambda x:x[1], reverse = True)\n",
        "print(Sorted_Similar_Movies)"
      ],
      "metadata": {
        "colab": {
          "base_uri": "https://localhost:8080/"
        },
        "id": "saCe7C4lwcJL",
        "outputId": "51ea0429-6f01-4f51-8038-52bfe1357ad3"
      },
      "execution_count": null,
      "outputs": [
        {
          "output_type": "stream",
          "name": "stdout",
          "text": [
            "[(2851, 1.0000000000000002), (1842, 0.23501401462414995), (399, 0.187556974837786), (1951, 0.17446231101900897), (3820, 0.14341036467953988), (2188, 0.13912917654087387), (3071, 0.13199092474107296), (116, 0.12695489866572476), (1646, 0.12193565757199736), (2464, 0.12006012324197864), (807, 0.11763147248869049), (2140, 0.1154770631540892), (1490, 0.11336740265738823), (3046, 0.11264577271920947), (1517, 0.10058350215512635), (4252, 0.09953872171316366), (3027, 0.09757615536995799), (3033, 0.09720442041771601), (2445, 0.09495760973329263), (3727, 0.08673919687652501), (642, 0.0856193594938355), (4319, 0.08118260685330886), (2965, 0.08041683040594963), (4074, 0.07984426982230561), (1062, 0.07976097682121112), (1290, 0.07791429917184482), (4688, 0.07753307392348988), (2873, 0.07708972613068842), (3133, 0.07628723959077327), (1344, 0.07583011150054979), (4122, 0.07338469283665308), (953, 0.07285173002515352), (1079, 0.07279509464326145), (2009, 0.07271674468057451), (2196, 0.07205851339808078), (1122, 0.07121707851464186), (2958, 0.07104889861025479), (1243, 0.07009544606870133), (2659, 0.06991152819244166), (1086, 0.06986166950120146), (938, 0.06963749224673732), (1393, 0.0695924518101256), (2699, 0.06909452537988178), (4659, 0.06832381717679611), (1157, 0.06819627361058221), (2372, 0.0681196570786482), (1657, 0.06780448647956318), (4388, 0.06706831740240476), (771, 0.0670491130156053), (1435, 0.06693776725002383), (2889, 0.06438796586248141), (3685, 0.06385509789869509), (1964, 0.06306039964674165), (2022, 0.06295571658978083), (19, 0.06271187626453506), (791, 0.06221499559613988), (639, 0.06149494912675578), (752, 0.06090216796638328), (1250, 0.06059073377597854), (3017, 0.06053231345211504), (4434, 0.06031823305180002), (652, 0.05981574752158102), (2925, 0.059517466303043935), (2377, 0.05917642580347349), (198, 0.05888791816158725), (3684, 0.05874225126931562), (2187, 0.058697659356048607), (1017, 0.05837551797236396), (758, 0.058161850193781436), (853, 0.05696546424816546), (2649, 0.056203710636052215), (761, 0.05575341168289354), (305, 0.05569234546628314), (1528, 0.0553952469228115), (1781, 0.05497336575857019), (699, 0.05495763720971828), (1136, 0.05472680975660579), (2736, 0.05468626584581632), (3000, 0.05460737944584542), (3189, 0.05441610368225348), (2123, 0.053640164519080186), (2325, 0.05350110908523289), (804, 0.053206637274913926), (3656, 0.053162287867099665), (4529, 0.0526792076073977), (3031, 0.051747060070183336), (3563, 0.05172765555412995), (302, 0.051485570118563875), (1555, 0.051159330526937136), (546, 0.050853819698407854), (1279, 0.05081366621254624), (3240, 0.05077010180399502), (4199, 0.05071012446476764), (2833, 0.05068301290235261), (2223, 0.0503128751033204), (860, 0.050295977638676874), (2493, 0.05026738472150225), (2781, 0.050048211742139886), (1249, 0.04985410896119542), (2775, 0.04951174716239413), (3899, 0.04891146216154436), (2468, 0.04880035957805711), (2431, 0.04854748650009031), (3060, 0.048238616878152916), (3132, 0.0481379242702102), (562, 0.04785453028048455), (1474, 0.047809282347172945), (3785, 0.047567960291411714), (1476, 0.04748461236016574), (3134, 0.04732887718964336), (4719, 0.04731858717220301), (1915, 0.046776636299144726), (1499, 0.04676861577799297), (3587, 0.04666497599042912), (2397, 0.046589825753973274), (2907, 0.04655092444524331), (2185, 0.046510620163076), (3191, 0.04650973283056972), (1817, 0.046416809280530935), (90, 0.046414319024200644), (2609, 0.04630037610407089), (3877, 0.046007891441927774), (2830, 0.04592021409777776), (3725, 0.04588484597748505), (3626, 0.04564694171505164), (3751, 0.04562682632758654), (4040, 0.04561716477313435), (2808, 0.045582519461301256), (4503, 0.04525641997944241), (977, 0.0450832280033677), (4089, 0.04500886285426857), (3094, 0.04490969182554151), (3790, 0.04469341645951444), (3117, 0.044620288025033025), (2841, 0.044577020679796894), (3812, 0.044523073484122766), (1587, 0.04441608228229414), (1362, 0.04425107153962987), (451, 0.044053485345237994), (971, 0.04387732405211998), (4318, 0.04384717670864274), (3289, 0.043788051733268774), (1130, 0.04366429893418319), (1895, 0.04363763407639799), (4045, 0.04363598704645892), (1654, 0.043618975847610895), (3607, 0.04350803121031913), (430, 0.04345835043346245), (2756, 0.04341232913331087), (4240, 0.04338220022924104), (2375, 0.043202960472414925), (2777, 0.042986003791579845), (95, 0.042852258143267055), (1867, 0.04268436230914449), (1489, 0.04262297730507508), (2349, 0.04242367468628658), (3056, 0.04233272886689669), (4090, 0.04230253985890745), (3492, 0.04215336829431851), (45, 0.04178951502034185), (93, 0.04157384469590789), (689, 0.041553828146033304), (1353, 0.041417526239143396), (665, 0.04137678050189729), (1682, 0.04135695697271702), (1787, 0.04135077853306138), (2710, 0.041304656605115904), (656, 0.0413015649496471), (4353, 0.04112030861783928), (4197, 0.040845644547307845), (2667, 0.04082342673331996), (2793, 0.04080832094508191), (1175, 0.04065630130120067), (3990, 0.040582635121959025), (4286, 0.04054397378859832), (1148, 0.04050265016204963), (3715, 0.04050050589513968), (94, 0.04048077123779615), (3149, 0.040375802382804644), (3167, 0.04037236295477101), (2817, 0.04035766439620532), (52, 0.04034833233469349), (2357, 0.04028171720113488), (1379, 0.040252888858481925), (1698, 0.040250284618232254), (2660, 0.04010665403757202), (2070, 0.040082541247214415), (2884, 0.04004381709405096), (2421, 0.040037168452670045), (384, 0.040029876099054375), (4007, 0.040009671209271756), (1335, 0.039952256490512504), (1441, 0.0398466187288599), (4374, 0.03981298902340914), (1255, 0.03974842765168768), (894, 0.03973774815709605), (4162, 0.03970667013163333), (137, 0.0396657843281307), (1757, 0.03964215994513738), (522, 0.03957785015875905), (1009, 0.039447504651245774), (2269, 0.03941297229953322), (1422, 0.039360300948873314), (2494, 0.03932165953022968), (105, 0.03930012108473208), (2539, 0.039292237533023855), (1138, 0.03928220995084844), (2952, 0.03922597013793417), (1516, 0.03917224958956287), (4329, 0.03914647479311214), (859, 0.03908154220399822), (463, 0.03899003725438078), (1952, 0.03898843739292049), (3662, 0.03894747242521276), (2645, 0.03880437282978941), (424, 0.03874006905818183), (4541, 0.03873206209126351), (2523, 0.038586600355749345), (4412, 0.038580493701166105), (4421, 0.03853870483018853), (3477, 0.03843685040353367), (2460, 0.03840620024644597), (344, 0.03835531638075791), (1256, 0.0382825923800086), (297, 0.03808331826184979), (3083, 0.037988442041895165), (984, 0.03771630040109219), (4363, 0.03768086600632975), (939, 0.037508583010898), (298, 0.03745830648944519), (1207, 0.037403282402315274), (1318, 0.03738428119015812), (4705, 0.0373247185754004), (3006, 0.03732174456947364), (3163, 0.03729677176830764), (1673, 0.03727674344514547), (1634, 0.03719862799601002), (545, 0.03712760943578394), (1454, 0.037079838230246985), (801, 0.03706499545153479), (1312, 0.03691696015310838), (4317, 0.036775243604917005), (661, 0.036717734748170784), (2090, 0.03671735512638538), (2157, 0.036704463636100054), (34, 0.03666052283714334), (64, 0.03664750913138793), (1905, 0.03652410897936953), (4287, 0.03645724116366766), (792, 0.03642010818402306), (2617, 0.0364143204987632), (3269, 0.036386681315392674), (848, 0.03633484927467793), (1232, 0.036292507009214554), (4538, 0.036104679697778724), (1618, 0.036093965803308446), (2681, 0.036066176614682144), (3700, 0.03606387216284935), (301, 0.035976912554229155), (4345, 0.03588327112296171), (2374, 0.03587380031401048), (2342, 0.03583690571584845), (2672, 0.03580093310807991), (788, 0.03578506483724281), (2457, 0.03576993421686345), (2459, 0.035679726804306165), (2959, 0.03567478995479892), (569, 0.035637749378146136), (75, 0.035564397538767535), (3582, 0.03555218037071572), (3570, 0.03542466163510847), (1571, 0.03541676659041523), (1973, 0.03539478842544048), (827, 0.03538533396564378), (1759, 0.035358105760857975), (1390, 0.03532181371267781), (3334, 0.03525848467074623), (2427, 0.035253517697383864), (820, 0.035230501414549864), (1272, 0.035130728815101875), (1089, 0.03512791024101555), (1500, 0.03509667749852713), (4569, 0.034943728327733375), (299, 0.034883657044128005), (1273, 0.03480674880580421), (3953, 0.03479074229276996), (680, 0.03478934787045332), (4371, 0.034737206647628006), (1771, 0.03472632284893147), (3438, 0.03466677450468562), (2574, 0.03461943383077818), (981, 0.03458208403830217), (1833, 0.03456808382793103), (1103, 0.034565771126668185), (1198, 0.034468525652808515), (300, 0.03429056478174385), (4341, 0.034286683000665646), (3124, 0.034198513857138034), (4303, 0.034095663653764686), (749, 0.033959931412627), (1203, 0.03383321214499116), (1542, 0.033832817781096404), (3080, 0.033830755538150674), (2074, 0.03381389038229531), (3666, 0.03377768580744221), (4210, 0.03371984829399745), (3531, 0.03368369553106784), (2740, 0.0336120432336868), (2274, 0.03355640613986994), (1605, 0.03355591842951734), (1110, 0.0334240523110914), (610, 0.0332082032729158), (408, 0.03320701705556863), (1890, 0.03319796086691059), (2572, 0.033167097911783495), (2869, 0.03314476083461864), (2162, 0.03312660968255129), (2385, 0.0330561101577309), (4078, 0.03301271101888397), (2619, 0.033001492980406257), (3594, 0.03298169074155171), (3670, 0.03294740687370707), (2929, 0.03294382726187731), (1479, 0.032909515899378704), (2739, 0.03279407383761126), (2824, 0.03272500164251706), (3982, 0.03270774927197566), (1306, 0.03269345392828207), (520, 0.032626259387232126), (4344, 0.03257549079960775), (2151, 0.032542745386952183), (1559, 0.03250319288857266), (3028, 0.03246551894309469), (386, 0.03244043580277234), (4431, 0.03243840431804323), (687, 0.032390399281575145), (1291, 0.03234727873751836), (345, 0.03231217172232162), (4277, 0.0322988968696362), (2673, 0.032282627169916166), (2480, 0.032224652145618475), (742, 0.03219318081480824), (1419, 0.03207089976410997), (4176, 0.03204857483433648), (3539, 0.0320035185227127), (3225, 0.03197999212427983), (1107, 0.03197871417934375), (3524, 0.03194726240086718), (4416, 0.031907337569611866), (1004, 0.031903035162788286), (2270, 0.0318456915534541), (2204, 0.03172163091006311), (1510, 0.031694326851527004), (2635, 0.03169226183461357), (686, 0.0316639956415444), (4658, 0.031647709559074755), (1789, 0.031585263063740446), (2034, 0.03157082027238174), (1294, 0.0315668011024198), (3498, 0.03154309933157289), (4536, 0.03132784292964361), (2552, 0.031277292571339495), (3416, 0.03127638571209333), (1893, 0.031262275200321696), (2019, 0.03110819492251315), (3705, 0.0310671554189761), (1494, 0.030993996499991832), (3067, 0.03094050028952403), (3270, 0.030931248531550364), (236, 0.030913508155615096), (380, 0.030906131037196045), (1217, 0.030766935872316235), (3182, 0.030763763596909376), (4699, 0.030706398085133653), (1829, 0.030601623634497255), (1230, 0.030520353380460226), (246, 0.030497509262425667), (3077, 0.030424430415681943), (1173, 0.030419373721180348), (1297, 0.030410374241869206), (872, 0.030388451383235947), (2642, 0.030347570397958316), (974, 0.030275539316310135), (3575, 0.03026308929963214), (237, 0.03024065337761515), (3073, 0.030225944931109368), (514, 0.0302089079105897), (4304, 0.030208003530952023), (3904, 0.030174256650821928), (2688, 0.030089556778427052), (1823, 0.030085635745573887), (1765, 0.030067535998190786), (3747, 0.03005506256939046), (2679, 0.029993404420452636), (2621, 0.029991471492093233), (747, 0.02997691015902108), (509, 0.02993170947115157), (2853, 0.029916232056536395), (931, 0.029877062669727193), (1568, 0.02985763247303814), (3611, 0.02985606979541536), (2097, 0.02985152689795677), (217, 0.029846512865761017), (1481, 0.029844672187549114), (2111, 0.02974763734495129), (4470, 0.029747189500287253), (985, 0.02973075231193974), (249, 0.02972937195572291), (65, 0.029678997688021083), (3828, 0.029632997006325063), (2519, 0.029628226792034886), (621, 0.029625369314984246), (392, 0.029604514561274973), (4194, 0.029598050712986462), (3510, 0.029542771837113905), (2086, 0.029488698517704266), (173, 0.029426603174714124), (1581, 0.0294117697529064), (4525, 0.029387872101231102), (3797, 0.02933865198529858), (80, 0.029334519192787654), (2606, 0.029248601136750867), (746, 0.02921948342550135), (1002, 0.02921607737893863), (3458, 0.02918808087391623), (980, 0.029184612952568165), (1321, 0.02918307038081968), (3483, 0.029073006943799176), (660, 0.029070746041243933), (1436, 0.029049120307243805), (4269, 0.02904149798955846), (2481, 0.02901435935338926), (3503, 0.028989770084700557), (3304, 0.02897231158400883), (3722, 0.028945191169810758), (4742, 0.028878346995636375), (4650, 0.02885919421524479), (3893, 0.028823254078588618), (2761, 0.028811398988590965), (723, 0.028800461806388546), (965, 0.02875699621894609), (1614, 0.02872275276842177), (4025, 0.02872006643924971), (935, 0.028708745643509677), (1007, 0.028664201906436367), (2190, 0.0286468373144472), (2290, 0.02862858766248818), (1545, 0.02860271675752921), (4753, 0.028576240733236193), (2697, 0.02856947463269885), (2303, 0.028554839987498585), (724, 0.028553159721720175), (989, 0.028539397983634984), (3890, 0.028522944783060247), (3356, 0.028518125199307617), (540, 0.0285052265581191), (192, 0.02847388373422485), (4545, 0.02842625764525763), (921, 0.028360229977034697), (1015, 0.028327828862488948), (1937, 0.028306110245350402), (2772, 0.028294168276138603), (1073, 0.02827971912707171), (2446, 0.028219404052129707), (741, 0.028213966624023038), (1795, 0.028158053156229282), (2587, 0.02814737495240074), (1227, 0.028115024367477707), (1292, 0.028082448102350152), (2161, 0.028071953242050085), (152, 0.028069080245910427), (4488, 0.02800055503941878), (795, 0.027998339668297657), (4454, 0.02798567143604823), (877, 0.027984478576571457), (1238, 0.027937562131973303), (3568, 0.02792428842231914), (1935, 0.027910359336253708), (524, 0.027900325188203453), (2887, 0.027896246798223896), (1690, 0.0278176081344355), (1443, 0.02779339325760931), (421, 0.027754650588492462), (2266, 0.027699930263064276), (4101, 0.027697687120225127), (4558, 0.027678755651957664), (3098, 0.027669242159086522), (14, 0.027662935187728263), (565, 0.02760614040836178), (1407, 0.027595715922530434), (4647, 0.027583362945104276), (633, 0.027550594461142226), (2570, 0.02748763629874265), (3387, 0.02741735900232124), (2663, 0.027411730992736083), (3969, 0.027384715260677213), (69, 0.02734604013575096), (2718, 0.02733132366667537), (494, 0.027322661012897438), (4359, 0.027310907959792262), (1339, 0.027235330066728392), (2085, 0.027234447557557124), (2962, 0.02722849784019282), (213, 0.027215080663620817), (3474, 0.027181091469622016), (1211, 0.0271676495577087), (2825, 0.027164361180620777), (1691, 0.02712968015793329), (3736, 0.02707156292236272), (156, 0.027038278695082612), (178, 0.026962965906291377), (378, 0.02696208688323637), (1645, 0.026941080331838507), (3989, 0.026907691342106254), (2588, 0.026882965684328717), (756, 0.02684410339618149), (374, 0.0267882147968472), (3769, 0.026763605812927766), (1025, 0.026762208658980578), (3023, 0.026716480451419857), (879, 0.026625323043044984), (3994, 0.02655443978086189), (3422, 0.02652189137495076), (1998, 0.026505308826484393), (2433, 0.026438377604573078), (179, 0.026417321218982864), (3418, 0.026382941097365234), (4268, 0.026382635126039968), (67, 0.026261107201278062), (30, 0.026203231347382533), (1487, 0.026192852462296412), (553, 0.02618386972100712), (2788, 0.026150976742629024), (3456, 0.02611722821870165), (4638, 0.02611546348778649), (2554, 0.026115042342775962), (1550, 0.026040555567817605), (2073, 0.02601536481001759), (18, 0.025991504555336182), (2988, 0.02599108147547206), (3312, 0.025982398993822462), (1098, 0.025961466782599446), (154, 0.025949640499940533), (2742, 0.02594627518499785), (3674, 0.025917930760175355), (202, 0.02591017559667786), (4189, 0.025894182434447927), (2195, 0.02588287727231184), (1132, 0.025821228677649105), (2813, 0.025816917670661542), (4643, 0.0258133593553503), (1468, 0.02580059645657049), (155, 0.02576086110732806), (3660, 0.025635299458849844), (1873, 0.025615664395688246), (2840, 0.02559510263696239), (1082, 0.02555124739216482), (1433, 0.025528002474270232), (3241, 0.02548453295958666), (1782, 0.025469608381705852), (3021, 0.025435204390705183), (611, 0.025401139669602946), (115, 0.025350540871822137), (541, 0.02529987414380298), (816, 0.025283366821249126), (1626, 0.025274669772096185), (82, 0.025255656642517887), (2207, 0.025241502283016637), (3110, 0.025237406774576216), (4411, 0.025210002814854277), (2677, 0.025179068976331667), (1152, 0.025162766664654793), (1793, 0.025115677224031727), (1814, 0.025101899819884834), (498, 0.025077724215698885), (651, 0.025075074243063385), (3111, 0.02506489782355872), (2578, 0.025061615020821028), (3965, 0.02503207498623284), (78, 0.025024790299321645), (2473, 0.025000283928176183), (625, 0.024942340463306106), (1464, 0.02490791999307861), (2014, 0.024896615207431808), (1777, 0.02487877479894745), (3155, 0.024792393259862974), (2636, 0.024738458883800375), (2033, 0.024719378100438373), (2831, 0.024686937902885054), (1342, 0.024594924493963586), (3712, 0.024576154804052945), (2876, 0.024569308480796408), (113, 0.02454567899463642), (622, 0.02451584308622584), (559, 0.02446148523033683), (266, 0.024451065727109568), (597, 0.02440843403687665), (2897, 0.024289587089483082), (3683, 0.024195019169112337), (2762, 0.024148899680954357), (2, 0.024053394090071536), (657, 0.02397693474396769), (1300, 0.023918675471417822), (658, 0.02387120313379517), (4325, 0.023810373767800246), (269, 0.023774599310807804), (558, 0.0237606102004006), (2899, 0.023729141612140268), (3214, 0.023636540407945043), (4290, 0.023619456962886837), (1592, 0.023579382709873056), (4497, 0.023437012492409225), (1354, 0.02341154966474371), (1767, 0.023363707445768846), (1584, 0.023277220157569747), (414, 0.023186424226905596), (4262, 0.023070167905181398), (304, 0.022992800895666913), (4399, 0.02290998583585535), (3553, 0.02287868546103476), (2770, 0.022871900786649888), (4164, 0.022850181669075143), (3392, 0.022843476264193797), (3574, 0.022770735172538886), (475, 0.022698088319306108), (2287, 0.02255087464442413), (3868, 0.022476952725544164), (2512, 0.02247629876432287), (4513, 0.022418165649234382), (2509, 0.022363104771707613), (495, 0.02232816318425095), (3509, 0.022274156075427955), (4498, 0.022249315104360328), (3303, 0.022236629062672875), (1428, 0.022141517498061227), (1648, 0.02214042080619441), (757, 0.022133924364264323), (4169, 0.022113707862080827), (4587, 0.02191709023395378), (2711, 0.02187015705660494), (3546, 0.021778301526723116), (1780, 0.021688287111385107), (1861, 0.02158993166293185), (1524, 0.02149332385174204), (4739, 0.02145551442276967), (4756, 0.02144100168126391), (4519, 0.021344516123919844), (2981, 0.021276687429781154), (2359, 0.02124545834220745), (2789, 0.021197649927479866), (357, 0.02119401325329358), (2931, 0.021071483112723097), (4015, 0.021001515763251214), (3063, 0.0208833722122533), (435, 0.020882869313727518), (2039, 0.02087447926093075), (563, 0.02067784708625054), (3344, 0.02054635822769321), (2622, 0.020505135228881425), (195, 0.020427317868965487), (3213, 0.02040333577319683), (453, 0.0204006738942181), (1546, 0.020232575277084015), (2035, 0.019879019189707497), (196, 0.01966976121854322), (2447, 0.01958480959105409), (1925, 0.019436327115948296), (2646, 0.019426003110811753), (1981, 0.01934860173276252), (3215, 0.019314451747233678), (1221, 0.01914219110132628), (2908, 0.019091723769024127), (2877, 0.018852285489062252), (709, 0.018727451992701975), (738, 0.018211431839418285), (1509, 0.018123977080568142), (831, 0.018006214025012176), (108, 0.017916854778122337), (4445, 0.017668477866215778), (2760, 0.016648690343728442), (2443, 0.016402186907796098), (4271, 0.014997407134739557), (4097, 0.014424944604876947), (11, 0.014250123228506361), (3142, 0.0142029372150383), (4725, 0.014148412333836919), (1119, 0.014019723560875856), (2275, 0.013957129839855425), (688, 0.013851636228040327), (956, 0.01384339504871006), (4187, 0.013834452797541655), (3219, 0.013731660790627369), (1461, 0.013672610877881651), (1557, 0.013631751047265845), (2281, 0.013570509727712338), (2487, 0.013570026905154693), (2921, 0.013466852690648817), (753, 0.013453928529548484), (3610, 0.013421119283636509), (4407, 0.013352796842316174), (1737, 0.013342538696377557), (385, 0.013314419291752198), (1537, 0.013295426292994737), (679, 0.013277461634829419), (4460, 0.013213067451041281), (66, 0.013203075645790959), (1940, 0.013164637619702341), (987, 0.013162232356215206), (809, 0.013111498040823552), (1225, 0.013095544875481393), (2079, 0.013090032356989021), (405, 0.013087532687706998), (1402, 0.013049493997432845), (2054, 0.013030082230335513), (4207, 0.01302689261944161), (781, 0.01301611715659043), (1116, 0.013009511304981743), (865, 0.01299171115243487), (2112, 0.012946657555155042), (1382, 0.012940072572034734), (528, 0.012925547924710498), (3876, 0.01290580000648595), (1958, 0.012901042734605135), (2798, 0.012893740194235363), (2147, 0.01286215505606301), (4086, 0.012834965362103387), (472, 0.012833448244760796), (3792, 0.012826682616650367), (1411, 0.012806150682729462), (2334, 0.01279968340551289), (1034, 0.012797016476480379), (259, 0.012789395176665488), (1968, 0.012784422477592422), (896, 0.012780831194113846), (3247, 0.012750391161075042), (3300, 0.012747977657366983), (2393, 0.012741294509075659), (3209, 0.012740995785910062), (3259, 0.012711200102630797), (1233, 0.012707308675959879), (204, 0.012692511698892186), (4574, 0.012684667133330055), (802, 0.012670067529025475), (4333, 0.01266320134241699), (3388, 0.012654559471366766), (4218, 0.0126335006545831), (2857, 0.01262809645546601), (1561, 0.012623372477671617), (3208, 0.012608998299890614), (3966, 0.012608281423773147), (485, 0.012591682282597168), (3497, 0.0125885422197233), (3780, 0.01258191981919028), (3153, 0.01257423775022681), (3564, 0.012531990035242625), (4128, 0.01252964360793303), (2720, 0.012523604124725566), (54, 0.012519565482275409), (4173, 0.012518347919023416), (3774, 0.012506913645028454), (2406, 0.012505883922425019), (270, 0.012481506939950832), (131, 0.01247942441652094), (1518, 0.012478727179210194), (2790, 0.01246549308250979), (1930, 0.012456705784043672), (4473, 0.012455869661944084), (1044, 0.012439007109705991), (2963, 0.012418173324564186), (2143, 0.012416123399103312), (1304, 0.012409117324800576), (1678, 0.012389130797940302), (3807, 0.012388109501592557), (814, 0.012373677066892295), (1918, 0.012371624978465426), (517, 0.012346685790777483), (1223, 0.012341738570860137), (3819, 0.012339893586800408), (2650, 0.012326830166821186), (1229, 0.012324392108120783), (2488, 0.01231880078065668), (2396, 0.012314677677098346), (205, 0.012312240605313685), (2982, 0.012306707949868921), (1610, 0.012301581825557194), (9, 0.012290992907489856), (1421, 0.012290696510518782), (193, 0.012287985743118512), (4639, 0.012282565393778118), (846, 0.012276941371639667), (1589, 0.012276505871096546), (712, 0.012262564569876936), (456, 0.012255813517936691), (3596, 0.012244574617942951), (822, 0.012236580087898286), (908, 0.012235436267817175), (743, 0.012223527277099876), (2315, 0.012217150485996317), (1706, 0.012213532448767998), (360, 0.012193370632591771), (1744, 0.012187532628401594), (2330, 0.012174453249904649), (1118, 0.012163536823329433), (1425, 0.012159334382268825), (2327, 0.012137807777848557), (1308, 0.012110033274877747), (49, 0.012086093859397145), (4186, 0.012077492956094492), (1463, 0.012073548486746497), (2461, 0.012064915190059426), (325, 0.012060825058520002), (845, 0.012056470891710193), (2216, 0.012029939161329748), (2273, 0.012026648262732054), (920, 0.011994226161390507), (4757, 0.01197609119631358), (410, 0.01197103489566098), (439, 0.011954437210597458), (797, 0.011954117606771618), (4427, 0.011950168586237915), (662, 0.011948941156627837), (612, 0.011946509712716467), (1084, 0.011943046599603636), (918, 0.011915174767610845), (3516, 0.011910315035872896), (3849, 0.0119056971219074), (3506, 0.011904298212349031), (4542, 0.011903278287953229), (321, 0.011903136265048284), (1768, 0.011895160623084452), (5, 0.011893251873645693), (4438, 0.01188760310460937), (4274, 0.01188495668442005), (42, 0.0118722446288999), (2245, 0.011869378997469099), (4011, 0.011869236641384822), (3121, 0.01186823622630974), (4073, 0.011862780276045166), (1191, 0.011860171446741674), (447, 0.011859933277362233), (3237, 0.011859201361064714), (4059, 0.011845641424536158), (1534, 0.011843855962923673), (4310, 0.011832176242451035), (2130, 0.011828511565993606), (2612, 0.01182708805851424), (4155, 0.011822467715086944), (556, 0.011815583809371585), (3646, 0.011814597536414), (4684, 0.011804515459073704), (3330, 0.011802309921693153), (2571, 0.0117841125841151), (1330, 0.011760465567530538), (322, 0.011754824905970818), (1913, 0.011734321408747632), (3260, 0.011719802119908997), (637, 0.011702238340174585), (2208, 0.011692474352758851), (578, 0.011686273136619584), (4159, 0.011684802406786859), (3348, 0.01166156000299884), (3086, 0.011640931361792135), (464, 0.011615478306307254), (2131, 0.011611227771122607), (2410, 0.011609819486752038), (215, 0.011605113241766666), (891, 0.011605091653712993), (1846, 0.011586103585715652), (315, 0.01157315598804814), (2400, 0.011572188467796155), (1035, 0.01157042636798024), (4708, 0.011563271057903083), (713, 0.011558211144882136), (2239, 0.011546095429890546), (466, 0.011545131963143246), (1783, 0.01154469044412768), (2129, 0.011537870792791923), (4033, 0.011537367369075931), (1041, 0.011536799651658786), (492, 0.011530590385165605), (2391, 0.011521256859464908), (1472, 0.011518850670101591), (3001, 0.011514068031920198), (4137, 0.011510593894677247), (2511, 0.011502709423064833), (1026, 0.01150185683804932), (3109, 0.011494432547553918), (3390, 0.011483201512779729), (2854, 0.011480696549564507), (4152, 0.01147288241696354), (1431, 0.01147148180149677), (696, 0.01146240890480493), (338, 0.011461805748229135), (2100, 0.011443753479956244), (333, 0.011442208550589734), (1459, 0.011432377521805254), (1978, 0.011432057278914429), (1649, 0.011423080684360352), (3246, 0.01141250587050608), (4437, 0.011409969449751872), (1840, 0.011409473615786364), (3188, 0.011409303511870765), (2534, 0.011395946296898172), (3315, 0.01138685372811857), (4356, 0.011385022806986422), (4174, 0.011383080813902142), (3926, 0.011380730761677126), (1076, 0.011355549902083852), (2842, 0.011346786195368401), (1597, 0.01134432928115694), (1857, 0.011341560905604422), (1284, 0.01133572635929709), (4515, 0.01133056025096402), (3321, 0.0113301093802446), (1824, 0.011318351702256051), (4472, 0.011317183605232348), (4110, 0.011298108053146757), (2402, 0.011287356961154672), (2205, 0.01128104871799731), (3147, 0.011275473472225555), (3912, 0.011270095829396939), (317, 0.01125820299378478), (1878, 0.011254220863406555), (3993, 0.011250103196422742), (2728, 0.01124388492237601), (2043, 0.011234181079506182), (240, 0.01121597495414979), (3813, 0.01121251726765918), (1979, 0.011211127381200187), (3739, 0.011209526474867573), (3427, 0.011199332035897645), (3011, 0.011180847757240235), (2178, 0.011161762466654459), (1695, 0.011160770922332423), (1992, 0.011158014204516791), (3484, 0.01113709992914634), (767, 0.011131135111065215), (111, 0.011113392825073176), (3318, 0.011107746441456462), (4321, 0.011100475236073807), (1899, 0.011094900160548454), (324, 0.011090360499149745), (3242, 0.011084923528202109), (2120, 0.011083433581435901), (1270, 0.011073936052151886), (659, 0.01107247462976015), (4679, 0.011061536335931613), (1186, 0.01105572965726196), (1042, 0.011038273628598227), (306, 0.01103793011586699), (511, 0.011013317900207799), (946, 0.011008626365348006), (1257, 0.011002508253357135), (3090, 0.011002395874931204), (3974, 0.010985250046221763), (314, 0.01098398747193917), (1416, 0.010980697586299847), (3985, 0.010968708726927538), (3342, 0.010966425489415765), (3272, 0.010951556753449034), (2163, 0.01093598826138223), (1492, 0.010935238516847478), (1818, 0.010933508641044485), (1523, 0.010933171662111989), (2264, 0.010931710347749625), (702, 0.010909605995429148), (2323, 0.01089988804837923), (2531, 0.010877185092379452), (1827, 0.010860725284337253), (1739, 0.010850876046862076), (1180, 0.010850591398988774), (1954, 0.010849322752849264), (1197, 0.01083024380861899), (655, 0.010809005350783522), (2675, 0.010792620885612048), (583, 0.010791668784014153), (3718, 0.010776782121184682), (638, 0.010771033333205343), (2007, 0.010764249029710325), (1061, 0.010747813060221973), (3370, 0.010744999307425807), (3658, 0.0107088276708383), (2135, 0.01069604975884491), (1309, 0.010690048450149797), (2706, 0.01068608673131058), (4366, 0.010678852185528163), (161, 0.010654952009241646), (3855, 0.010646834455720894), (3244, 0.010634704486515515), (2047, 0.010633172161012986), (2322, 0.01061381565232861), (191, 0.010606469357452825), (2250, 0.010576118393246764), (1850, 0.01054788848294267), (1357, 0.010524440516034406), (1480, 0.010508309447881406), (2352, 0.010503264402931112), (2822, 0.01050133495850035), (2449, 0.010473260384233438), (1412, 0.010467780958441059), (810, 0.010436011342889481), (445, 0.010422519034271214), (4590, 0.010419113641858239), (242, 0.010404812783405002), (1543, 0.010400439021909229), (1384, 0.010381864603176347), (3655, 0.010378593001128037), (3018, 0.010354954626613512), (4247, 0.010352308185139906), (1745, 0.010350377583244554), (2114, 0.010348598135000308), (1456, 0.010325700039645178), (2975, 0.010321739027382383), (577, 0.010308520796065772), (912, 0.010300177860751047), (2271, 0.010297608099886998), (4109, 0.01029356437166208), (1987, 0.01029114805753264), (3254, 0.010276106711391083), (1971, 0.010269356716144753), (733, 0.010261121910909216), (1764, 0.010254140933472919), (2749, 0.010246979235065392), (892, 0.010239361520088043), (2933, 0.010222849920155298), (640, 0.010214081425824178), (501, 0.010211551895043023), (2317, 0.01021036479396372), (2013, 0.010195216797225416), (1405, 0.010193556185319884), (1845, 0.010191779315037631), (1090, 0.010167875389984956), (1639, 0.010166979591237543), (2203, 0.010164943362531518), (2025, 0.010155682865969016), (3830, 0.010149887655554695), (4114, 0.010131521096614464), (690, 0.010130537858461365), (2502, 0.010116193996774804), (1387, 0.01011471216992011), (1219, 0.010108732627276651), (334, 0.010095810865310651), (1963, 0.01008701062551101), (394, 0.010051149416530378), (2845, 0.010048089801980124), (2603, 0.010031345016935058), (4468, 0.01002578593115897), (645, 0.0100224301105998), (1950, 0.010004920263373247), (1365, 0.0099458286766769), (786, 0.009945245678760904), (76, 0.009934264080290288), (25, 0.009914420291919362), (2580, 0.009861600934021199), (2132, 0.009799846912299492), (2892, 0.009795463884031392), (58, 0.00978253938868047), (277, 0.009757050363022846), (1677, 0.009724460241947027), (3082, 0.0097089906360873), (2985, 0.009674998709869617), (1296, 0.009655618844643093), (469, 0.009653156112341242), (2541, 0.00961043586171985), (309, 0.00956509075885709), (288, 0.00951893407342753), (2326, 0.009493868438470476), (433, 0.009424694545095104), (1137, 0.009392666592555861), (506, 0.009387336418868266), (106, 0.00938009058383061), (3579, 0.009334990195397542), (3667, 0.009277756684689198), (366, 0.009265619659917023), (609, 0.009193119997104635), (1317, 0.009155889145190374), (3983, 0.009117254968284139), (719, 0.00911518166521316), (4752, 0.009058720648922393), (294, 0.009032339624975325), (2078, 0.008975342206677075), (510, 0.008881301720351571), (929, 0.008880226228397127), (4598, 0.008730374559336099), (3144, 0.008678768490236279), (243, 0.008665648775844526), (2734, 0.008604826043226528), (3199, 0.008520813482134385), (3421, 0.008388802170767515), (2671, 0.008304186838267039), (3750, 0.008278701416057653), (824, 0.00827158694820881), (1351, 0.008184480625458247), (561, 0.008067555308338007), (542, 0.008018592113664366), (740, 0.007925221139351301), (330, 0.007891256126516475), (1506, 0.007786072946114029), (4171, 0.007512403384444905), (1919, 0.007323953684371701), (787, 0.006897398964329925), (2118, 0.006820589465049765), (0, 0.0), (1, 0.0), (3, 0.0), (4, 0.0), (6, 0.0), (7, 0.0), (8, 0.0), (10, 0.0), (12, 0.0), (13, 0.0), (15, 0.0), (16, 0.0), (17, 0.0), (20, 0.0), (21, 0.0), (22, 0.0), (23, 0.0), (24, 0.0), (26, 0.0), (27, 0.0), (28, 0.0), (29, 0.0), (31, 0.0), (32, 0.0), (33, 0.0), (35, 0.0), (36, 0.0), (37, 0.0), (38, 0.0), (39, 0.0), (40, 0.0), (41, 0.0), (43, 0.0), (44, 0.0), (46, 0.0), (47, 0.0), (48, 0.0), (50, 0.0), (51, 0.0), (53, 0.0), (55, 0.0), (56, 0.0), (57, 0.0), (59, 0.0), (60, 0.0), (61, 0.0), (62, 0.0), (63, 0.0), (68, 0.0), (70, 0.0), (71, 0.0), (72, 0.0), (73, 0.0), (74, 0.0), (77, 0.0), (79, 0.0), (81, 0.0), (83, 0.0), (84, 0.0), (85, 0.0), (86, 0.0), (87, 0.0), (88, 0.0), (89, 0.0), (91, 0.0), (92, 0.0), (96, 0.0), (97, 0.0), (98, 0.0), (99, 0.0), (100, 0.0), (101, 0.0), (102, 0.0), (103, 0.0), (104, 0.0), (107, 0.0), (109, 0.0), (110, 0.0), (112, 0.0), (114, 0.0), (117, 0.0), (118, 0.0), (119, 0.0), (120, 0.0), (121, 0.0), (122, 0.0), (123, 0.0), (124, 0.0), (125, 0.0), (126, 0.0), (127, 0.0), (128, 0.0), (129, 0.0), (130, 0.0), (132, 0.0), (133, 0.0), (134, 0.0), (135, 0.0), (136, 0.0), (138, 0.0), (139, 0.0), (140, 0.0), (141, 0.0), (142, 0.0), (143, 0.0), (144, 0.0), (145, 0.0), (146, 0.0), (147, 0.0), (148, 0.0), (149, 0.0), (150, 0.0), (151, 0.0), (153, 0.0), (157, 0.0), (158, 0.0), (159, 0.0), (160, 0.0), (162, 0.0), (163, 0.0), (164, 0.0), (165, 0.0), (166, 0.0), (167, 0.0), (168, 0.0), (169, 0.0), (170, 0.0), (171, 0.0), (172, 0.0), (174, 0.0), (175, 0.0), (176, 0.0), (177, 0.0), (180, 0.0), (181, 0.0), (182, 0.0), (183, 0.0), (184, 0.0), (185, 0.0), (186, 0.0), (187, 0.0), (188, 0.0), (189, 0.0), (190, 0.0), (194, 0.0), (197, 0.0), (199, 0.0), (200, 0.0), (201, 0.0), (203, 0.0), (206, 0.0), (207, 0.0), (208, 0.0), (209, 0.0), (210, 0.0), (211, 0.0), (212, 0.0), (214, 0.0), (216, 0.0), (218, 0.0), (219, 0.0), (220, 0.0), (221, 0.0), (222, 0.0), (223, 0.0), (224, 0.0), (225, 0.0), (226, 0.0), (227, 0.0), (228, 0.0), (229, 0.0), (230, 0.0), (231, 0.0), (232, 0.0), (233, 0.0), (234, 0.0), (235, 0.0), (238, 0.0), (239, 0.0), (241, 0.0), (244, 0.0), (245, 0.0), (247, 0.0), (248, 0.0), (250, 0.0), (251, 0.0), (252, 0.0), (253, 0.0), (254, 0.0), (255, 0.0), (256, 0.0), (257, 0.0), (258, 0.0), (260, 0.0), (261, 0.0), (262, 0.0), (263, 0.0), (264, 0.0), (265, 0.0), (267, 0.0), (268, 0.0), (271, 0.0), (272, 0.0), (273, 0.0), (274, 0.0), (275, 0.0), (276, 0.0), (278, 0.0), (279, 0.0), (280, 0.0), (281, 0.0), (282, 0.0), (283, 0.0), (284, 0.0), (285, 0.0), (286, 0.0), (287, 0.0), (289, 0.0), (290, 0.0), (291, 0.0), (292, 0.0), (293, 0.0), (295, 0.0), (296, 0.0), (303, 0.0), (307, 0.0), (308, 0.0), (310, 0.0), (311, 0.0), (312, 0.0), (313, 0.0), (316, 0.0), (318, 0.0), (319, 0.0), (320, 0.0), (323, 0.0), (326, 0.0), (327, 0.0), (328, 0.0), (329, 0.0), (331, 0.0), (332, 0.0), (335, 0.0), (336, 0.0), (337, 0.0), (339, 0.0), (340, 0.0), (341, 0.0), (342, 0.0), (343, 0.0), (346, 0.0), (347, 0.0), (348, 0.0), (349, 0.0), (350, 0.0), (351, 0.0), (352, 0.0), (353, 0.0), (354, 0.0), (355, 0.0), (356, 0.0), (358, 0.0), (359, 0.0), (361, 0.0), (362, 0.0), (363, 0.0), (364, 0.0), (365, 0.0), (367, 0.0), (368, 0.0), (369, 0.0), (370, 0.0), (371, 0.0), (372, 0.0), (373, 0.0), (375, 0.0), (376, 0.0), (377, 0.0), (379, 0.0), (381, 0.0), (382, 0.0), (383, 0.0), (387, 0.0), (388, 0.0), (389, 0.0), (390, 0.0), (391, 0.0), (393, 0.0), (395, 0.0), (396, 0.0), (397, 0.0), (398, 0.0), (400, 0.0), (401, 0.0), (402, 0.0), (403, 0.0), (404, 0.0), (406, 0.0), (407, 0.0), (409, 0.0), (411, 0.0), (412, 0.0), (413, 0.0), (415, 0.0), (416, 0.0), (417, 0.0), (418, 0.0), (419, 0.0), (420, 0.0), (422, 0.0), (423, 0.0), (425, 0.0), (426, 0.0), (427, 0.0), (428, 0.0), (429, 0.0), (431, 0.0), (432, 0.0), (434, 0.0), (436, 0.0), (437, 0.0), (438, 0.0), (440, 0.0), (441, 0.0), (442, 0.0), (443, 0.0), (444, 0.0), (446, 0.0), (448, 0.0), (449, 0.0), (450, 0.0), (452, 0.0), (454, 0.0), (455, 0.0), (457, 0.0), (458, 0.0), (459, 0.0), (460, 0.0), (461, 0.0), (462, 0.0), (465, 0.0), (467, 0.0), (468, 0.0), (470, 0.0), (471, 0.0), (473, 0.0), (474, 0.0), (476, 0.0), (477, 0.0), (478, 0.0), (479, 0.0), (480, 0.0), (481, 0.0), (482, 0.0), (483, 0.0), (484, 0.0), (486, 0.0), (487, 0.0), (488, 0.0), (489, 0.0), (490, 0.0), (491, 0.0), (493, 0.0), (496, 0.0), (497, 0.0), (499, 0.0), (500, 0.0), (502, 0.0), (503, 0.0), (504, 0.0), (505, 0.0), (507, 0.0), (508, 0.0), (512, 0.0), (513, 0.0), (515, 0.0), (516, 0.0), (518, 0.0), (519, 0.0), (521, 0.0), (523, 0.0), (525, 0.0), (526, 0.0), (527, 0.0), (529, 0.0), (530, 0.0), (531, 0.0), (532, 0.0), (533, 0.0), (534, 0.0), (535, 0.0), (536, 0.0), (537, 0.0), (538, 0.0), (539, 0.0), (543, 0.0), (544, 0.0), (547, 0.0), (548, 0.0), (549, 0.0), (550, 0.0), (551, 0.0), (552, 0.0), (554, 0.0), (555, 0.0), (557, 0.0), (560, 0.0), (564, 0.0), (566, 0.0), (567, 0.0), (568, 0.0), (570, 0.0), (571, 0.0), (572, 0.0), (573, 0.0), (574, 0.0), (575, 0.0), (576, 0.0), (579, 0.0), (580, 0.0), (581, 0.0), (582, 0.0), (584, 0.0), (585, 0.0), (586, 0.0), (587, 0.0), (588, 0.0), (589, 0.0), (590, 0.0), (591, 0.0), (592, 0.0), (593, 0.0), (594, 0.0), (595, 0.0), (596, 0.0), (598, 0.0), (599, 0.0), (600, 0.0), (601, 0.0), (602, 0.0), (603, 0.0), (604, 0.0), (605, 0.0), (606, 0.0), (607, 0.0), (608, 0.0), (613, 0.0), (614, 0.0), (615, 0.0), (616, 0.0), (617, 0.0), (618, 0.0), (619, 0.0), (620, 0.0), (623, 0.0), (624, 0.0), (626, 0.0), (627, 0.0), (628, 0.0), (629, 0.0), (630, 0.0), (631, 0.0), (632, 0.0), (634, 0.0), (635, 0.0), (636, 0.0), (641, 0.0), (643, 0.0), (644, 0.0), (646, 0.0), (647, 0.0), (648, 0.0), (649, 0.0), (650, 0.0), (653, 0.0), (654, 0.0), (663, 0.0), (664, 0.0), (666, 0.0), (667, 0.0), (668, 0.0), (669, 0.0), (670, 0.0), (671, 0.0), (672, 0.0), (673, 0.0), (674, 0.0), (675, 0.0), (676, 0.0), (677, 0.0), (678, 0.0), (681, 0.0), (682, 0.0), (683, 0.0), (684, 0.0), (685, 0.0), (691, 0.0), (692, 0.0), (693, 0.0), (694, 0.0), (695, 0.0), (697, 0.0), (698, 0.0), (700, 0.0), (701, 0.0), (703, 0.0), (704, 0.0), (705, 0.0), (706, 0.0), (707, 0.0), (708, 0.0), (710, 0.0), (711, 0.0), (714, 0.0), (715, 0.0), (716, 0.0), (717, 0.0), (718, 0.0), (720, 0.0), (721, 0.0), (722, 0.0), (725, 0.0), (726, 0.0), (727, 0.0), (728, 0.0), (729, 0.0), (730, 0.0), (731, 0.0), (732, 0.0), (734, 0.0), (735, 0.0), (736, 0.0), (737, 0.0), (739, 0.0), (744, 0.0), (745, 0.0), (748, 0.0), (750, 0.0), (751, 0.0), (754, 0.0), (755, 0.0), (759, 0.0), (760, 0.0), (762, 0.0), (763, 0.0), (764, 0.0), (765, 0.0), (766, 0.0), (768, 0.0), (769, 0.0), (770, 0.0), (772, 0.0), (773, 0.0), (774, 0.0), (775, 0.0), (776, 0.0), (777, 0.0), (778, 0.0), (779, 0.0), (780, 0.0), (782, 0.0), (783, 0.0), (784, 0.0), (785, 0.0), (789, 0.0), (790, 0.0), (793, 0.0), (794, 0.0), (796, 0.0), (798, 0.0), (799, 0.0), (800, 0.0), (803, 0.0), (805, 0.0), (806, 0.0), (808, 0.0), (811, 0.0), (812, 0.0), (813, 0.0), (815, 0.0), (817, 0.0), (818, 0.0), (819, 0.0), (821, 0.0), (823, 0.0), (825, 0.0), (826, 0.0), (828, 0.0), (829, 0.0), (830, 0.0), (832, 0.0), (833, 0.0), (834, 0.0), (835, 0.0), (836, 0.0), (837, 0.0), (838, 0.0), (839, 0.0), (840, 0.0), (841, 0.0), (842, 0.0), (843, 0.0), (844, 0.0), (847, 0.0), (849, 0.0), (850, 0.0), (851, 0.0), (852, 0.0), (854, 0.0), (855, 0.0), (856, 0.0), (857, 0.0), (858, 0.0), (861, 0.0), (862, 0.0), (863, 0.0), (864, 0.0), (866, 0.0), (867, 0.0), (868, 0.0), (869, 0.0), (870, 0.0), (871, 0.0), (873, 0.0), (874, 0.0), (875, 0.0), (876, 0.0), (878, 0.0), (880, 0.0), (881, 0.0), (882, 0.0), (883, 0.0), (884, 0.0), (885, 0.0), (886, 0.0), (887, 0.0), (888, 0.0), (889, 0.0), (890, 0.0), (893, 0.0), (895, 0.0), (897, 0.0), (898, 0.0), (899, 0.0), (900, 0.0), (901, 0.0), (902, 0.0), (903, 0.0), (904, 0.0), (905, 0.0), (906, 0.0), (907, 0.0), (909, 0.0), (910, 0.0), (911, 0.0), (913, 0.0), (914, 0.0), (915, 0.0), (916, 0.0), (917, 0.0), (919, 0.0), (922, 0.0), (923, 0.0), (924, 0.0), (925, 0.0), (926, 0.0), (927, 0.0), (928, 0.0), (930, 0.0), (932, 0.0), (933, 0.0), (934, 0.0), (936, 0.0), (937, 0.0), (940, 0.0), (941, 0.0), (942, 0.0), (943, 0.0), (944, 0.0), (945, 0.0), (947, 0.0), (948, 0.0), (949, 0.0), (950, 0.0), (951, 0.0), (952, 0.0), (954, 0.0), (955, 0.0), (957, 0.0), (958, 0.0), (959, 0.0), (960, 0.0), (961, 0.0), (962, 0.0), (963, 0.0), (964, 0.0), (966, 0.0), (967, 0.0), (968, 0.0), (969, 0.0), (970, 0.0), (972, 0.0), (973, 0.0), (975, 0.0), (976, 0.0), (978, 0.0), (979, 0.0), (982, 0.0), (983, 0.0), (986, 0.0), (988, 0.0), (990, 0.0), (991, 0.0), (992, 0.0), (993, 0.0), (994, 0.0), (995, 0.0), (996, 0.0), (997, 0.0), (998, 0.0), (999, 0.0), (1000, 0.0), (1001, 0.0), (1003, 0.0), (1005, 0.0), (1006, 0.0), (1008, 0.0), (1010, 0.0), (1011, 0.0), (1012, 0.0), (1013, 0.0), (1014, 0.0), (1016, 0.0), (1018, 0.0), (1019, 0.0), (1020, 0.0), (1021, 0.0), (1022, 0.0), (1023, 0.0), (1024, 0.0), (1027, 0.0), (1028, 0.0), (1029, 0.0), (1030, 0.0), (1031, 0.0), (1032, 0.0), (1033, 0.0), (1036, 0.0), (1037, 0.0), (1038, 0.0), (1039, 0.0), (1040, 0.0), (1043, 0.0), (1045, 0.0), (1046, 0.0), (1047, 0.0), (1048, 0.0), (1049, 0.0), (1050, 0.0), (1051, 0.0), (1052, 0.0), (1053, 0.0), (1054, 0.0), (1055, 0.0), (1056, 0.0), (1057, 0.0), (1058, 0.0), (1059, 0.0), (1060, 0.0), (1063, 0.0), (1064, 0.0), (1065, 0.0), (1066, 0.0), (1067, 0.0), (1068, 0.0), (1069, 0.0), (1070, 0.0), (1071, 0.0), (1072, 0.0), (1074, 0.0), (1075, 0.0), (1077, 0.0), (1078, 0.0), (1080, 0.0), (1081, 0.0), (1083, 0.0), (1085, 0.0), (1087, 0.0), (1088, 0.0), (1091, 0.0), (1092, 0.0), (1093, 0.0), (1094, 0.0), (1095, 0.0), (1096, 0.0), (1097, 0.0), (1099, 0.0), (1100, 0.0), (1101, 0.0), (1102, 0.0), (1104, 0.0), (1105, 0.0), (1106, 0.0), (1108, 0.0), (1109, 0.0), (1111, 0.0), (1112, 0.0), (1113, 0.0), (1114, 0.0), (1115, 0.0), (1117, 0.0), (1120, 0.0), (1121, 0.0), (1123, 0.0), (1124, 0.0), (1125, 0.0), (1126, 0.0), (1127, 0.0), (1128, 0.0), (1129, 0.0), (1131, 0.0), (1133, 0.0), (1134, 0.0), (1135, 0.0), (1139, 0.0), (1140, 0.0), (1141, 0.0), (1142, 0.0), (1143, 0.0), (1144, 0.0), (1145, 0.0), (1146, 0.0), (1147, 0.0), (1149, 0.0), (1150, 0.0), (1151, 0.0), (1153, 0.0), (1154, 0.0), (1155, 0.0), (1156, 0.0), (1158, 0.0), (1159, 0.0), (1160, 0.0), (1161, 0.0), (1162, 0.0), (1163, 0.0), (1164, 0.0), (1165, 0.0), (1166, 0.0), (1167, 0.0), (1168, 0.0), (1169, 0.0), (1170, 0.0), (1171, 0.0), (1172, 0.0), (1174, 0.0), (1176, 0.0), (1177, 0.0), (1178, 0.0), (1179, 0.0), (1181, 0.0), (1182, 0.0), (1183, 0.0), (1184, 0.0), (1185, 0.0), (1187, 0.0), (1188, 0.0), (1189, 0.0), (1190, 0.0), (1192, 0.0), (1193, 0.0), (1194, 0.0), (1195, 0.0), (1196, 0.0), (1199, 0.0), (1200, 0.0), (1201, 0.0), (1202, 0.0), (1204, 0.0), (1205, 0.0), (1206, 0.0), (1208, 0.0), (1209, 0.0), (1210, 0.0), (1212, 0.0), (1213, 0.0), (1214, 0.0), (1215, 0.0), (1216, 0.0), (1218, 0.0), (1220, 0.0), (1222, 0.0), (1224, 0.0), (1226, 0.0), (1228, 0.0), (1231, 0.0), (1234, 0.0), (1235, 0.0), (1236, 0.0), (1237, 0.0), (1239, 0.0), (1240, 0.0), (1241, 0.0), (1242, 0.0), (1244, 0.0), (1245, 0.0), (1246, 0.0), (1247, 0.0), (1248, 0.0), (1251, 0.0), (1252, 0.0), (1253, 0.0), (1254, 0.0), (1258, 0.0), (1259, 0.0), (1260, 0.0), (1261, 0.0), (1262, 0.0), (1263, 0.0), (1264, 0.0), (1265, 0.0), (1266, 0.0), (1267, 0.0), (1268, 0.0), (1269, 0.0), (1271, 0.0), (1274, 0.0), (1275, 0.0), (1276, 0.0), (1277, 0.0), (1278, 0.0), (1280, 0.0), (1281, 0.0), (1282, 0.0), (1283, 0.0), (1285, 0.0), (1286, 0.0), (1287, 0.0), (1288, 0.0), (1289, 0.0), (1293, 0.0), (1295, 0.0), (1298, 0.0), (1299, 0.0), (1301, 0.0), (1302, 0.0), (1303, 0.0), (1305, 0.0), (1307, 0.0), (1310, 0.0), (1311, 0.0), (1313, 0.0), (1314, 0.0), (1315, 0.0), (1316, 0.0), (1319, 0.0), (1320, 0.0), (1322, 0.0), (1323, 0.0), (1324, 0.0), (1325, 0.0), (1326, 0.0), (1327, 0.0), (1328, 0.0), (1329, 0.0), (1331, 0.0), (1332, 0.0), (1333, 0.0), (1334, 0.0), (1336, 0.0), (1337, 0.0), (1338, 0.0), (1340, 0.0), (1341, 0.0), (1343, 0.0), (1345, 0.0), (1346, 0.0), (1347, 0.0), (1348, 0.0), (1349, 0.0), (1350, 0.0), (1352, 0.0), (1355, 0.0), (1356, 0.0), (1358, 0.0), (1359, 0.0), (1360, 0.0), (1361, 0.0), (1363, 0.0), (1364, 0.0), (1366, 0.0), (1367, 0.0), (1368, 0.0), (1369, 0.0), (1370, 0.0), (1371, 0.0), (1372, 0.0), (1373, 0.0), (1374, 0.0), (1375, 0.0), (1376, 0.0), (1377, 0.0), (1378, 0.0), (1380, 0.0), (1381, 0.0), (1383, 0.0), (1385, 0.0), (1386, 0.0), (1388, 0.0), (1389, 0.0), (1391, 0.0), (1392, 0.0), (1394, 0.0), (1395, 0.0), (1396, 0.0), (1397, 0.0), (1398, 0.0), (1399, 0.0), (1400, 0.0), (1401, 0.0), (1403, 0.0), (1404, 0.0), (1406, 0.0), (1408, 0.0), (1409, 0.0), (1410, 0.0), (1413, 0.0), (1414, 0.0), (1415, 0.0), (1417, 0.0), (1418, 0.0), (1420, 0.0), (1423, 0.0), (1424, 0.0), (1426, 0.0), (1427, 0.0), (1429, 0.0), (1430, 0.0), (1432, 0.0), (1434, 0.0), (1437, 0.0), (1438, 0.0), (1439, 0.0), (1440, 0.0), (1442, 0.0), (1444, 0.0), (1445, 0.0), (1446, 0.0), (1447, 0.0), (1448, 0.0), (1449, 0.0), (1450, 0.0), (1451, 0.0), (1452, 0.0), (1453, 0.0), (1455, 0.0), (1457, 0.0), (1458, 0.0), (1460, 0.0), (1462, 0.0), (1465, 0.0), (1466, 0.0), (1467, 0.0), (1469, 0.0), (1470, 0.0), (1471, 0.0), (1473, 0.0), (1475, 0.0), (1477, 0.0), (1478, 0.0), (1482, 0.0), (1483, 0.0), (1484, 0.0), (1485, 0.0), (1486, 0.0), (1488, 0.0), (1491, 0.0), (1493, 0.0), (1495, 0.0), (1496, 0.0), (1497, 0.0), (1498, 0.0), (1501, 0.0), (1502, 0.0), (1503, 0.0), (1504, 0.0), (1505, 0.0), (1507, 0.0), (1508, 0.0), (1511, 0.0), (1512, 0.0), (1513, 0.0), (1514, 0.0), (1515, 0.0), (1519, 0.0), (1520, 0.0), (1521, 0.0), (1522, 0.0), (1525, 0.0), (1526, 0.0), (1527, 0.0), (1529, 0.0), (1530, 0.0), (1531, 0.0), (1532, 0.0), (1533, 0.0), (1535, 0.0), (1536, 0.0), (1538, 0.0), (1539, 0.0), (1540, 0.0), (1541, 0.0), (1544, 0.0), (1547, 0.0), (1548, 0.0), (1549, 0.0), (1551, 0.0), (1552, 0.0), (1553, 0.0), (1554, 0.0), (1556, 0.0), (1558, 0.0), (1560, 0.0), (1562, 0.0), (1563, 0.0), (1564, 0.0), (1565, 0.0), (1566, 0.0), (1567, 0.0), (1569, 0.0), (1570, 0.0), (1572, 0.0), (1573, 0.0), (1574, 0.0), (1575, 0.0), (1576, 0.0), (1577, 0.0), (1578, 0.0), (1579, 0.0), (1580, 0.0), (1582, 0.0), (1583, 0.0), (1585, 0.0), (1586, 0.0), (1588, 0.0), (1590, 0.0), (1591, 0.0), (1593, 0.0), (1594, 0.0), (1595, 0.0), (1596, 0.0), (1598, 0.0), (1599, 0.0), (1600, 0.0), (1601, 0.0), (1602, 0.0), (1603, 0.0), (1604, 0.0), (1606, 0.0), (1607, 0.0), (1608, 0.0), (1609, 0.0), (1611, 0.0), (1612, 0.0), (1613, 0.0), (1615, 0.0), (1616, 0.0), (1617, 0.0), (1619, 0.0), (1620, 0.0), (1621, 0.0), (1622, 0.0), (1623, 0.0), (1624, 0.0), (1625, 0.0), (1627, 0.0), (1628, 0.0), (1629, 0.0), (1630, 0.0), (1631, 0.0), (1632, 0.0), (1633, 0.0), (1635, 0.0), (1636, 0.0), (1637, 0.0), (1638, 0.0), (1640, 0.0), (1641, 0.0), (1642, 0.0), (1643, 0.0), (1644, 0.0), (1647, 0.0), (1650, 0.0), (1651, 0.0), (1652, 0.0), (1653, 0.0), (1655, 0.0), (1656, 0.0), (1658, 0.0), (1659, 0.0), (1660, 0.0), (1661, 0.0), (1662, 0.0), (1663, 0.0), (1664, 0.0), (1665, 0.0), (1666, 0.0), (1667, 0.0), (1668, 0.0), (1669, 0.0), (1670, 0.0), (1671, 0.0), (1672, 0.0), (1674, 0.0), (1675, 0.0), (1676, 0.0), (1679, 0.0), (1680, 0.0), (1681, 0.0), (1683, 0.0), (1684, 0.0), (1685, 0.0), (1686, 0.0), (1687, 0.0), (1688, 0.0), (1689, 0.0), (1692, 0.0), (1693, 0.0), (1694, 0.0), (1696, 0.0), (1697, 0.0), (1699, 0.0), (1700, 0.0), (1701, 0.0), (1702, 0.0), (1703, 0.0), (1704, 0.0), (1705, 0.0), (1707, 0.0), (1708, 0.0), (1709, 0.0), (1710, 0.0), (1711, 0.0), (1712, 0.0), (1713, 0.0), (1714, 0.0), (1715, 0.0), (1716, 0.0), (1717, 0.0), (1718, 0.0), (1719, 0.0), (1720, 0.0), (1721, 0.0), (1722, 0.0), (1723, 0.0), (1724, 0.0), (1725, 0.0), (1726, 0.0), (1727, 0.0), (1728, 0.0), (1729, 0.0), (1730, 0.0), (1731, 0.0), (1732, 0.0), (1733, 0.0), (1734, 0.0), (1735, 0.0), (1736, 0.0), (1738, 0.0), (1740, 0.0), (1741, 0.0), (1742, 0.0), (1743, 0.0), (1746, 0.0), (1747, 0.0), (1748, 0.0), (1749, 0.0), (1750, 0.0), (1751, 0.0), (1752, 0.0), (1753, 0.0), (1754, 0.0), (1755, 0.0), (1756, 0.0), (1758, 0.0), (1760, 0.0), (1761, 0.0), (1762, 0.0), (1763, 0.0), (1766, 0.0), (1769, 0.0), (1770, 0.0), (1772, 0.0), (1773, 0.0), (1774, 0.0), (1775, 0.0), (1776, 0.0), (1778, 0.0), (1779, 0.0), (1784, 0.0), (1785, 0.0), (1786, 0.0), (1788, 0.0), (1790, 0.0), (1791, 0.0), (1792, 0.0), (1794, 0.0), (1796, 0.0), (1797, 0.0), (1798, 0.0), (1799, 0.0), (1800, 0.0), (1801, 0.0), (1802, 0.0), (1803, 0.0), (1804, 0.0), (1805, 0.0), (1806, 0.0), (1807, 0.0), (1808, 0.0), (1809, 0.0), (1810, 0.0), (1811, 0.0), (1812, 0.0), (1813, 0.0), (1815, 0.0), (1816, 0.0), (1819, 0.0), (1820, 0.0), (1821, 0.0), (1822, 0.0), (1825, 0.0), (1826, 0.0), (1828, 0.0), (1830, 0.0), (1831, 0.0), (1832, 0.0), (1834, 0.0), (1835, 0.0), (1836, 0.0), (1837, 0.0), (1838, 0.0), (1839, 0.0), (1841, 0.0), (1843, 0.0), (1844, 0.0), (1847, 0.0), (1848, 0.0), (1849, 0.0), (1851, 0.0), (1852, 0.0), (1853, 0.0), (1854, 0.0), (1855, 0.0), (1856, 0.0), (1858, 0.0), (1859, 0.0), (1860, 0.0), (1862, 0.0), (1863, 0.0), (1864, 0.0), (1865, 0.0), (1866, 0.0), (1868, 0.0), (1869, 0.0), (1870, 0.0), (1871, 0.0), (1872, 0.0), (1874, 0.0), (1875, 0.0), (1876, 0.0), (1877, 0.0), (1879, 0.0), (1880, 0.0), (1881, 0.0), (1882, 0.0), (1883, 0.0), (1884, 0.0), (1885, 0.0), (1886, 0.0), (1887, 0.0), (1888, 0.0), (1889, 0.0), (1891, 0.0), (1892, 0.0), (1894, 0.0), (1896, 0.0), (1897, 0.0), (1898, 0.0), (1900, 0.0), (1901, 0.0), (1902, 0.0), (1903, 0.0), (1904, 0.0), (1906, 0.0), (1907, 0.0), (1908, 0.0), (1909, 0.0), (1910, 0.0), (1911, 0.0), (1912, 0.0), (1914, 0.0), (1916, 0.0), (1917, 0.0), (1920, 0.0), (1921, 0.0), (1922, 0.0), (1923, 0.0), (1924, 0.0), (1926, 0.0), (1927, 0.0), (1928, 0.0), (1929, 0.0), (1931, 0.0), (1932, 0.0), (1933, 0.0), (1934, 0.0), (1936, 0.0), (1938, 0.0), (1939, 0.0), (1941, 0.0), (1942, 0.0), (1943, 0.0), (1944, 0.0), (1945, 0.0), (1946, 0.0), (1947, 0.0), (1948, 0.0), (1949, 0.0), (1953, 0.0), (1955, 0.0), (1956, 0.0), (1957, 0.0), (1959, 0.0), (1960, 0.0), (1961, 0.0), (1962, 0.0), (1965, 0.0), (1966, 0.0), (1967, 0.0), (1969, 0.0), (1970, 0.0), (1972, 0.0), (1974, 0.0), (1975, 0.0), (1976, 0.0), (1977, 0.0), (1980, 0.0), (1982, 0.0), (1983, 0.0), (1984, 0.0), (1985, 0.0), (1986, 0.0), (1988, 0.0), (1989, 0.0), (1990, 0.0), (1991, 0.0), (1993, 0.0), (1994, 0.0), (1995, 0.0), (1996, 0.0), (1997, 0.0), (1999, 0.0), (2000, 0.0), (2001, 0.0), (2002, 0.0), (2003, 0.0), (2004, 0.0), (2005, 0.0), (2006, 0.0), (2008, 0.0), (2010, 0.0), (2011, 0.0), (2012, 0.0), (2015, 0.0), (2016, 0.0), (2017, 0.0), (2018, 0.0), (2020, 0.0), (2021, 0.0), (2023, 0.0), (2024, 0.0), (2026, 0.0), (2027, 0.0), (2028, 0.0), (2029, 0.0), (2030, 0.0), (2031, 0.0), (2032, 0.0), (2036, 0.0), (2037, 0.0), (2038, 0.0), (2040, 0.0), (2041, 0.0), (2042, 0.0), (2044, 0.0), (2045, 0.0), (2046, 0.0), (2048, 0.0), (2049, 0.0), (2050, 0.0), (2051, 0.0), (2052, 0.0), (2053, 0.0), (2055, 0.0), (2056, 0.0), (2057, 0.0), (2058, 0.0), (2059, 0.0), (2060, 0.0), (2061, 0.0), (2062, 0.0), (2063, 0.0), (2064, 0.0), (2065, 0.0), (2066, 0.0), (2067, 0.0), (2068, 0.0), (2069, 0.0), (2071, 0.0), (2072, 0.0), (2075, 0.0), (2076, 0.0), (2077, 0.0), (2080, 0.0), (2081, 0.0), (2082, 0.0), (2083, 0.0), (2084, 0.0), (2087, 0.0), (2088, 0.0), (2089, 0.0), (2091, 0.0), (2092, 0.0), (2093, 0.0), (2094, 0.0), (2095, 0.0), (2096, 0.0), (2098, 0.0), (2099, 0.0), (2101, 0.0), (2102, 0.0), (2103, 0.0), (2104, 0.0), (2105, 0.0), (2106, 0.0), (2107, 0.0), (2108, 0.0), (2109, 0.0), (2110, 0.0), (2113, 0.0), (2115, 0.0), (2116, 0.0), (2117, 0.0), (2119, 0.0), (2121, 0.0), (2122, 0.0), (2124, 0.0), (2125, 0.0), (2126, 0.0), (2127, 0.0), (2128, 0.0), (2133, 0.0), (2134, 0.0), (2136, 0.0), (2137, 0.0), (2138, 0.0), (2139, 0.0), (2141, 0.0), (2142, 0.0), (2144, 0.0), (2145, 0.0), (2146, 0.0), (2148, 0.0), (2149, 0.0), (2150, 0.0), (2152, 0.0), (2153, 0.0), (2154, 0.0), (2155, 0.0), (2156, 0.0), (2158, 0.0), (2159, 0.0), (2160, 0.0), (2164, 0.0), (2165, 0.0), (2166, 0.0), (2167, 0.0), (2168, 0.0), (2169, 0.0), (2170, 0.0), (2171, 0.0), (2172, 0.0), (2173, 0.0), (2174, 0.0), (2175, 0.0), (2176, 0.0), (2177, 0.0), (2179, 0.0), (2180, 0.0), (2181, 0.0), (2182, 0.0), (2183, 0.0), (2184, 0.0), (2186, 0.0), (2189, 0.0), (2191, 0.0), (2192, 0.0), (2193, 0.0), (2194, 0.0), (2197, 0.0), (2198, 0.0), (2199, 0.0), (2200, 0.0), (2201, 0.0), (2202, 0.0), (2206, 0.0), (2209, 0.0), (2210, 0.0), (2211, 0.0), (2212, 0.0), (2213, 0.0), (2214, 0.0), (2215, 0.0), (2217, 0.0), (2218, 0.0), (2219, 0.0), (2220, 0.0), (2221, 0.0), (2222, 0.0), (2224, 0.0), (2225, 0.0), (2226, 0.0), (2227, 0.0), (2228, 0.0), (2229, 0.0), (2230, 0.0), (2231, 0.0), (2232, 0.0), (2233, 0.0), (2234, 0.0), (2235, 0.0), (2236, 0.0), (2237, 0.0), (2238, 0.0), (2240, 0.0), (2241, 0.0), (2242, 0.0), (2243, 0.0), (2244, 0.0), (2246, 0.0), (2247, 0.0), (2248, 0.0), (2249, 0.0), (2251, 0.0), (2252, 0.0), (2253, 0.0), (2254, 0.0), (2255, 0.0), (2256, 0.0), (2257, 0.0), (2258, 0.0), (2259, 0.0), (2260, 0.0), (2261, 0.0), (2262, 0.0), (2263, 0.0), (2265, 0.0), (2267, 0.0), (2268, 0.0), (2272, 0.0), (2276, 0.0), (2277, 0.0), (2278, 0.0), (2279, 0.0), (2280, 0.0), (2282, 0.0), (2283, 0.0), (2284, 0.0), (2285, 0.0), (2286, 0.0), (2288, 0.0), (2289, 0.0), (2291, 0.0), (2292, 0.0), (2293, 0.0), (2294, 0.0), (2295, 0.0), (2296, 0.0), (2297, 0.0), (2298, 0.0), (2299, 0.0), (2300, 0.0), (2301, 0.0), (2302, 0.0), (2304, 0.0), (2305, 0.0), (2306, 0.0), (2307, 0.0), (2308, 0.0), (2309, 0.0), (2310, 0.0), (2311, 0.0), (2312, 0.0), (2313, 0.0), (2314, 0.0), (2316, 0.0), (2318, 0.0), (2319, 0.0), (2320, 0.0), (2321, 0.0), (2324, 0.0), (2328, 0.0), (2329, 0.0), (2331, 0.0), (2332, 0.0), (2333, 0.0), (2335, 0.0), (2336, 0.0), (2337, 0.0), (2338, 0.0), (2339, 0.0), (2340, 0.0), (2341, 0.0), (2343, 0.0), (2344, 0.0), (2345, 0.0), (2346, 0.0), (2347, 0.0), (2348, 0.0), (2350, 0.0), (2351, 0.0), (2353, 0.0), (2354, 0.0), (2355, 0.0), (2356, 0.0), (2358, 0.0), (2360, 0.0), (2361, 0.0), (2362, 0.0), (2363, 0.0), (2364, 0.0), (2365, 0.0), (2366, 0.0), (2367, 0.0), (2368, 0.0), (2369, 0.0), (2370, 0.0), (2371, 0.0), (2373, 0.0), (2376, 0.0), (2378, 0.0), (2379, 0.0), (2380, 0.0), (2381, 0.0), (2382, 0.0), (2383, 0.0), (2384, 0.0), (2386, 0.0), (2387, 0.0), (2388, 0.0), (2389, 0.0), (2390, 0.0), (2392, 0.0), (2394, 0.0), (2395, 0.0), (2398, 0.0), (2399, 0.0), (2401, 0.0), (2403, 0.0), (2404, 0.0), (2405, 0.0), (2407, 0.0), (2408, 0.0), (2409, 0.0), (2411, 0.0), (2412, 0.0), (2413, 0.0), (2414, 0.0), (2415, 0.0), (2416, 0.0), (2417, 0.0), (2418, 0.0), (2419, 0.0), (2420, 0.0), (2422, 0.0), (2423, 0.0), (2424, 0.0), (2425, 0.0), (2426, 0.0), (2428, 0.0), (2429, 0.0), (2430, 0.0), (2432, 0.0), (2434, 0.0), (2435, 0.0), (2436, 0.0), (2437, 0.0), (2438, 0.0), (2439, 0.0), (2440, 0.0), (2441, 0.0), (2442, 0.0), (2444, 0.0), (2448, 0.0), (2450, 0.0), (2451, 0.0), (2452, 0.0), (2453, 0.0), (2454, 0.0), (2455, 0.0), (2456, 0.0), (2458, 0.0), (2462, 0.0), (2463, 0.0), (2465, 0.0), (2466, 0.0), (2467, 0.0), (2469, 0.0), (2470, 0.0), (2471, 0.0), (2472, 0.0), (2474, 0.0), (2475, 0.0), (2476, 0.0), (2477, 0.0), (2478, 0.0), (2479, 0.0), (2482, 0.0), (2483, 0.0), (2484, 0.0), (2485, 0.0), (2486, 0.0), (2489, 0.0), (2490, 0.0), (2491, 0.0), (2492, 0.0), (2495, 0.0), (2496, 0.0), (2497, 0.0), (2498, 0.0), (2499, 0.0), (2500, 0.0), (2501, 0.0), (2503, 0.0), (2504, 0.0), (2505, 0.0), (2506, 0.0), (2507, 0.0), (2508, 0.0), (2510, 0.0), (2513, 0.0), (2514, 0.0), (2515, 0.0), (2516, 0.0), (2517, 0.0), (2518, 0.0), (2520, 0.0), (2521, 0.0), (2522, 0.0), (2524, 0.0), (2525, 0.0), (2526, 0.0), (2527, 0.0), (2528, 0.0), (2529, 0.0), (2530, 0.0), (2532, 0.0), (2533, 0.0), (2535, 0.0), (2536, 0.0), (2537, 0.0), (2538, 0.0), (2540, 0.0), (2542, 0.0), (2543, 0.0), (2544, 0.0), (2545, 0.0), (2546, 0.0), (2547, 0.0), (2548, 0.0), (2549, 0.0), (2550, 0.0), (2551, 0.0), (2553, 0.0), (2555, 0.0), (2556, 0.0), (2557, 0.0), (2558, 0.0), (2559, 0.0), (2560, 0.0), (2561, 0.0), (2562, 0.0), (2563, 0.0), (2564, 0.0), (2565, 0.0), (2566, 0.0), (2567, 0.0), (2568, 0.0), (2569, 0.0), (2573, 0.0), (2575, 0.0), (2576, 0.0), (2577, 0.0), (2579, 0.0), (2581, 0.0), (2582, 0.0), (2583, 0.0), (2584, 0.0), (2585, 0.0), (2586, 0.0), (2589, 0.0), (2590, 0.0), (2591, 0.0), (2592, 0.0), (2593, 0.0), (2594, 0.0), (2595, 0.0), (2596, 0.0), (2597, 0.0), (2598, 0.0), (2599, 0.0), (2600, 0.0), (2601, 0.0), (2602, 0.0), (2604, 0.0), (2605, 0.0), (2607, 0.0), (2608, 0.0), (2610, 0.0), (2611, 0.0), (2613, 0.0), (2614, 0.0), (2615, 0.0), (2616, 0.0), (2618, 0.0), (2620, 0.0), (2623, 0.0), (2624, 0.0), (2625, 0.0), (2626, 0.0), (2627, 0.0), (2628, 0.0), (2629, 0.0), (2630, 0.0), (2631, 0.0), (2632, 0.0), (2633, 0.0), (2634, 0.0), (2637, 0.0), (2638, 0.0), (2639, 0.0), (2640, 0.0), (2641, 0.0), (2643, 0.0), (2644, 0.0), (2647, 0.0), (2648, 0.0), (2651, 0.0), (2652, 0.0), (2653, 0.0), (2654, 0.0), (2655, 0.0), (2656, 0.0), (2657, 0.0), (2658, 0.0), (2661, 0.0), (2662, 0.0), (2664, 0.0), (2665, 0.0), (2666, 0.0), (2668, 0.0), (2669, 0.0), (2670, 0.0), (2674, 0.0), (2676, 0.0), (2678, 0.0), (2680, 0.0), (2682, 0.0), (2683, 0.0), (2684, 0.0), (2685, 0.0), (2686, 0.0), (2687, 0.0), (2689, 0.0), (2690, 0.0), (2691, 0.0), (2692, 0.0), (2693, 0.0), (2694, 0.0), (2695, 0.0), (2696, 0.0), (2698, 0.0), (2700, 0.0), (2701, 0.0), (2702, 0.0), (2703, 0.0), (2704, 0.0), (2705, 0.0), (2707, 0.0), (2708, 0.0), (2709, 0.0), (2712, 0.0), (2713, 0.0), (2714, 0.0), (2715, 0.0), (2716, 0.0), (2717, 0.0), (2719, 0.0), (2721, 0.0), (2722, 0.0), (2723, 0.0), (2724, 0.0), (2725, 0.0), (2726, 0.0), (2727, 0.0), (2729, 0.0), (2730, 0.0), (2731, 0.0), (2732, 0.0), (2733, 0.0), (2735, 0.0), (2737, 0.0), (2738, 0.0), (2741, 0.0), (2743, 0.0), (2744, 0.0), (2745, 0.0), (2746, 0.0), (2747, 0.0), (2748, 0.0), (2750, 0.0), (2751, 0.0), (2752, 0.0), (2753, 0.0), (2754, 0.0), (2755, 0.0), (2757, 0.0), (2758, 0.0), (2759, 0.0), (2763, 0.0), (2764, 0.0), (2765, 0.0), (2766, 0.0), (2767, 0.0), (2768, 0.0), (2769, 0.0), (2771, 0.0), (2773, 0.0), (2774, 0.0), (2776, 0.0), (2778, 0.0), (2779, 0.0), (2780, 0.0), (2782, 0.0), (2783, 0.0), (2784, 0.0), (2785, 0.0), (2786, 0.0), (2787, 0.0), (2791, 0.0), (2792, 0.0), (2794, 0.0), (2795, 0.0), (2796, 0.0), (2797, 0.0), (2799, 0.0), (2800, 0.0), (2801, 0.0), (2802, 0.0), (2803, 0.0), (2804, 0.0), (2805, 0.0), (2806, 0.0), (2807, 0.0), (2809, 0.0), (2810, 0.0), (2811, 0.0), (2812, 0.0), (2814, 0.0), (2815, 0.0), (2816, 0.0), (2818, 0.0), (2819, 0.0), (2820, 0.0), (2821, 0.0), (2823, 0.0), (2826, 0.0), (2827, 0.0), (2828, 0.0), (2829, 0.0), (2832, 0.0), (2834, 0.0), (2835, 0.0), (2836, 0.0), (2837, 0.0), (2838, 0.0), (2839, 0.0), (2843, 0.0), (2844, 0.0), (2846, 0.0), (2847, 0.0), (2848, 0.0), (2849, 0.0), (2850, 0.0), (2852, 0.0), (2855, 0.0), (2856, 0.0), (2858, 0.0), (2859, 0.0), (2860, 0.0), (2861, 0.0), (2862, 0.0), (2863, 0.0), (2864, 0.0), (2865, 0.0), (2866, 0.0), (2867, 0.0), (2868, 0.0), (2870, 0.0), (2871, 0.0), (2872, 0.0), (2874, 0.0), (2875, 0.0), (2878, 0.0), (2879, 0.0), (2880, 0.0), (2881, 0.0), (2882, 0.0), (2883, 0.0), (2885, 0.0), (2886, 0.0), (2888, 0.0), (2890, 0.0), (2891, 0.0), (2893, 0.0), (2894, 0.0), (2895, 0.0), (2896, 0.0), (2898, 0.0), (2900, 0.0), (2901, 0.0), (2902, 0.0), (2903, 0.0), (2904, 0.0), (2905, 0.0), (2906, 0.0), (2909, 0.0), (2910, 0.0), (2911, 0.0), (2912, 0.0), (2913, 0.0), (2914, 0.0), (2915, 0.0), (2916, 0.0), (2917, 0.0), (2918, 0.0), (2919, 0.0), (2920, 0.0), (2922, 0.0), (2923, 0.0), (2924, 0.0), (2926, 0.0), (2927, 0.0), (2928, 0.0), (2930, 0.0), (2932, 0.0), (2934, 0.0), (2935, 0.0), (2936, 0.0), (2937, 0.0), (2938, 0.0), (2939, 0.0), (2940, 0.0), (2941, 0.0), (2942, 0.0), (2943, 0.0), (2944, 0.0), (2945, 0.0), (2946, 0.0), (2947, 0.0), (2948, 0.0), (2949, 0.0), (2950, 0.0), (2951, 0.0), (2953, 0.0), (2954, 0.0), (2955, 0.0), (2956, 0.0), (2957, 0.0), (2960, 0.0), (2961, 0.0), (2964, 0.0), (2966, 0.0), (2967, 0.0), (2968, 0.0), (2969, 0.0), (2970, 0.0), (2971, 0.0), (2972, 0.0), (2973, 0.0), (2974, 0.0), (2976, 0.0), (2977, 0.0), (2978, 0.0), (2979, 0.0), (2980, 0.0), (2983, 0.0), (2984, 0.0), (2986, 0.0), (2987, 0.0), (2989, 0.0), (2990, 0.0), (2991, 0.0), (2992, 0.0), (2993, 0.0), (2994, 0.0), (2995, 0.0), (2996, 0.0), (2997, 0.0), (2998, 0.0), (2999, 0.0), (3002, 0.0), (3003, 0.0), (3004, 0.0), (3005, 0.0), (3007, 0.0), (3008, 0.0), (3009, 0.0), (3010, 0.0), (3012, 0.0), (3013, 0.0), (3014, 0.0), (3015, 0.0), (3016, 0.0), (3019, 0.0), (3020, 0.0), (3022, 0.0), (3024, 0.0), (3025, 0.0), (3026, 0.0), (3029, 0.0), (3030, 0.0), (3032, 0.0), (3034, 0.0), (3035, 0.0), (3036, 0.0), (3037, 0.0), (3038, 0.0), (3039, 0.0), (3040, 0.0), (3041, 0.0), (3042, 0.0), (3043, 0.0), (3044, 0.0), (3045, 0.0), (3047, 0.0), (3048, 0.0), (3049, 0.0), (3050, 0.0), (3051, 0.0), (3052, 0.0), (3053, 0.0), (3054, 0.0), (3055, 0.0), (3057, 0.0), (3058, 0.0), (3059, 0.0), (3061, 0.0), (3062, 0.0), (3064, 0.0), (3065, 0.0), (3066, 0.0), (3068, 0.0), (3069, 0.0), (3070, 0.0), (3072, 0.0), (3074, 0.0), (3075, 0.0), (3076, 0.0), (3078, 0.0), (3079, 0.0), (3081, 0.0), (3084, 0.0), (3085, 0.0), (3087, 0.0), (3088, 0.0), (3089, 0.0), (3091, 0.0), (3092, 0.0), (3093, 0.0), (3095, 0.0), (3096, 0.0), (3097, 0.0), (3099, 0.0), (3100, 0.0), (3101, 0.0), (3102, 0.0), (3103, 0.0), (3104, 0.0), (3105, 0.0), (3106, 0.0), (3107, 0.0), (3108, 0.0), (3112, 0.0), (3113, 0.0), (3114, 0.0), (3115, 0.0), (3116, 0.0), (3118, 0.0), (3119, 0.0), (3120, 0.0), (3122, 0.0), (3123, 0.0), (3125, 0.0), (3126, 0.0), (3127, 0.0), (3128, 0.0), (3129, 0.0), (3130, 0.0), (3131, 0.0), (3135, 0.0), (3136, 0.0), (3137, 0.0), (3138, 0.0), (3139, 0.0), (3140, 0.0), (3141, 0.0), (3143, 0.0), (3145, 0.0), (3146, 0.0), (3148, 0.0), (3150, 0.0), (3151, 0.0), (3152, 0.0), (3154, 0.0), (3156, 0.0), (3157, 0.0), (3158, 0.0), (3159, 0.0), (3160, 0.0), (3161, 0.0), (3162, 0.0), (3164, 0.0), (3165, 0.0), (3166, 0.0), (3168, 0.0), (3169, 0.0), (3170, 0.0), (3171, 0.0), (3172, 0.0), (3173, 0.0), (3174, 0.0), (3175, 0.0), (3176, 0.0), (3177, 0.0), (3178, 0.0), (3179, 0.0), (3180, 0.0), (3181, 0.0), (3183, 0.0), (3184, 0.0), (3185, 0.0), (3186, 0.0), (3187, 0.0), (3190, 0.0), (3192, 0.0), (3193, 0.0), (3194, 0.0), (3195, 0.0), (3196, 0.0), (3197, 0.0), (3198, 0.0), (3200, 0.0), (3201, 0.0), (3202, 0.0), (3203, 0.0), (3204, 0.0), (3205, 0.0), (3206, 0.0), (3207, 0.0), (3210, 0.0), (3211, 0.0), (3212, 0.0), (3216, 0.0), (3217, 0.0), (3218, 0.0), (3220, 0.0), (3221, 0.0), (3222, 0.0), (3223, 0.0), (3224, 0.0), (3226, 0.0), (3227, 0.0), (3228, 0.0), (3229, 0.0), (3230, 0.0), (3231, 0.0), (3232, 0.0), (3233, 0.0), (3234, 0.0), (3235, 0.0), (3236, 0.0), (3238, 0.0), (3239, 0.0), (3243, 0.0), (3245, 0.0), (3248, 0.0), (3249, 0.0), (3250, 0.0), (3251, 0.0), (3252, 0.0), (3253, 0.0), (3255, 0.0), (3256, 0.0), (3257, 0.0), (3258, 0.0), (3261, 0.0), (3262, 0.0), (3263, 0.0), (3264, 0.0), (3265, 0.0), (3266, 0.0), (3267, 0.0), (3268, 0.0), (3271, 0.0), (3273, 0.0), (3274, 0.0), (3275, 0.0), (3276, 0.0), (3277, 0.0), (3278, 0.0), (3279, 0.0), (3280, 0.0), (3281, 0.0), (3282, 0.0), (3283, 0.0), (3284, 0.0), (3285, 0.0), (3286, 0.0), (3287, 0.0), (3288, 0.0), (3290, 0.0), (3291, 0.0), (3292, 0.0), (3293, 0.0), (3294, 0.0), (3295, 0.0), (3296, 0.0), (3297, 0.0), (3298, 0.0), (3299, 0.0), (3301, 0.0), (3302, 0.0), (3305, 0.0), (3306, 0.0), (3307, 0.0), (3308, 0.0), (3309, 0.0), (3310, 0.0), (3311, 0.0), (3313, 0.0), (3314, 0.0), (3316, 0.0), (3317, 0.0), (3319, 0.0), (3320, 0.0), (3322, 0.0), (3323, 0.0), (3324, 0.0), (3325, 0.0), (3326, 0.0), (3327, 0.0), (3328, 0.0), (3329, 0.0), (3331, 0.0), (3332, 0.0), (3333, 0.0), (3335, 0.0), (3336, 0.0), (3337, 0.0), (3338, 0.0), (3339, 0.0), (3340, 0.0), (3341, 0.0), (3343, 0.0), (3345, 0.0), (3346, 0.0), (3347, 0.0), (3349, 0.0), (3350, 0.0), (3351, 0.0), (3352, 0.0), (3353, 0.0), (3354, 0.0), (3355, 0.0), (3357, 0.0), (3358, 0.0), (3359, 0.0), (3360, 0.0), (3361, 0.0), (3362, 0.0), (3363, 0.0), (3364, 0.0), (3365, 0.0), (3366, 0.0), (3367, 0.0), (3368, 0.0), (3369, 0.0), (3371, 0.0), (3372, 0.0), (3373, 0.0), (3374, 0.0), (3375, 0.0), (3376, 0.0), (3377, 0.0), (3378, 0.0), (3379, 0.0), (3380, 0.0), (3381, 0.0), (3382, 0.0), (3383, 0.0), (3384, 0.0), (3385, 0.0), (3386, 0.0), (3389, 0.0), (3391, 0.0), (3393, 0.0), (3394, 0.0), (3395, 0.0), (3396, 0.0), (3397, 0.0), (3398, 0.0), (3399, 0.0), (3400, 0.0), (3401, 0.0), (3402, 0.0), (3403, 0.0), (3404, 0.0), (3405, 0.0), (3406, 0.0), (3407, 0.0), (3408, 0.0), (3409, 0.0), (3410, 0.0), (3411, 0.0), (3412, 0.0), (3413, 0.0), (3414, 0.0), (3415, 0.0), (3417, 0.0), (3419, 0.0), (3420, 0.0), (3423, 0.0), (3424, 0.0), (3425, 0.0), (3426, 0.0), (3428, 0.0), (3429, 0.0), (3430, 0.0), (3431, 0.0), (3432, 0.0), (3433, 0.0), (3434, 0.0), (3435, 0.0), (3436, 0.0), (3437, 0.0), (3439, 0.0), (3440, 0.0), (3441, 0.0), (3442, 0.0), (3443, 0.0), (3444, 0.0), (3445, 0.0), (3446, 0.0), (3447, 0.0), (3448, 0.0), (3449, 0.0), (3450, 0.0), (3451, 0.0), (3452, 0.0), (3453, 0.0), (3454, 0.0), (3455, 0.0), (3457, 0.0), (3459, 0.0), (3460, 0.0), (3461, 0.0), (3462, 0.0), (3463, 0.0), (3464, 0.0), (3465, 0.0), (3466, 0.0), (3467, 0.0), (3468, 0.0), (3469, 0.0), (3470, 0.0), (3471, 0.0), (3472, 0.0), (3473, 0.0), (3475, 0.0), (3476, 0.0), (3478, 0.0), (3479, 0.0), (3480, 0.0), (3481, 0.0), (3482, 0.0), (3485, 0.0), (3486, 0.0), (3487, 0.0), (3488, 0.0), (3489, 0.0), (3490, 0.0), (3491, 0.0), (3493, 0.0), (3494, 0.0), (3495, 0.0), (3496, 0.0), (3499, 0.0), (3500, 0.0), (3501, 0.0), (3502, 0.0), (3504, 0.0), (3505, 0.0), (3507, 0.0), (3508, 0.0), (3511, 0.0), (3512, 0.0), (3513, 0.0), (3514, 0.0), (3515, 0.0), (3517, 0.0), (3518, 0.0), (3519, 0.0), (3520, 0.0), (3521, 0.0), (3522, 0.0), (3523, 0.0), (3525, 0.0), (3526, 0.0), (3527, 0.0), (3528, 0.0), (3529, 0.0), (3530, 0.0), (3532, 0.0), (3533, 0.0), (3534, 0.0), (3535, 0.0), (3536, 0.0), (3537, 0.0), (3538, 0.0), (3540, 0.0), (3541, 0.0), (3542, 0.0), (3543, 0.0), (3544, 0.0), (3545, 0.0), (3547, 0.0), (3548, 0.0), (3549, 0.0), (3550, 0.0), (3551, 0.0), (3552, 0.0), (3554, 0.0), (3555, 0.0), (3556, 0.0), (3557, 0.0), (3558, 0.0), (3559, 0.0), (3560, 0.0), (3561, 0.0), (3562, 0.0), (3565, 0.0), (3566, 0.0), (3567, 0.0), (3569, 0.0), (3571, 0.0), (3572, 0.0), (3573, 0.0), (3576, 0.0), (3577, 0.0), (3578, 0.0), (3580, 0.0), (3581, 0.0), (3583, 0.0), (3584, 0.0), (3585, 0.0), (3586, 0.0), (3588, 0.0), (3589, 0.0), (3590, 0.0), (3591, 0.0), (3592, 0.0), (3593, 0.0), (3595, 0.0), (3597, 0.0), (3598, 0.0), (3599, 0.0), (3600, 0.0), (3601, 0.0), (3602, 0.0), (3603, 0.0), (3604, 0.0), (3605, 0.0), (3606, 0.0), (3608, 0.0), (3609, 0.0), (3612, 0.0), (3613, 0.0), (3614, 0.0), (3615, 0.0), (3616, 0.0), (3617, 0.0), (3618, 0.0), (3619, 0.0), (3620, 0.0), (3621, 0.0), (3622, 0.0), (3623, 0.0), (3624, 0.0), (3625, 0.0), (3627, 0.0), (3628, 0.0), (3629, 0.0), (3630, 0.0), (3631, 0.0), (3632, 0.0), (3633, 0.0), (3634, 0.0), (3635, 0.0), (3636, 0.0), (3637, 0.0), (3638, 0.0), (3639, 0.0), (3640, 0.0), (3641, 0.0), (3642, 0.0), (3643, 0.0), (3644, 0.0), (3645, 0.0), (3647, 0.0), (3648, 0.0), (3649, 0.0), (3650, 0.0), (3651, 0.0), (3652, 0.0), (3653, 0.0), (3654, 0.0), (3657, 0.0), (3659, 0.0), (3661, 0.0), (3663, 0.0), (3664, 0.0), (3665, 0.0), (3668, 0.0), (3669, 0.0), (3671, 0.0), (3672, 0.0), (3673, 0.0), (3675, 0.0), (3676, 0.0), (3677, 0.0), (3678, 0.0), (3679, 0.0), (3680, 0.0), (3681, 0.0), (3682, 0.0), (3686, 0.0), (3687, 0.0), (3688, 0.0), (3689, 0.0), (3690, 0.0), (3691, 0.0), (3692, 0.0), (3693, 0.0), (3694, 0.0), (3695, 0.0), (3696, 0.0), (3697, 0.0), (3698, 0.0), (3699, 0.0), (3701, 0.0), (3702, 0.0), (3703, 0.0), (3704, 0.0), (3706, 0.0), (3707, 0.0), (3708, 0.0), (3709, 0.0), (3710, 0.0), (3711, 0.0), (3713, 0.0), (3714, 0.0), (3716, 0.0), (3717, 0.0), (3719, 0.0), (3720, 0.0), (3721, 0.0), (3723, 0.0), (3724, 0.0), (3726, 0.0), (3728, 0.0), (3729, 0.0), (3730, 0.0), (3731, 0.0), (3732, 0.0), (3733, 0.0), (3734, 0.0), (3735, 0.0), (3737, 0.0), (3738, 0.0), (3740, 0.0), (3741, 0.0), (3742, 0.0), (3743, 0.0), (3744, 0.0), (3745, 0.0), (3746, 0.0), (3748, 0.0), (3749, 0.0), (3752, 0.0), (3753, 0.0), (3754, 0.0), (3755, 0.0), (3756, 0.0), (3757, 0.0), (3758, 0.0), (3759, 0.0), (3760, 0.0), (3761, 0.0), (3762, 0.0), (3763, 0.0), (3764, 0.0), (3765, 0.0), (3766, 0.0), (3767, 0.0), (3768, 0.0), (3770, 0.0), (3771, 0.0), (3772, 0.0), (3773, 0.0), (3775, 0.0), (3776, 0.0), (3777, 0.0), (3778, 0.0), (3779, 0.0), (3781, 0.0), (3782, 0.0), (3783, 0.0), (3784, 0.0), (3786, 0.0), (3787, 0.0), (3788, 0.0), (3789, 0.0), (3791, 0.0), (3793, 0.0), (3794, 0.0), (3795, 0.0), (3796, 0.0), (3798, 0.0), (3799, 0.0), (3800, 0.0), (3801, 0.0), (3802, 0.0), (3803, 0.0), (3804, 0.0), (3805, 0.0), (3806, 0.0), (3808, 0.0), (3809, 0.0), (3810, 0.0), (3811, 0.0), (3814, 0.0), (3815, 0.0), (3816, 0.0), (3817, 0.0), (3818, 0.0), (3821, 0.0), (3822, 0.0), (3823, 0.0), (3824, 0.0), (3825, 0.0), (3826, 0.0), (3827, 0.0), (3829, 0.0), (3831, 0.0), (3832, 0.0), (3833, 0.0), (3834, 0.0), (3835, 0.0), (3836, 0.0), (3837, 0.0), (3838, 0.0), (3839, 0.0), (3840, 0.0), (3841, 0.0), (3842, 0.0), (3843, 0.0), (3844, 0.0), (3845, 0.0), (3846, 0.0), (3847, 0.0), (3848, 0.0), (3850, 0.0), (3851, 0.0), (3852, 0.0), (3853, 0.0), (3854, 0.0), (3856, 0.0), (3857, 0.0), (3858, 0.0), (3859, 0.0), (3860, 0.0), (3861, 0.0), (3862, 0.0), (3863, 0.0), (3864, 0.0), (3865, 0.0), (3866, 0.0), (3867, 0.0), (3869, 0.0), (3870, 0.0), (3871, 0.0), (3872, 0.0), (3873, 0.0), (3874, 0.0), (3875, 0.0), (3878, 0.0), (3879, 0.0), (3880, 0.0), (3881, 0.0), (3882, 0.0), (3883, 0.0), (3884, 0.0), (3885, 0.0), (3886, 0.0), (3887, 0.0), (3888, 0.0), (3889, 0.0), (3891, 0.0), (3892, 0.0), (3894, 0.0), (3895, 0.0), (3896, 0.0), (3897, 0.0), (3898, 0.0), (3900, 0.0), (3901, 0.0), (3902, 0.0), (3903, 0.0), (3905, 0.0), (3906, 0.0), (3907, 0.0), (3908, 0.0), (3909, 0.0), (3910, 0.0), (3911, 0.0), (3913, 0.0), (3914, 0.0), (3915, 0.0), (3916, 0.0), (3917, 0.0), (3918, 0.0), (3919, 0.0), (3920, 0.0), (3921, 0.0), (3922, 0.0), (3923, 0.0), (3924, 0.0), (3925, 0.0), (3927, 0.0), (3928, 0.0), (3929, 0.0), (3930, 0.0), (3931, 0.0), (3932, 0.0), (3933, 0.0), (3934, 0.0), (3935, 0.0), (3936, 0.0), (3937, 0.0), (3938, 0.0), (3939, 0.0), (3940, 0.0), (3941, 0.0), (3942, 0.0), (3943, 0.0), (3944, 0.0), (3945, 0.0), (3946, 0.0), (3947, 0.0), (3948, 0.0), (3949, 0.0), (3950, 0.0), (3951, 0.0), (3952, 0.0), (3954, 0.0), (3955, 0.0), (3956, 0.0), (3957, 0.0), (3958, 0.0), (3959, 0.0), (3960, 0.0), (3961, 0.0), (3962, 0.0), (3963, 0.0), (3964, 0.0), (3967, 0.0), (3968, 0.0), (3970, 0.0), (3971, 0.0), (3972, 0.0), (3973, 0.0), (3975, 0.0), (3976, 0.0), (3977, 0.0), (3978, 0.0), (3979, 0.0), (3980, 0.0), (3981, 0.0), (3984, 0.0), (3986, 0.0), (3987, 0.0), (3988, 0.0), (3991, 0.0), (3992, 0.0), (3995, 0.0), (3996, 0.0), (3997, 0.0), (3998, 0.0), (3999, 0.0), (4000, 0.0), (4001, 0.0), (4002, 0.0), (4003, 0.0), (4004, 0.0), (4005, 0.0), (4006, 0.0), (4008, 0.0), (4009, 0.0), (4010, 0.0), (4012, 0.0), (4013, 0.0), (4014, 0.0), (4016, 0.0), (4017, 0.0), (4018, 0.0), (4019, 0.0), (4020, 0.0), (4021, 0.0), (4022, 0.0), (4023, 0.0), (4024, 0.0), (4026, 0.0), (4027, 0.0), (4028, 0.0), (4029, 0.0), (4030, 0.0), (4031, 0.0), (4032, 0.0), (4034, 0.0), (4035, 0.0), (4036, 0.0), (4037, 0.0), (4038, 0.0), (4039, 0.0), (4041, 0.0), (4042, 0.0), (4043, 0.0), (4044, 0.0), (4046, 0.0), (4047, 0.0), (4048, 0.0), (4049, 0.0), (4050, 0.0), (4051, 0.0), (4052, 0.0), (4053, 0.0), (4054, 0.0), (4055, 0.0), (4056, 0.0), (4057, 0.0), (4058, 0.0), (4060, 0.0), (4061, 0.0), (4062, 0.0), (4063, 0.0), (4064, 0.0), (4065, 0.0), (4066, 0.0), (4067, 0.0), (4068, 0.0), (4069, 0.0), (4070, 0.0), (4071, 0.0), (4072, 0.0), (4075, 0.0), (4076, 0.0), (4077, 0.0), (4079, 0.0), (4080, 0.0), (4081, 0.0), (4082, 0.0), (4083, 0.0), (4084, 0.0), (4085, 0.0), (4087, 0.0), (4088, 0.0), (4091, 0.0), (4092, 0.0), (4093, 0.0), (4094, 0.0), (4095, 0.0), (4096, 0.0), (4098, 0.0), (4099, 0.0), (4100, 0.0), (4102, 0.0), (4103, 0.0), (4104, 0.0), (4105, 0.0), (4106, 0.0), (4107, 0.0), (4108, 0.0), (4111, 0.0), (4112, 0.0), (4113, 0.0), (4115, 0.0), (4116, 0.0), (4117, 0.0), (4118, 0.0), (4119, 0.0), (4120, 0.0), (4121, 0.0), (4123, 0.0), (4124, 0.0), (4125, 0.0), (4126, 0.0), (4127, 0.0), (4129, 0.0), (4130, 0.0), (4131, 0.0), (4132, 0.0), (4133, 0.0), (4134, 0.0), (4135, 0.0), (4136, 0.0), (4138, 0.0), (4139, 0.0), (4140, 0.0), (4141, 0.0), (4142, 0.0), (4143, 0.0), (4144, 0.0), (4145, 0.0), (4146, 0.0), (4147, 0.0), (4148, 0.0), (4149, 0.0), (4150, 0.0), (4151, 0.0), (4153, 0.0), (4154, 0.0), (4156, 0.0), (4157, 0.0), (4158, 0.0), (4160, 0.0), (4161, 0.0), (4163, 0.0), (4165, 0.0), (4166, 0.0), (4167, 0.0), (4168, 0.0), (4170, 0.0), (4172, 0.0), (4175, 0.0), (4177, 0.0), (4178, 0.0), (4179, 0.0), (4180, 0.0), (4181, 0.0), (4182, 0.0), (4183, 0.0), (4184, 0.0), (4185, 0.0), (4188, 0.0), (4190, 0.0), (4191, 0.0), (4192, 0.0), (4193, 0.0), (4195, 0.0), (4196, 0.0), (4198, 0.0), (4200, 0.0), (4201, 0.0), (4202, 0.0), (4203, 0.0), (4204, 0.0), (4205, 0.0), (4206, 0.0), (4208, 0.0), (4209, 0.0), (4211, 0.0), (4212, 0.0), (4213, 0.0), (4214, 0.0), (4215, 0.0), (4216, 0.0), (4217, 0.0), (4219, 0.0), (4220, 0.0), (4221, 0.0), (4222, 0.0), (4223, 0.0), (4224, 0.0), (4225, 0.0), (4226, 0.0), (4227, 0.0), (4228, 0.0), (4229, 0.0), (4230, 0.0), (4231, 0.0), (4232, 0.0), (4233, 0.0), (4234, 0.0), (4235, 0.0), (4236, 0.0), (4237, 0.0), (4238, 0.0), (4239, 0.0), (4241, 0.0), (4242, 0.0), (4243, 0.0), (4244, 0.0), (4245, 0.0), (4246, 0.0), (4248, 0.0), (4249, 0.0), (4250, 0.0), (4251, 0.0), (4253, 0.0), (4254, 0.0), (4255, 0.0), (4256, 0.0), (4257, 0.0), (4258, 0.0), (4259, 0.0), (4260, 0.0), (4261, 0.0), (4263, 0.0), (4264, 0.0), (4265, 0.0), (4266, 0.0), (4267, 0.0), (4270, 0.0), (4272, 0.0), (4273, 0.0), (4275, 0.0), (4276, 0.0), (4278, 0.0), (4279, 0.0), (4280, 0.0), (4281, 0.0), (4282, 0.0), (4283, 0.0), (4284, 0.0), (4285, 0.0), (4288, 0.0), (4289, 0.0), (4291, 0.0), (4292, 0.0), (4293, 0.0), (4294, 0.0), (4295, 0.0), (4296, 0.0), (4297, 0.0), (4298, 0.0), (4299, 0.0), (4300, 0.0), (4301, 0.0), (4302, 0.0), (4305, 0.0), (4306, 0.0), (4307, 0.0), (4308, 0.0), (4309, 0.0), (4311, 0.0), (4312, 0.0), (4313, 0.0), (4314, 0.0), (4315, 0.0), (4316, 0.0), (4320, 0.0), (4322, 0.0), (4323, 0.0), (4324, 0.0), (4326, 0.0), (4327, 0.0), (4328, 0.0), (4330, 0.0), (4331, 0.0), (4332, 0.0), (4334, 0.0), (4335, 0.0), (4336, 0.0), (4337, 0.0), (4338, 0.0), (4339, 0.0), (4340, 0.0), (4342, 0.0), (4343, 0.0), (4346, 0.0), (4347, 0.0), (4348, 0.0), (4349, 0.0), (4350, 0.0), (4351, 0.0), (4352, 0.0), (4354, 0.0), (4355, 0.0), (4357, 0.0), (4358, 0.0), (4360, 0.0), (4361, 0.0), (4362, 0.0), (4364, 0.0), (4365, 0.0), (4367, 0.0), (4368, 0.0), (4369, 0.0), (4370, 0.0), (4372, 0.0), (4373, 0.0), (4375, 0.0), (4376, 0.0), (4377, 0.0), (4378, 0.0), (4379, 0.0), (4380, 0.0), (4381, 0.0), (4382, 0.0), (4383, 0.0), (4384, 0.0), (4385, 0.0), (4386, 0.0), (4387, 0.0), (4389, 0.0), (4390, 0.0), (4391, 0.0), (4392, 0.0), (4393, 0.0), (4394, 0.0), (4395, 0.0), (4396, 0.0), (4397, 0.0), (4398, 0.0), (4400, 0.0), (4401, 0.0), (4402, 0.0), (4403, 0.0), (4404, 0.0), (4405, 0.0), (4406, 0.0), (4408, 0.0), (4409, 0.0), (4410, 0.0), (4413, 0.0), (4414, 0.0), (4415, 0.0), (4417, 0.0), (4418, 0.0), (4419, 0.0), (4420, 0.0), (4422, 0.0), (4423, 0.0), (4424, 0.0), (4425, 0.0), (4426, 0.0), (4428, 0.0), (4429, 0.0), (4430, 0.0), (4432, 0.0), (4433, 0.0), (4435, 0.0), (4436, 0.0), (4439, 0.0), (4440, 0.0), (4441, 0.0), (4442, 0.0), (4443, 0.0), (4444, 0.0), (4446, 0.0), (4447, 0.0), (4448, 0.0), (4449, 0.0), (4450, 0.0), (4451, 0.0), (4452, 0.0), (4453, 0.0), (4455, 0.0), (4456, 0.0), (4457, 0.0), (4458, 0.0), (4459, 0.0), (4461, 0.0), (4462, 0.0), (4463, 0.0), (4464, 0.0), (4465, 0.0), (4466, 0.0), (4467, 0.0), (4469, 0.0), (4471, 0.0), (4474, 0.0), (4475, 0.0), (4476, 0.0), (4477, 0.0), (4478, 0.0), (4479, 0.0), (4480, 0.0), (4481, 0.0), (4482, 0.0), (4483, 0.0), (4484, 0.0), (4485, 0.0), (4486, 0.0), (4487, 0.0), (4489, 0.0), (4490, 0.0), (4491, 0.0), (4492, 0.0), (4493, 0.0), (4494, 0.0), (4495, 0.0), (4496, 0.0), (4499, 0.0), (4500, 0.0), (4501, 0.0), (4502, 0.0), (4504, 0.0), (4505, 0.0), (4506, 0.0), (4507, 0.0), (4508, 0.0), (4509, 0.0), (4510, 0.0), (4511, 0.0), (4512, 0.0), (4514, 0.0), (4516, 0.0), (4517, 0.0), (4518, 0.0), (4520, 0.0), (4521, 0.0), (4522, 0.0), (4523, 0.0), (4524, 0.0), (4526, 0.0), (4527, 0.0), (4528, 0.0), (4530, 0.0), (4531, 0.0), (4532, 0.0), (4533, 0.0), (4534, 0.0), (4535, 0.0), (4537, 0.0), (4539, 0.0), (4540, 0.0), (4543, 0.0), (4544, 0.0), (4546, 0.0), (4547, 0.0), (4548, 0.0), (4549, 0.0), (4550, 0.0), (4551, 0.0), (4552, 0.0), (4553, 0.0), (4554, 0.0), (4555, 0.0), (4556, 0.0), (4557, 0.0), (4559, 0.0), (4560, 0.0), (4561, 0.0), (4562, 0.0), (4563, 0.0), (4564, 0.0), (4565, 0.0), (4566, 0.0), (4567, 0.0), (4568, 0.0), (4570, 0.0), (4571, 0.0), (4572, 0.0), (4573, 0.0), (4575, 0.0), (4576, 0.0), (4577, 0.0), (4578, 0.0), (4579, 0.0), (4580, 0.0), (4581, 0.0), (4582, 0.0), (4583, 0.0), (4584, 0.0), (4585, 0.0), (4586, 0.0), (4588, 0.0), (4589, 0.0), (4591, 0.0), (4592, 0.0), (4593, 0.0), (4594, 0.0), (4595, 0.0), (4596, 0.0), (4597, 0.0), (4599, 0.0), (4600, 0.0), (4601, 0.0), (4602, 0.0), (4603, 0.0), (4604, 0.0), (4605, 0.0), (4606, 0.0), (4607, 0.0), (4608, 0.0), (4609, 0.0), (4610, 0.0), (4611, 0.0), (4612, 0.0), (4613, 0.0), (4614, 0.0), (4615, 0.0), (4616, 0.0), (4617, 0.0), (4618, 0.0), (4619, 0.0), (4620, 0.0), (4621, 0.0), (4622, 0.0), (4623, 0.0), (4624, 0.0), (4625, 0.0), (4626, 0.0), (4627, 0.0), (4628, 0.0), (4629, 0.0), (4630, 0.0), (4631, 0.0), (4632, 0.0), (4633, 0.0), (4634, 0.0), (4635, 0.0), (4636, 0.0), (4637, 0.0), (4640, 0.0), (4641, 0.0), (4642, 0.0), (4644, 0.0), (4645, 0.0), (4646, 0.0), (4648, 0.0), (4649, 0.0), (4651, 0.0), (4652, 0.0), (4653, 0.0), (4654, 0.0), (4655, 0.0), (4656, 0.0), (4657, 0.0), (4660, 0.0), (4661, 0.0), (4662, 0.0), (4663, 0.0), (4664, 0.0), (4665, 0.0), (4666, 0.0), (4667, 0.0), (4668, 0.0), (4669, 0.0), (4670, 0.0), (4671, 0.0), (4672, 0.0), (4673, 0.0), (4674, 0.0), (4675, 0.0), (4676, 0.0), (4677, 0.0), (4678, 0.0), (4680, 0.0), (4681, 0.0), (4682, 0.0), (4683, 0.0), (4685, 0.0), (4686, 0.0), (4687, 0.0), (4689, 0.0), (4690, 0.0), (4691, 0.0), (4692, 0.0), (4693, 0.0), (4694, 0.0), (4695, 0.0), (4696, 0.0), (4697, 0.0), (4698, 0.0), (4700, 0.0), (4701, 0.0), (4702, 0.0), (4703, 0.0), (4704, 0.0), (4706, 0.0), (4707, 0.0), (4709, 0.0), (4710, 0.0), (4711, 0.0), (4712, 0.0), (4713, 0.0), (4714, 0.0), (4715, 0.0), (4716, 0.0), (4717, 0.0), (4718, 0.0), (4720, 0.0), (4721, 0.0), (4722, 0.0), (4723, 0.0), (4724, 0.0), (4726, 0.0), (4727, 0.0), (4728, 0.0), (4729, 0.0), (4730, 0.0), (4731, 0.0), (4732, 0.0), (4733, 0.0), (4734, 0.0), (4735, 0.0), (4736, 0.0), (4737, 0.0), (4738, 0.0), (4740, 0.0), (4741, 0.0), (4743, 0.0), (4744, 0.0), (4745, 0.0), (4746, 0.0), (4747, 0.0), (4748, 0.0), (4749, 0.0), (4750, 0.0), (4751, 0.0), (4754, 0.0), (4755, 0.0), (4758, 0.0), (4759, 0.0)]\n"
          ]
        }
      ]
    },
    {
      "cell_type": "code",
      "source": [
        "# print the name of the similar movies based on the index\n",
        "\n",
        "print('Top 30 Movies Suggested for you : \\n')\n",
        "i = 1\n",
        "for movie in Sorted_Similar_Movies:\n",
        "  index = movie[0]\n",
        "  title_from_index = df[df.index==index]['Movie_Title'].values[0]\n",
        "  if(i<31):\n",
        "      print(i,'.',title_from_index)\n",
        "      i+=1"
      ],
      "metadata": {
        "colab": {
          "base_uri": "https://localhost:8080/"
        },
        "id": "TH4q4EUnwcNK",
        "outputId": "8858a116-6bb7-47cb-b04d-fb458c1795c8"
      },
      "execution_count": null,
      "outputs": [
        {
          "output_type": "stream",
          "name": "stdout",
          "text": [
            "Top 30 Movies Suggested for you : \n",
            "\n",
            "1 . Doogal\n",
            "2 . Cats & Dogs\n",
            "3 . The Color Purple\n",
            "4 . Fever Pitch\n",
            "5 . An Alan Smithee Film: Burn, Hollywood, Burn\n",
            "6 . Brooklyn Rules\n",
            "7 . How Stella Got Her Groove Back\n",
            "8 . Ghost\n",
            "9 . Freaky Friday\n",
            "10 . Madea Goes to Jail\n",
            "11 . Bogus\n",
            "12 . Farce of the Penguins\n",
            "13 . Rat Race\n",
            "14 . Ghosts of Mississippi\n",
            "15 . The Benchwarmers\n",
            "16 . The Other Woman\n",
            "17 . The Deep End of the Ocean\n",
            "18 . Superbabies: Baby Geniuses 2\n",
            "19 . Role Models\n",
            "20 . We Need to Talk About Kevin\n",
            "21 . In the Bedroom\n",
            "22 . About Last Night\n",
            "23 . The Runaways\n",
            "24 . Nebraska\n",
            "25 . Napoleon Dynamite\n",
            "26 . Set It Off\n",
            "27 . Christmas Eve\n",
            "28 . Shorts\n",
            "29 . X2\n",
            "30 . Analyze This\n"
          ]
        }
      ]
    },
    {
      "cell_type": "code",
      "source": [
        "Movie_Name = input('Enter your favourite movie name :')\n",
        "list_of_all_titles = df['Movie_Title'].tolist()\n",
        "Find_Close_Match = difflib.get_close_matches(Movie_Name, list_of_all_titles)\n",
        "Close_Match = Find_Close_Match[0]\n",
        "Index_of_Movie = df[df.Movie_Title ==Close_Match][\"Movie_ID\"].values[0]\n",
        "Recommendation_Score =list(enumerate(Similarity_Score[Index_of_Movie]))\n",
        "Sorted_Similar_Movies = sorted(Recommendation_Score, key = lambda x:x[1], reverse = True)\n",
        "print('Top 10 Movies suggested for you')\n",
        "i = 1\n",
        "for movie in Sorted_Similar_Movies:\n",
        "  index =movie[0]\n",
        "  title_from_index = df[df.Movie_ID==index]['Movie_Title'].values\n",
        "  if (i<11):\n",
        "    print(i, '.',title_from_index)\n",
        "    i+=1\n"
      ],
      "metadata": {
        "colab": {
          "base_uri": "https://localhost:8080/"
        },
        "id": "icu_1W74wcVG",
        "outputId": "15e7c430-18fb-4c02-c95b-425e724720a6"
      },
      "execution_count": null,
      "outputs": [
        {
          "output_type": "stream",
          "name": "stdout",
          "text": [
            "Enter your favourite movie name :Avengers\n",
            "Top 10 Movies suggested for you\n",
            "1 . ['The Avengers']\n",
            "2 . ['Pokémon: Spell of the Unknown']\n",
            "3 . [\"Singin' in the Rain\"]\n",
            "4 . ['From Here to Eternity']\n",
            "5 . ['Walking With Dinosaurs']\n",
            "6 . ['In the Land of Women']\n",
            "7 . ['Rumble in the Bronx']\n",
            "8 . ['Pocketful of Miracles']\n",
            "9 . ['Congo']\n",
            "10 . ['Mommie Dearest']\n"
          ]
        }
      ]
    }
  ]
}